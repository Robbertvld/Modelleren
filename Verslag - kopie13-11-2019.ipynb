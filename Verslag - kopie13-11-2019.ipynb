{
 "cells": [
  {
   "cell_type": "markdown",
   "metadata": {},
   "source": [
    "# Verslag modelleren"
   ]
  },
  {
   "cell_type": "markdown",
   "metadata": {},
   "source": [
    "*gemaakt door Kees Brouwer en Robbert van Nieuwkerk*"
   ]
  },
  {
   "cell_type": "markdown",
   "metadata": {},
   "source": [
    "Eerst het importeren van de benodigde libraries"
   ]
  },
  {
   "cell_type": "code",
   "execution_count": 1,
   "metadata": {
    "code_folding": []
   },
   "outputs": [],
   "source": [
    "# importeren libs\n",
    "import numpy as np\n",
    "import pandas as pd\n",
    "import datetime\n",
    "from itertools import product\n",
    "# import itertools\n",
    "import pickle\n",
    "import copy\n",
    "\n",
    "# import sys\n",
    "# import dovpanda\n",
    "import Hulpfuncties\n",
    "import CrewCombined"
   ]
  },
  {
   "cell_type": "code",
   "execution_count": 2,
   "metadata": {},
   "outputs": [],
   "source": [
    "# print(sys.getsizeof(dfSprint1))"
   ]
  },
  {
   "cell_type": "markdown",
   "metadata": {},
   "source": [
    "er moet ook nog een keer worden uitgelegd wat er in welk df staat en wat er met ieder df is gedaan voordat het geimporteerd is. !TODO"
   ]
  },
  {
   "cell_type": "markdown",
   "metadata": {},
   "source": [
    "Het gegeven excelbestand wat de informatie vat, is op een aantal punten aangepast voordat het is geimporteerd. \n",
    "Het bestand heeft voor iedere skill een aparte kolom. Mocht de skill nodig zijn voor de gegeven opdracht, dan staat er een 'x' in deze kolom. Ditzelfde is gedaan met de skills van medewerkers, de dagen waarop de medewerkers werken en voor de kamers waarin de opdrachten moeten worden uitgevoerd. Voor de additional tasks zijn er een aantal opdracht die in iedere sprint moeten worden uitgevoerd. Deze zijn opgesplitst, voor iedere sprint een aparte lijn. Hierbij is ook een kolom toegevoegd met het aantal frequenties voor deze opdracht. Ook is er een kolom toegevoegd bij het tabblad 'additional tasks' waarin staat aangegeven met hoeveel personen het minimaal moet worden uitgevoerd.\n",
    "Hieronder worden de verschillende tabbladen ingelezen en toegekent aan een dataframe.\n",
    "Verdere bewerkingen op de data worden gedaan in dit document.\n"
   ]
  },
  {
   "cell_type": "code",
   "execution_count": 3,
   "metadata": {
    "code_folding": []
   },
   "outputs": [],
   "source": [
    "# importeren data\n",
    "dfProjectTasks = pd.read_excel('MODPRdataset.xlsx', sheet_name ='Project tasks')\n",
    "dfAdditionalTasks = pd.read_excel('MODPRdataset.xlsx', sheet_name ='Additional tasks')\n",
    "dfCrew = pd.read_excel('MODPRdataset.xlsx', sheet_name ='Crew')\n",
    "dfRooms = pd.read_excel('MODPRdataset.xlsx', sheet_name ='Rooms')\n",
    "dfHiring = pd.read_excel('MODPRdataset.xlsx', sheet_name ='Hiring')"
   ]
  },
  {
   "cell_type": "markdown",
   "metadata": {},
   "source": [
    "Het schoonmaken van de cel, hierdoor kunnen we waardes makkelijker worden teruggevonden dan NaN"
   ]
  },
  {
   "cell_type": "code",
   "execution_count": 4,
   "metadata": {
    "code_folding": []
   },
   "outputs": [],
   "source": [
    "# aanpassen van de data (NaN -> 0 en x -> 1)\n",
    "dfProjectTasks = dfProjectTasks.fillna(0)\n",
    "dfAdditionalTasks = dfAdditionalTasks.fillna(0)\n",
    "dfCrew = dfCrew.fillna(0)\n",
    "dfRooms = dfRooms.fillna(1)\n",
    "\n",
    "dfProjectTasks.replace(\"x\", 1, inplace=True)\n",
    "dfAdditionalTasks.replace(\"x\", 1, inplace=True)\n",
    "dfCrew.replace(\"x\", 1, inplace=True)\n"
   ]
  },
  {
   "cell_type": "markdown",
   "metadata": {},
   "source": [
    "**Belangrijke info voor het plannen**\n",
    "- De ingehuurde mensen hebben skill 1 en 8 \n",
    "- kort inhuren is maximaal 60 uur\n",
    "- het bedrijf is van 9-18 open\n",
    "- een crewlid kan niet meer dan 3 uur achter elkaar werken, daarna een half uur pauze\n",
    "- een crewlid werkt nooit meer dan 7 uur op een dag\n",
    "- kan een 'acquire skill' kan voor ieder crewlid worden gedaan, geen beperking in aantal \n",
    "- crewleden moet te samen aan de skills komen voor de opdracht.\n",
    "- Mensen die skill één niet hebben, hoeven deze niet te leren\n",
    "- Een crewleden kunnen alleen aan eengesloten uren aan een project task werken. Dit mag niet worden doorbroken met een andere task. Met additional tasks mag dit wel. \n",
    "- iedereen moet tegelijk aan het project werken als ze op hetzelfde project staan."
   ]
  },
  {
   "cell_type": "markdown",
   "metadata": {},
   "source": [
    "Moet A volledig worden afgerond of maar 1 keer van het aantal frequenties? Moet volledig worden ingepland"
   ]
  },
  {
   "cell_type": "markdown",
   "metadata": {},
   "source": [
    "We maken een soort kalender, startend op 6 januari 2020 en geen weekend dagen erin.\n",
    "Hiervan maken we een dataframe met de volgende kolommen:\n",
    "- datum\n",
    "- een kolom met dataframes met de volgende punten:\n",
    "    - tijd per halfuur\n",
    "    - persoon\n",
    "    - aantal uren te gaan\n",
    "    - hierin staan de projecten met de kamer\n",
    "- Of het een werkdag is (T/F)\n",
    "- In welke sprint de dag zich bevindt."
   ]
  },
  {
   "cell_type": "code",
   "execution_count": 5,
   "metadata": {
    "code_folding": []
   },
   "outputs": [],
   "source": [
    "# het maken van een dataframe als kalender << deze moet worden aangepast naar de info van hierboven\n",
    "\n",
    "data = pd.date_range(\"2020-01-06\", periods=4*10*7, freq='D')\n",
    "\n",
    "columns = ['Datum', 'Sprint', 'Weeknummer', 'DagRooster', 'Werkdag']\n",
    "\n",
    "dfKalenderCrew = pd.DataFrame(columns=columns)\n",
    "dfKalenderCrew['Datum'] = data\n",
    "dfKalenderCrew = dfKalenderCrew.fillna(0)\n",
    "dfKalenderCrew.replace(\"0\", False, inplace=True)\n",
    "\n",
    "dfKalenderCrew['Werkdag'] = dfKalenderCrew['Datum'].apply(lambda Datum: Datum.isoweekday() in range (1,6))"
   ]
  },
  {
   "cell_type": "code",
   "execution_count": 6,
   "metadata": {},
   "outputs": [],
   "source": [
    "dfKalenderCrew = dfKalenderCrew[dfKalenderCrew['Werkdag']]\n",
    "dfKalenderCrew = dfKalenderCrew.reset_index(drop=True)"
   ]
  },
  {
   "cell_type": "code",
   "execution_count": 7,
   "metadata": {},
   "outputs": [],
   "source": [
    "dfKalenderRoom = pickle.loads(pickle.dumps(dfKalenderCrew)) # het maken van een kalender van de kamers, tot dit punt waren de df's hetzelfde"
   ]
  },
  {
   "cell_type": "code",
   "execution_count": 8,
   "metadata": {
    "code_folding": []
   },
   "outputs": [],
   "source": [
    "# een paar standaard variabele om de code leesbaar te maken.\n",
    "rangeSkills = range(1,14)\n",
    "rangeWorkdays = range(14,19)\n",
    "rangeRooms = range(14,20)"
   ]
  },
  {
   "cell_type": "markdown",
   "metadata": {},
   "source": [
    "functie waarbij de lijst van ReqSkill moet worden ingevuld van de Task en de skills van een persoon. De functie geeft een boolean terug of deze taak door deze persoon kan worden gedaan.\n",
    "\n",
    "voorbeeld: <br>\n",
    "OpdrachtUitvoeren(dfProjectTasks.iloc[0,rangeSkills],dfCrew.iloc[0,rangeSkills]) \n",
    "<br>uitkomst: False"
   ]
  },
  {
   "cell_type": "code",
   "execution_count": 9,
   "metadata": {
    "code_folding": []
   },
   "outputs": [],
   "source": [
    "# def OpdrachtUitvoerenPersoonBool(eisen, persoon):\n",
    "#     for i in rangeSkills:\n",
    "#         result = (int(eisen[i-1]) <= int(persoon[i-1]))\n",
    "#         if result == False:\n",
    "#             break\n",
    "#     return result"
   ]
  },
  {
   "cell_type": "markdown",
   "metadata": {},
   "source": [
    "de functie hieronder voegt de skills van personen samen en geeft de gezamelijke skills terug en het surplus.\n",
    "\n",
    "voorbeeld: PersonenSamenvoegen(dfCrew.iloc[0,rangeSkills],dfCrew.iloc[2,rangeSkills])\n",
    "<br>\n",
    "uitkomst: [1, 1, 1, 1, 1, 1, 0, 1, 1, 1, 1, 1, 1, 1]"
   ]
  },
  {
   "cell_type": "code",
   "execution_count": 10,
   "metadata": {
    "code_folding": []
   },
   "outputs": [],
   "source": [
    "# def PersonenSamenvoegen(persoon1, persoon2 = [0]*13, persoon3 = [0]*13, persoon4 = [0]*13, persoon5 = [0]*13, persoon6 = [0]*13):\n",
    "#     combinedSkill = []\n",
    "#     surplus = 0 \n",
    "#     for i in rangeSkills:\n",
    "#         combinedSkill.append(int(1) if persoon1[i-1]+persoon2[i-1]+persoon3[i-1]+persoon4[i-1]+persoon5[i-1]+persoon6[i-1] > 0 else int(0))\n",
    "#         surplus = surplus + (persoon1[i-1]+persoon2[i-1]+persoon3[i-1]+persoon4[i-1]+persoon5[i-1]+persoon6[i-1] -1 \n",
    "#                          if persoon1[i-1]+persoon2[i-1]+persoon3[i-1]+persoon4[i-1]+persoon5[i-1]+persoon6[i-1] > 0 else int(0))\n",
    "#     combinedSkill.append(surplus)\n",
    "#     return combinedSkill"
   ]
  },
  {
   "cell_type": "code",
   "execution_count": 11,
   "metadata": {
    "code_folding": []
   },
   "outputs": [],
   "source": [
    "# het selecteren van alleen de tasks van sprint 1 en het dataframe maken met de columnnames en het resetten van de index\n",
    "dfProjectTasks = dfProjectTasks[dfProjectTasks['Task'] != 0]\n",
    "dfSprint1 = pd.DataFrame(dfProjectTasks[dfProjectTasks['Task'].str.contains('S1')], \n",
    "                         columns= list(dfProjectTasks)).reset_index(drop=True)\n"
   ]
  },
  {
   "cell_type": "code",
   "execution_count": 12,
   "metadata": {
    "code_folding": []
   },
   "outputs": [],
   "source": [
    "# het maken van de kolom crew en het aanpassen van het typen naar object zodat er een list of array kan worden toegevoegd aan die kolom.\n",
    "dfSprint1.loc[:,'Crew']= [20]*len(dfSprint1)\n",
    "dfSprint1['Crew'] = dfSprint1['Crew'].astype(object)"
   ]
  },
  {
   "cell_type": "code",
   "execution_count": 13,
   "metadata": {
    "code_folding": []
   },
   "outputs": [],
   "source": [
    "# # het verzamelen van data van alle gezamelijke skills in staan tot aan 7 personen\n",
    "\n",
    "# dfCrewCombined = []\n",
    "# for i in range(0, len(dfCrew)): \n",
    "#     t = PersonenSamenvoegen(dfCrew.iloc[i,rangeSkills])\n",
    "#     t.append(i)\n",
    "#     t.append(20)\n",
    "#     t.append(20)\n",
    "#     t.append(20)\n",
    "#     t.append(20)\n",
    "#     t.append(20)\n",
    "#     t.append(1)\n",
    "    \n",
    "#     dfCrewCombined.append(t)\n",
    "    \n",
    "#     for j in range(0, len(dfCrew)): # combinaties met twee mensen\n",
    "#         if i==j:\n",
    "#             break\n",
    "#         t = PersonenSamenvoegen(dfCrew.iloc[i,rangeSkills], dfCrew.iloc[j,rangeSkills])\n",
    "#         t.append(i)\n",
    "#         t.append(j)\n",
    "#         t.append(20)\n",
    "#         t.append(20)\n",
    "#         t.append(20)\n",
    "#         t.append(20)\n",
    "#         t.append(2)\n",
    "        \n",
    "#         dfCrewCombined.append(t)\n",
    "\n",
    "#         for k in range(0, len(dfCrew)):\n",
    "#             if i==k or k==j:\n",
    "#                 break\n",
    "        \n",
    "#             t = PersonenSamenvoegen(dfCrew.iloc[i,rangeSkills], dfCrew.iloc[j,rangeSkills], dfCrew.iloc[k,rangeSkills])\n",
    "#             t.append(i)\n",
    "#             t.append(j)\n",
    "#             t.append(k)\n",
    "#             t.append(20)\n",
    "#             t.append(20)\n",
    "#             t.append(20)\n",
    "#             t.append(3)\n",
    "            \n",
    "#             dfCrewCombined.append(t)\n",
    "            \n",
    "#             for l in range(0, len(dfCrew)):\n",
    "#                 if l == k or l == i or l == j :\n",
    "#                     break\n",
    "#                 t = PersonenSamenvoegen(dfCrew.iloc[i,rangeSkills], dfCrew.iloc[j,rangeSkills],\n",
    "#                                         dfCrew.iloc[k,rangeSkills], dfCrew.iloc[l,rangeSkills])\n",
    "#                 t.append(i)\n",
    "#                 t.append(j)\n",
    "#                 t.append(k)\n",
    "#                 t.append(l)\n",
    "#                 t.append(20)\n",
    "#                 t.append(20)\n",
    "#                 t.append(4)\n",
    "#                 dfCrewCombined.append(t)\n",
    "\n",
    "#                 for m in range(0, len(dfCrew)):\n",
    "#                     if m==l or m==k or m==j or m==i:\n",
    "#                         break\n",
    "#                     t = PersonenSamenvoegen(dfCrew.iloc[i,rangeSkills], dfCrew.iloc[j,rangeSkills],\n",
    "#                                             dfCrew.iloc[k,rangeSkills], dfCrew.iloc[l,rangeSkills], \n",
    "#                                             dfCrew.iloc[m,rangeSkills])\n",
    "#                     t.append(i)\n",
    "#                     t.append(j)\n",
    "#                     t.append(k)\n",
    "#                     t.append(l)\n",
    "#                     t.append(m)\n",
    "#                     t.append(20)\n",
    "#                     t.append(5)\n",
    "#                     dfCrewCombined.append(t)\n",
    "                    \n",
    "#                     for n in range(0, len(dfCrew)):\n",
    "#                         if n==m or n==l or n==k or n==j or n==i:\n",
    "#                             break\n",
    "#                         t = PersonenSamenvoegen(dfCrew.iloc[i,rangeSkills], dfCrew.iloc[j,rangeSkills],\n",
    "#                                                 dfCrew.iloc[k,rangeSkills], dfCrew.iloc[l,rangeSkills], \n",
    "#                                                 dfCrew.iloc[m,rangeSkills], dfCrew.iloc[n,rangeSkills])\n",
    "#                         t.append(i)\n",
    "#                         t.append(j)\n",
    "#                         t.append(k)\n",
    "#                         t.append(l)\n",
    "#                         t.append(m)\n",
    "#                         t.append(n)\n",
    "#                         t.append(6)\n",
    "#                         dfCrewCombined.append(t)"
   ]
  },
  {
   "cell_type": "markdown",
   "metadata": {},
   "source": [
    "het dataframe dfCrewCombined is een dataframe met alle skills van de medewerkers gezamelijk. Zodra er bij een van de personen '20' staat, betekent dit dat er geen persoon voor die plek is toegevoegd. in het dataframe staan combinaties met twee personen tot zeven ('vo) personen.\n"
   ]
  },
  {
   "cell_type": "code",
   "execution_count": 14,
   "metadata": {
    "code_folding": []
   },
   "outputs": [],
   "source": [
    "# # het maken van het dataframe dfCrewCombined en het wegschrijven in csv.\n",
    "# ar = np.array(dfCrewCombined, dtype=np.int16) \n",
    "# dfCrewCombined = pd.DataFrame(ar, columns= ['Skill1', 'Skill2', 'Skill3', 'Skill4', 'Skill5', 'Skill6', 'Skill7', 'Skill8', \n",
    "#                                 'Skill9', 'Skill10', 'Skill11', 'Skill12', 'Skill13', 'Surplus', 'persoon1', 'persoon2', \n",
    "#                                 'persoon3', 'persoon4', 'persoon5', 'persoon6', 'Aantalpersonen'])"
   ]
  },
  {
   "cell_type": "code",
   "execution_count": 15,
   "metadata": {
    "code_folding": []
   },
   "outputs": [],
   "source": [
    "# # creeren van de kolom 'sum' zodat we weten hoeveel skill de crew gecombineerd heeft\n",
    "# dfCrewCombined['sum'] = dfCrewCombined.iloc[:,0:13].sum(axis = 1) \n",
    "\n",
    "# # sorteren op de kolommen sum en surplus (overschot aan skills) zodat er zo min mogelijk overbodige skills worden gebruikt \n",
    "# dfCrewCombined = dfCrewCombined.sort_values(['sum', 'Surplus'], ascending= [True, True])\n",
    "# dfCrewCombined = dfCrewCombined.reset_index(drop=True)\n",
    "\n",
    "# dfCrewCombined.to_csv('CrewCombined.csv', encoding='utf-8', index=False) # schrijven naar csv"
   ]
  },
  {
   "cell_type": "code",
   "execution_count": null,
   "metadata": {},
   "outputs": [],
   "source": [
    "CrewCombined.MakeCrewCombined(dfCrew)"
   ]
  },
  {
   "cell_type": "code",
   "execution_count": null,
   "metadata": {},
   "outputs": [],
   "source": [
    "dfCrewCombined = pd.read_csv('CrewCombined.csv') # lezen van csv zodra die in wdir staat."
   ]
  },
  {
   "cell_type": "code",
   "execution_count": null,
   "metadata": {},
   "outputs": [],
   "source": [
    "class MogelijkeCombinaties:\n",
    "    def __init__(self, dfMogelijkheden, aantalMogelijkheden):\n",
    "        self.dfMogelijkheden = dfMogelijkheden\n",
    "        self.aantalMogelijkheden = aantalMogelijkheden"
   ]
  },
  {
   "cell_type": "code",
   "execution_count": null,
   "metadata": {},
   "outputs": [],
   "source": [
    "class Rooster:\n",
    "    def __init__(self, dfRooster):\n",
    "        self.dfRooster = dfRooster"
   ]
  },
  {
   "cell_type": "code",
   "execution_count": null,
   "metadata": {
    "code_folding": []
   },
   "outputs": [],
   "source": [
    "def Lijstmogelijkheden(crew, duration): # lijst met mogelijke data wordt teruggegeven zodra de lijn van de crew en de duur van de task wordt ingevuld\n",
    "    lijstmogelijkheden = []\n",
    "    for dag in werkdagen:\n",
    "        if crew == dag.crew:\n",
    "            if dag.urenTeGaan >= duration :\n",
    "                lijstmogelijkheden.append(dag)\n",
    "    if len(lijstmogelijkheden) == 0:\n",
    "        lijstmogelijkheden.append(RoosterDag(\"geen medewerker\",datetime.date(2100,1,1)))\n",
    "                                  \n",
    "    return lijstmogelijkheden"
   ]
  },
  {
   "cell_type": "code",
   "execution_count": null,
   "metadata": {},
   "outputs": [],
   "source": [
    "dfSprint1.loc[:,'Mogelijkheden']= [20]*len(dfSprint1)\n",
    "dfSprint1.loc[:,'AantalMogelijkheden']= [20]*len(dfSprint1)\n",
    "dfSprint1['Mogelijkheden'] = dfSprint1['Mogelijkheden'].astype(object)\n",
    "dfSprint1['AantalMogelijkheden'] = dfSprint1['AantalMogelijkheden'].astype(int)\n",
    "dfSprint1['MaxReqCrew'].replace(0, 6, inplace=True)\n"
   ]
  },
  {
   "cell_type": "raw",
   "metadata": {},
   "source": [
    "voorbeeld: ZoekKamers(dfSprint1.iloc[0,14:20])\n",
    "['workspace A',\n",
    " 'workspace B',\n",
    " 'workspace C',\n",
    " 'workshop A',\n",
    " 'workshop B',\n",
    " 'workshop C',\n",
    " 'assembly A',\n",
    " 'assembly B']"
   ]
  },
  {
   "cell_type": "code",
   "execution_count": null,
   "metadata": {
    "code_folding": []
   },
   "outputs": [],
   "source": [
    "def ZoekKamers(eisenKamers):\n",
    "    lijstkamers = []\n",
    "    for i in range(0, len(eisenKamers)):\n",
    "        if list(eisenKamers)[i] == 1:\n",
    "            if (\"****\" in list(dfSprint1)[14+i]):\n",
    "                lijstkamers.append(\"assembly A\")\n",
    "                lijstkamers.append(\"assembly B\")\n",
    "            if (\"***\" in list(dfSprint1)[14+i] and not \"****\" in list(dfSprint1)[14+i]):\n",
    "                lijstkamers.append(\"workshop A\")\n",
    "                lijstkamers.append(\"workshop B\")\n",
    "                lijstkamers.append(\"workshop C\")\n",
    "            if (\"**\" in list(dfSprint1)[14+i] and not \"***\" in list(dfSprint1)[14+i]):\n",
    "                lijstkamers.append(\"workspace A\")\n",
    "                lijstkamers.append(\"workspace B\")\n",
    "                lijstkamers.append(\"workspace C\")\n",
    "                \n",
    "            elif (\"4\" in list(dfSprint1)[14+i] or \"5\" in list(dfSprint1)[14+i]):\n",
    "                lijstkamers.append(\"office A1\")\n",
    "                lijstkamers.append(\"office A2\")\n",
    "                lijstkamers.append(\"office A3\")\n",
    "                lijstkamers.append(\"office A4\")\n",
    "                lijstkamers.append(\"office A5\")\n",
    "                lijstkamers.append(\"office B1\")\n",
    "                lijstkamers.append(\"office B2\")\n",
    "                lijstkamers.append(\"office B3\")\n",
    "                lijstkamers.append(\"office B4\")\n",
    "                lijstkamers.append(\"office C1\")\n",
    "                lijstkamers.append(\"office C2\")\n",
    "                lijstkamers.append(\"office C3\")\n",
    "                lijstkamers.append(\"office C4\")\n",
    "                \n",
    "            elif (\"technical\" in list(dfSprint1)[14+i]):\n",
    "                lijstkamers.append(\"technical A\")\n",
    "                lijstkamers.append(\"technical B\")\n",
    "                \n",
    "    return lijstkamers"
   ]
  },
  {
   "cell_type": "raw",
   "metadata": {},
   "source": [
    "voorbeeld: \n",
    "ZoekOpdrachten(dfSprint1.iloc[0,rangeSkills])\n",
    "[[9, 0, 20, 20, 20, 20],\n",
    " [10, 9, 20, 20, 20, 20],\n",
    " [10, 9, 0, 20, 20, 20],\n",
    " [11, 10, 20, 20, 20, 20],\n",
    " [11, 4, 20, 20, 20, 20], ...."
   ]
  },
  {
   "cell_type": "code",
   "execution_count": null,
   "metadata": {
    "code_folding": []
   },
   "outputs": [],
   "source": [
    "def ZoekOpdrachten(project, MinMaxPersonen):\n",
    "    crew = []\n",
    "    for i in range(0, len(dfCrewCombined)):\n",
    "        if (dfCrewCombined.Aantalpersonen[i] >= MinMaxPersonen[0] and dfCrewCombined.Aantalpersonen[i] <= MinMaxPersonen[1]):\n",
    "            if (Hulpfuncties.OpdrachtUitvoerenPersoonBool(project, dfCrewCombined.iloc[i,0:13])):\n",
    "                crew.append(list(dfCrewCombined.iloc[i,14:20]))\n",
    "    return crew\n",
    "                        "
   ]
  },
  {
   "cell_type": "code",
   "execution_count": null,
   "metadata": {},
   "outputs": [],
   "source": [
    "dfSprint1['Voltooid'] = False\n",
    "dfSprint1['Eis'] = \"\"\n",
    "dfSprint1['Eis']=dfSprint1['Task'].apply(lambda Task: Task[:-1]+'A' if Task.endswith('B') else 'no')\n",
    "dfSprint1['Moment Voltooid']= \"\"\n",
    "dfSprint1['Dag Voltooid'] = \"\""
   ]
  },
  {
   "cell_type": "code",
   "execution_count": null,
   "metadata": {},
   "outputs": [],
   "source": [
    "# for i in range(0,len(dfSprint1)):\n",
    "#     a = ZoekKamers(dfSprint1.iloc[i,14:20])\n",
    "#     b = ZoekOpdrachten(dfSprint1.iloc[i,rangeSkills], dfSprint1.iloc[i,20:22]) \n",
    "#     c = pd.DataFrame(data = [[a]*len(b),b])\n",
    "#     dfSprint1.iloc[i,26] = MogelijkeCombinaties(c.T, len(a) * len(b))\n",
    "#     dfSprint1.iloc[i,27] = (dfSprint1[\"Frequency\"][i]*dfSprint1[\"MinReqCrew\"][i]) # >> is een optie, hoeft op zich niet, misschien wel makkelijker"
   ]
  },
  {
   "cell_type": "code",
   "execution_count": null,
   "metadata": {},
   "outputs": [],
   "source": [
    "# # het schrijven van dfSprint naar een pickle bestand\n",
    "# filehandler = open('dfSprint.obj', 'wb') \n",
    "# pickle.dump(dfSprint1, filehandler)"
   ]
  },
  {
   "cell_type": "code",
   "execution_count": null,
   "metadata": {},
   "outputs": [],
   "source": [
    "# het lezen van dfSprint1, met meerdere keren runnen een heel stuk sneller\n",
    "filehandler = open('dfSprint.obj', 'rb') \n",
    "dfSprint1 = pickle.load(filehandler)"
   ]
  },
  {
   "cell_type": "code",
   "execution_count": null,
   "metadata": {},
   "outputs": [],
   "source": [
    "dfSprint1 = dfSprint1.sort_values(['AantalMogelijkheden'], ascending= [False])\n",
    "dfSprint1 = dfSprint1.reset_index(drop=True)"
   ]
  },
  {
   "cell_type": "code",
   "execution_count": null,
   "metadata": {},
   "outputs": [],
   "source": [
    "Eisen = dfSprint1.Eis.unique().tolist()\n",
    "Eisen.remove('no')\n",
    "\n",
    "dfSprint1 = (dfSprint1.loc[dfSprint1['Task'].isin(Eisen)].append(dfSprint1.loc[~dfSprint1['Task'].isin(Eisen)])).reset_index(drop=True)"
   ]
  },
  {
   "cell_type": "code",
   "execution_count": null,
   "metadata": {},
   "outputs": [],
   "source": [
    "# het maken van een dataframe als kalender << deze moet worden aangepast naar de info van hierboven\n",
    "tijd = pd.date_range(\"09:00\", \"17:30\", freq=\"30min\").time\n",
    "tijd = np.delete(tijd, 13, axis=0)\n",
    "tijd = np.delete(tijd, 6, axis=0)\n",
    "\n",
    "columns = np.array(dfCrew['Crew members'])\n",
    "\n",
    "dfRooster = pd.DataFrame(columns=columns)\n",
    "dfRooster['Tijd'] = tijd\n",
    "dfRooster = dfRooster.fillna(0)\n",
    "dfRooster.replace(\"0\", False, inplace=True)\n",
    "\n",
    "# volgorde veranderen\n",
    "cols = dfRooster.columns.tolist()\n",
    "cols = cols[-1:] + cols[:-1]\n",
    "dfRooster = dfRooster[cols]"
   ]
  },
  {
   "cell_type": "code",
   "execution_count": null,
   "metadata": {},
   "outputs": [],
   "source": [
    "lijstkamers = dfRooms['Room'].iloc[0:10].tolist()\n",
    "\n",
    "lijstkamers.append(\"office A1\")\n",
    "lijstkamers.append(\"office A2\")\n",
    "lijstkamers.append(\"office A3\")\n",
    "lijstkamers.append(\"office A4\")\n",
    "lijstkamers.append(\"office A5\")\n",
    "lijstkamers.append(\"office B1\")\n",
    "lijstkamers.append(\"office B2\")\n",
    "lijstkamers.append(\"office B3\")\n",
    "lijstkamers.append(\"office B4\")\n",
    "lijstkamers.append(\"office C1\")\n",
    "lijstkamers.append(\"office C2\")\n",
    "lijstkamers.append(\"office C3\")\n",
    "lijstkamers.append(\"office C4\")\n",
    "\n",
    "dfRoosterKamer = pd.DataFrame(columns=lijstkamers)\n",
    "dfRoosterKamer['Tijd'] = tijd\n",
    "dfRoosterKamer = dfRoosterKamer.fillna(0)\n",
    "dfRoosterKamer.replace(\"0\", False, inplace=True)\n",
    "\n",
    "# volgorde veranderen\n",
    "cols = dfRoosterKamer.columns.tolist()\n",
    "cols = cols[-1:] + cols[:-1]\n",
    "dfRoosterKamer = dfRoosterKamer[cols]\n"
   ]
  },
  {
   "cell_type": "code",
   "execution_count": null,
   "metadata": {},
   "outputs": [],
   "source": [
    "a = [7]*(len(dfRooster.iloc[1, :])-1)\n",
    "a.insert(0,'urenTeGaan')\n",
    "\n",
    "b = dfRooster.columns.tolist()\n",
    "new_row = pd.DataFrame(a).T\n",
    "new_row.columns = b\n",
    "\n",
    "dfRooster = pd.concat([new_row, dfRooster]).reset_index(drop = True)\n",
    "StandaardRooster = dfRooster"
   ]
  },
  {
   "cell_type": "code",
   "execution_count": null,
   "metadata": {},
   "outputs": [],
   "source": [
    "# inplannen stand-up op dinsdagochtend\n",
    "dfRoosterDinsdag = copy.deepcopy(dfRooster)\n",
    "dfRoosterDinsdag.iloc[1:7,1:14] = \"weekly stand-up\"\n",
    "dfRoosterDinsdag.iloc[0,1:14] = 4\n",
    "\n",
    "dfRoosterKamerDinsdag = copy.deepcopy(dfRoosterKamer)\n",
    "dfRoosterKamerDinsdag.loc[0:5, 'workshop A'] =\"weekly stand-up\""
   ]
  },
  {
   "cell_type": "code",
   "execution_count": null,
   "metadata": {},
   "outputs": [],
   "source": [
    "for i in range(0,5): # het maken van de lege roosters voor week 1\n",
    "    if i== 1:\n",
    "        rooster = copy.deepcopy(dfRoosterDinsdag)\n",
    "        rooster.iloc[0,1:] = (np.array(rooster.iloc[0,1:])* np.array(dfCrew.iloc[:,14+i])).tolist() # het maken van de lijst urentegaan met de vermenigvuldiging van de lijst met dagen dat iedereen werkt en een lijst met alleen maar 7's, resultaat: 7 als iemand werkt, als iemand niet werkt, 0.\n",
    "        dfKalenderCrew.DagRooster[i] = Rooster(rooster)\n",
    "        dfKalenderRoom.DagRooster[i] = Rooster(copy.deepcopy(dfRoosterKamerDinsdag))\n",
    "    else:\n",
    "        rooster = copy.deepcopy(StandaardRooster)\n",
    "        rooster.iloc[0,1:] = (np.array(rooster.iloc[0,1:])* np.array(dfCrew.iloc[:,14+i])).tolist() # het maken van de lijst urentegaan met de vermenigvuldiging van de lijst met dagen dat iedereen werkt en een lijst met alleen maar 7's, resultaat: 7 als iemand werkt, als iemand niet werkt, 0.\n",
    "        dfKalenderCrew.DagRooster[i] = Rooster(rooster)\n",
    "        dfKalenderRoom.DagRooster[i] = Rooster(copy.deepcopy(dfRoosterKamer))\n",
    "    \n",
    "for i in range(1,11): # het kopieren van de roosters van week 1 voor de rest van de weken in de sprint\n",
    "    for j in range(0,5):\n",
    "        dfKalenderCrew.DagRooster[i*5 + j] = copy.deepcopy(dfKalenderCrew.DagRooster[j])\n",
    "        dfKalenderRoom.DagRooster[i*5 + j] = copy.deepcopy(dfKalenderRoom.DagRooster[j])"
   ]
  },
  {
   "cell_type": "code",
   "execution_count": null,
   "metadata": {},
   "outputs": [],
   "source": [
    "def contains(sub, pri):\n",
    "    M, N = len(pri), len(sub)\n",
    "    i, LAST = 0, M-N+1\n",
    "    while True:\n",
    "        try:\n",
    "            found = pri.index(sub[0], i, LAST) # find first elem in sub\n",
    "        except ValueError:\n",
    "            return False\n",
    "        if pri[found:found+N] == sub:\n",
    "            return [found, found+N-1]\n",
    "        else:\n",
    "            i = found+1"
   ]
  },
  {
   "cell_type": "code",
   "execution_count": null,
   "metadata": {},
   "outputs": [],
   "source": [
    "def CombinatieLijst(lijst1, lijst2):\n",
    "    lijstfinal = []\n",
    "    if ((len(lijst1) == 16) & (len(lijst2) == 16)):\n",
    "        for i in range(0,len(lijst1)):\n",
    "            if((lijst1[i]==0) & (lijst2[i] == 0)):\n",
    "                lijstfinal.append(0)\n",
    "            else:\n",
    "                lijstfinal.append(1)\n",
    "        return lijstfinal\n",
    "    else:\n",
    "        Exception(\"Lengte van de lijst klopt niet\")\n",
    "        return\n",
    "    "
   ]
  },
  {
   "cell_type": "markdown",
   "metadata": {},
   "source": [
    "!TODO opdrachten over twee dagen"
   ]
  },
  {
   "cell_type": "markdown",
   "metadata": {},
   "source": [
    "!TODO Opdracht volgorde veranderen. A moet eerst!"
   ]
  },
  {
   "cell_type": "code",
   "execution_count": null,
   "metadata": {},
   "outputs": [],
   "source": [
    "def InplannenOpdracht(taskdf, dagIndex, dfKalenderCrew, dfKalenderRoom, crewA = []): \n",
    "# task moet een rij van het dataframe dfSprint1 zijn en een dag (als index) van een rij in dfKalenderCrew (verschil ten opzichten van 2020-1-6)\n",
    "#     print(\"Aanroep functie InplannenOpdracht met dagindex: \" + str(dagIndex))\n",
    "        \n",
    "#     print(\"Er wordt ene kopie gemaakt van dfKalenderCrew\")\n",
    "    dfTempCrew = pickle.loads(pickle.dumps(dfKalenderCrew))\n",
    "    dfTempRoom = pickle.loads(pickle.dumps(dfKalenderRoom))\n",
    "    \n",
    "    for crewlijst in taskdf.Mogelijkheden.dfMogelijkheden.iloc[:,1].tolist():\n",
    "#         print(\"De crewlijst die wordt uitgeprobeerd: \" + str(crewlijst))\n",
    "        a = list(set(crewlijst))\n",
    "        try:\n",
    "            a.remove(20)\n",
    "        except:\n",
    "            None\n",
    "        if ((len(set(a) & set(crewA)) >= 1) | (len(crewA)==0)):\n",
    "            lijstVrijeUren = [0]*16\n",
    "            controle = True\n",
    "            dagIndexKopie = dagIndex\n",
    "\n",
    "            freq = 1\n",
    "            while (freq <= int(taskdf.Frequency)) & (taskdf.Voltooid == False):\n",
    "    #             print(\"bovenaan de while loop met: \"+ taskdf.Task)\n",
    "                if (taskdf.Eis != 'no') & (dagIndex == dagIndexKopie):\n",
    "                    eis = dfSprint1[dfSprint1.Task == task.Eis].iloc[0,:]\n",
    "                    lijstVrijeUren = [1]*int(eis[\"Moment Voltooid\"]) + [0]*(16-int(eis[\"Moment Voltooid\"]))\n",
    "                for i in crewlijst:\n",
    "    #                 print(\"Kijken naar i: \" + str(i))\n",
    "                    if (i == 20):\n",
    "                        break\n",
    "                    if ((float(dfKalenderCrew.iloc[dagIndexKopie,:].DagRooster.dfRooster.iloc[0,i+1]))< float(taskdf.Duration)):\n",
    "    #                     print(\"De vergeleken waardes: \"+ str(dfKalenderCrew.iloc[dagIndexKopie,:].DagRooster.dfRooster.iloc[0,i+1])+  \" \"+ str(task.Duration) )\n",
    "    #                     print(\"De controle van het aantal uur te gaan is False\")\n",
    "                        controle = False\n",
    "                        break \n",
    "    #                 print(\"de datum \" + str(dfKalenderCrew.iloc[dagIndexKopie,:].Datum) + \" voor persoon \" +str(i))\n",
    "    #                 print(\"Het aantal uren te gaan voor persoon i \" + str(dfKalenderCrew.iloc[dagIndexKopie,:].DagRooster.dfRooster.iloc[0,i+1]))\n",
    "                    lijstVrijeUren = CombinatieLijst(dfKalenderCrew.iloc[dagIndexKopie,:].DagRooster.dfRooster.iloc[1:,i+1].tolist(), lijstVrijeUren) # voor iedere op hetzelfde moment\n",
    "                duration = [0]*int(round(taskdf.Duration*2))\n",
    "\n",
    "    #             print(\"De lijstvrije uren ziet er als uit: \" + str(lijstVrijeUren))\n",
    "                if (contains(duration, lijstVrijeUren) != False) & controle:\n",
    "                    rijbegin , rijeind = contains(duration, lijstVrijeUren)\n",
    "\n",
    "    #                 print(\"het begin en het einde van de rij: \"+ str(rijbegin +1) +\" \"+ str(rijeind+1))\n",
    "\n",
    "                    kamerGevonden = False\n",
    "                    for i in taskdf.Mogelijkheden.dfMogelijkheden.iloc[0,0]:\n",
    "                        if (contains(duration, dfKalenderRoom.iloc[dagIndexKopie,:].DagRooster.dfRooster[i].iloc[1:].tolist()) != False):\n",
    "    #                         print(\"kamer gevonden: \" + i)\n",
    "                            dfKalenderRoom.iloc[dagIndexKopie,:].DagRooster.dfRooster[i].iloc[rijbegin:rijeind+1] = taskdf.Task + \" freq: \" + str(freq)\n",
    "                            kamerGevonden = True\n",
    "                            controle = True # later toegevoegd 14:50 - 5-11\n",
    "                            break\n",
    "                        elif ((i == taskdf.Mogelijkheden.dfMogelijkheden.iloc[0,0][-1])& (kamerGevonden == False)):\n",
    "    #                         print(\"Geen kamer gevonden, controle False\")\n",
    "                            controle = False\n",
    "                    if (controle == True):\n",
    "                        for i in crewlijst:\n",
    "                            if i == 20:\n",
    "                                break\n",
    "\n",
    "                            dfKalenderCrew.iloc[dagIndexKopie,:].DagRooster.dfRooster.iloc[rijbegin+1:rijeind+2,i+1] = taskdf.Task + \" freq: \" + str(freq) # + \" \" + str(taskdf.Mogelijkheden.dfMogelijkheden.iloc[crewlijst,0].iloc[0])\n",
    "                            dfKalenderCrew.iloc[dagIndexKopie,:].DagRooster.dfRooster.iloc[0,i+1] = dfKalenderCrew.iloc[dagIndexKopie,:].DagRooster.dfRooster.iloc[0,i+1] - float(taskdf.Duration)\n",
    "\n",
    "                        if (freq == int(taskdf.Frequency)):\n",
    "    #                         print(\"Voltooid \" + taskdf.Task)\n",
    "                            dfSprint1.loc[dfSprint1['Task'] == taskdf.Task, 'Moment Voltooid'] = rijeind +1\n",
    "                            dfSprint1.loc[dfSprint1['Task'] == taskdf.Task, 'Dag Voltooid'] = dagIndexKopie\n",
    "                            dfSprint1.loc[dfSprint1['Task'] == taskdf.Task, 'Voltooid'] = True\n",
    "                            dfSprint1.at[dfSprint1.index[dfSprint1['Task'] == taskdf.Task].tolist()[0], 'Crew'] = crewlijst\n",
    "\n",
    "\n",
    "                            return [dfKalenderCrew, dfKalenderRoom]\n",
    "\n",
    "    #                     print(\"ingepland\" + taskdf.Task + \" \" + str(freq))\n",
    "                        freq += 1\n",
    "                else:\n",
    "    #                 print(\"dagindex wordt verhoogd naar: \" + str(dagIndexKopie+1))\n",
    "                    dagIndexKopie+=1\n",
    "\n",
    "                    controle = True\n",
    "                    lijstVrijeUren = [0]*16\n",
    "                    if (dagIndexKopie == 5):\n",
    "    #                     print(\"Een kopie wordt teruggezet van dfKalenderCrew\")\n",
    "                        dfKalenderCrew = pickle.loads(pickle.dumps(dfTempCrew))\n",
    "                        dfKalenderRoom = pickle.loads(pickle.dumps(dfTempRoom))\n",
    "                        break\n",
    "    return [dfKalenderCrew, dfKalenderRoom]\n",
    "    \n",
    "    "
   ]
  },
  {
   "cell_type": "code",
   "execution_count": null,
   "metadata": {},
   "outputs": [],
   "source": [
    "dfk = pickle.loads(pickle.dumps(dfKalenderCrew))\n",
    "dfr = pickle.loads(pickle.dumps(dfKalenderRoom))\n",
    "dfs = pickle.loads(pickle.dumps(dfSprint1))"
   ]
  },
  {
   "cell_type": "code",
   "execution_count": null,
   "metadata": {},
   "outputs": [],
   "source": [
    "# dfKalenderCrew = pickle.loads(pickle.dumps(dfk))\n",
    "# dfSprint1 = pickle.loads(pickle.dumps(dfs))"
   ]
  },
  {
   "cell_type": "code",
   "execution_count": null,
   "metadata": {
    "scrolled": true
   },
   "outputs": [],
   "source": [
    "for i in range(0,len(dfSprint1)):\n",
    "    task = dfSprint1.iloc[i,:]\n",
    "    dagIndex = 0\n",
    "    # print(task.Task + \" met: \" + str(task.Voltooid))\n",
    "    dfTempCrew = pickle.loads(pickle.dumps(dfKalenderCrew))\n",
    "    dfTempRoom = pickle.loads(pickle.dumps(dfKalenderRoom))\n",
    "    crewA = []\n",
    "    if task.Eis != 'no':\n",
    "        eis = dfSprint1[dfSprint1.Task == task.Eis].iloc[0,:]\n",
    "        dfKalenderCrew, dfKalenderRoom = InplannenOpdracht(eis,dagIndex, dfKalenderCrew, dfKalenderRoom)\n",
    "        eis = dfSprint1[dfSprint1.Task == task.Eis].iloc[0,:]\n",
    "        print(eis.Task)\n",
    "        dagIndex = int(eis['Dag Voltooid'])\n",
    "        crewA = eis.Crew\n",
    "    dfKalenderCrew, dfKalenderRoom = InplannenOpdracht(task,dagIndex, dfKalenderCrew, dfKalenderRoom, crewA)\n",
    "if dfSprint1.Voltooid.sum()< len(dfSprint1):\n",
    "    dfSprint1 = dfSprint1.sort_values(['Voltooid', 'AantalMogelijkheden'], ascending= [True, False])\n",
    "    dfSprint1 = (dfSprint1.loc[dfSprint1['Task'].isin(Eisen)].append(dfSprint1.loc[~dfSprint1['Task'].isin(Eisen)])).reset_index(drop=True)\n",
    "    rows = dfSprint1.Task.tolist()\n",
    "    \n",
    "    dfKalenderCrew = pickle.loads(pickle.dumps(dfk))\n",
    "    dfKalenderRoom = pickle.loads(pickle.dumps(dfr))\n",
    "    dfSprint1 = pickle.loads(pickle.dumps(dfs))\n",
    "    dfSprint1 = dfSprint1.set_index('Task')\n",
    "    dfSprint1 = dfSprint1.reindex(index= rows)\n",
    "    dfSprint1 = dfSprint1.reset_index()\n",
    "    \n",
    "    for i in range(0,len(dfSprint1)):\n",
    "        task = dfSprint1.iloc[i,:]\n",
    "        dagIndex = 0\n",
    "        # print(task.Task + \" met: \" + str(task.Voltooid))\n",
    "        dfTempCrew = pickle.loads(pickle.dumps(dfKalenderCrew))\n",
    "        dfTempRoom = pickle.loads(pickle.dumps(dfKalenderRoom))\n",
    "        crewA = []\n",
    "        if task.Eis != 'no':\n",
    "            eis = dfSprint1[dfSprint1.Task == task.Eis].iloc[0,:]\n",
    "            dfKalenderCrew, dfKalenderRoom = InplannenOpdracht(eis,dagIndex, dfKalenderCrew, dfKalenderRoom)\n",
    "            eis = dfSprint1[dfSprint1.Task == task.Eis].iloc[0,:]\n",
    "            print(eis.Task)\n",
    "            dagIndex = int(eis['Dag Voltooid'])\n",
    "            crewA = eis.Crew\n",
    "        dfKalenderCrew, dfKalenderRoom = InplannenOpdracht(task,dagIndex, dfKalenderCrew, dfKalenderRoom, crewA)"
   ]
  },
  {
   "cell_type": "code",
   "execution_count": null,
   "metadata": {},
   "outputs": [],
   "source": [
    "dfSprint1.iloc[:,[0,20,21,22,23,27,28,29,30,31]]"
   ]
  },
  {
   "cell_type": "code",
   "execution_count": null,
   "metadata": {},
   "outputs": [],
   "source": [
    "dfKalenderCrew.iloc[0,:].DagRooster.dfRooster"
   ]
  },
  {
   "cell_type": "code",
   "execution_count": null,
   "metadata": {},
   "outputs": [],
   "source": [
    "dfKalenderCrew.iloc[1,:].DagRooster.dfRooster"
   ]
  },
  {
   "cell_type": "code",
   "execution_count": null,
   "metadata": {},
   "outputs": [],
   "source": [
    "dfKalenderCrew.iloc[2,:].DagRooster.dfRooster"
   ]
  },
  {
   "cell_type": "code",
   "execution_count": null,
   "metadata": {},
   "outputs": [],
   "source": [
    "dfKalenderCrew.iloc[3,:].DagRooster.dfRooster"
   ]
  },
  {
   "cell_type": "code",
   "execution_count": null,
   "metadata": {},
   "outputs": [],
   "source": [
    "dfKalenderCrew.iloc[4,:].DagRooster.dfRooster"
   ]
  },
  {
   "cell_type": "code",
   "execution_count": null,
   "metadata": {},
   "outputs": [],
   "source": [
    "def EvaluateProgram(dfTasks, dfRoosterVoor, dfRoosterNa):\n",
    "    urenTeGaan, totaal, som, count = [0,0,0,0]\n",
    "    for i in range(0,5): # deze kan worden verhoogt zodra er meer dagen worden ingevuld.\n",
    "        urenTeGaan += sum(dfRoosterVoor.iloc[i,:].DagRooster.dfRooster.iloc[0,:].tolist()[1:])\n",
    "        totaal += sum(dfRoosterNa.iloc[i,:].DagRooster.dfRooster.iloc[0,:].tolist()[1:])\n",
    "    for i in range(0, len(dfTasks)):\n",
    "        som += dfTasks.loc[i, 'MinReqCrew'] * dfTasks.loc[i,'Frequency'] * dfTasks.loc[i,'Duration']\n",
    "        if (dfTasks.Voltooid[i] == False):\n",
    "            count += 1\n",
    "    print(\"Het aantal uur dat nog over is: \" + str(totaal))\n",
    "    print(\"Van het totaal aantal uren: \" + str(urenTeGaan))\n",
    "    print(\"Het aantal uur dat moest worden ingepland: \" + str(som))\n",
    "    print(\"Het aantal opdrachten dat niet zijn ingepland: \" + str(count))"
   ]
  },
  {
   "cell_type": "code",
   "execution_count": null,
   "metadata": {},
   "outputs": [],
   "source": [
    "EvaluateProgram(dfSprint1,dfk,dfKalenderCrew)"
   ]
  },
  {
   "cell_type": "code",
   "execution_count": null,
   "metadata": {},
   "outputs": [],
   "source": [
    "dfSprint1"
   ]
  },
  {
   "cell_type": "code",
   "execution_count": null,
   "metadata": {},
   "outputs": [],
   "source": [
    "dfKalenderRoom.iloc[0,:].DagRooster.dfRooster"
   ]
  },
  {
   "cell_type": "markdown",
   "metadata": {},
   "source": [
    "!TODO 99% betrouwbaarheidsinterval"
   ]
  },
  {
   "cell_type": "markdown",
   "metadata": {},
   "source": [
    "Het bedrijf werkt in sprints. Om precies te zijn: 4 sprints van elk 10 weken. De weken\n",
    "2 t/m 8 van elke sprint zijn de zogeheten projectweken"
   ]
  },
  {
   "cell_type": "code",
   "execution_count": null,
   "metadata": {
    "scrolled": true
   },
   "outputs": [],
   "source": [
    "# het kopieren van de roosters. Deze zijn voor dit gedeelte gelijk in week 2 tot en met 8. \n",
    "# Hierna moeten de additional tasks worden ingepland.\n",
    "\n",
    "for i in range(1,8):\n",
    "    for j in range(0,5):\n",
    "        dfKalenderRoom.iloc[i*5 + j,:].DagRooster.dfRooster = pickle.loads(pickle.dumps(dfKalenderRoom.iloc[j,:].DagRooster.dfRooster))\n",
    "        dfKalenderCrew.iloc[i*5 + j,:].DagRooster.dfRooster = pickle.loads(pickle.dumps(dfKalenderCrew.iloc[j,:].DagRooster.dfRooster))\n",
    "        \n",
    "for i in range(0,5): # leeg maken van de eerste week.\n",
    "    if i== 1:\n",
    "        rooster = copy.deepcopy(dfRoosterDinsdag)\n",
    "        rooster.iloc[0,1:] = (np.array(rooster.iloc[0,1:])* np.array(dfCrew.iloc[:,14+i])).tolist() # het maken van de lijst urentegaan met de vermenigvuldiging van de lijst met dagen dat iedereen werkt en een lijst met alleen maar 7's, resultaat: 7 als iemand werkt, als iemand niet werkt, 0.\n",
    "        dfKalenderCrew.DagRooster[i] = Rooster(rooster)\n",
    "        dfKalenderRoom.DagRooster[i] = Rooster(copy.deepcopy(dfRoosterKamerDinsdag))\n",
    "    else:\n",
    "        rooster = copy.deepcopy(StandaardRooster)\n",
    "        rooster.iloc[0,1:] = (np.array(rooster.iloc[0,1:])* np.array(dfCrew.iloc[:,14+i])).tolist() # het maken van de lijst urentegaan met de vermenigvuldiging van de lijst met dagen dat iedereen werkt en een lijst met alleen maar 7's, resultaat: 7 als iemand werkt, als iemand niet werkt, 0.\n",
    "        dfKalenderCrew.DagRooster[i] = Rooster(rooster)\n",
    "        dfKalenderRoom.DagRooster[i] = Rooster(copy.deepcopy(dfRoosterKamer))"
   ]
  },
  {
   "cell_type": "markdown",
   "metadata": {},
   "source": [
    "!TODO de mensen die de prep uitvoeren, moeten ook de projecttasks en post doen."
   ]
  },
  {
   "cell_type": "markdown",
   "metadata": {},
   "source": [
    "Wanneer kan er met de prep check-up worden begonnen en wanneer kan de check-up worden gedaan?"
   ]
  },
  {
   "cell_type": "code",
   "execution_count": null,
   "metadata": {},
   "outputs": [],
   "source": [
    "dfk = pickle.loads(pickle.dumps(dfKalenderCrew))\n",
    "dfs = pickle.loads(pickle.dumps(dfSprint1))\n",
    "dfr = pickle.loads(pickle.dumps(dfKalenderRoom))\n"
   ]
  },
  {
   "cell_type": "code",
   "execution_count": null,
   "metadata": {},
   "outputs": [],
   "source": [
    "dfAdditionalTasks = pd.read_excel('MODPRdataset.xlsx', sheet_name ='Additional tasks')"
   ]
  },
  {
   "cell_type": "code",
   "execution_count": null,
   "metadata": {},
   "outputs": [],
   "source": [
    "dfAdditionalTasks = dfAdditionalTasks.fillna(0)\n",
    "dfAdditionalTasks.replace(\"x\", 1, inplace=True)"
   ]
  },
  {
   "cell_type": "markdown",
   "metadata": {},
   "source": [
    "!TODO kiezen van de crew director"
   ]
  },
  {
   "cell_type": "code",
   "execution_count": null,
   "metadata": {},
   "outputs": [],
   "source": [
    "dfAdditionalTasks = dfAdditionalTasks[dfAdditionalTasks['Task'] != 0].reset_index(drop=True)\n",
    "dfAdditionalTasks['aantal keer'].replace(0, 1, inplace=True)\n",
    "dfSprint1Add = pd.DataFrame(dfAdditionalTasks[dfAdditionalTasks['Task'].str.contains('S1')]).reset_index(drop=True)\n",
    "dfSprint1Addprep = pd.DataFrame(dfSprint1Add[dfSprint1Add['Task'].str.contains('prep')]).reset_index(drop=True)\n",
    "dfSprint1Addpost = pd.DataFrame(dfSprint1Add[dfSprint1Add['Task'].str.contains('post')]).reset_index(drop=True)\n"
   ]
  },
  {
   "cell_type": "code",
   "execution_count": null,
   "metadata": {},
   "outputs": [],
   "source": [
    "dfAdditionalTasks"
   ]
  },
  {
   "cell_type": "code",
   "execution_count": null,
   "metadata": {},
   "outputs": [],
   "source": [
    "def somOverigeUren(crewlijst, weeknummers):\n",
    "    resultaat = pd.DataFrame(columns=['crew', 'som'])\n",
    "    for i in crewlijst:\n",
    "        som = 0 \n",
    "        if (i == 20):\n",
    "            break\n",
    "        for weeknummer in weeknummers:\n",
    "            for j in range(0 + 5*(weeknummer-1),5*weeknummer):\n",
    "                som += dfKalenderCrew.iloc[j,:].DagRooster.dfRooster.iloc[0,i+1] # want kolom tijd wordt ook meegenomen\n",
    "        resultaat = resultaat.append({'crew':i,'som': int(som)}, ignore_index=True)\n",
    "    print(resultaat)\n",
    "    if(type(resultaat) == 'NoneType'):\n",
    "        Exception(\"Nonetype\")\n",
    "    return resultaat.sort_values(['som'], ascending= [False])"
   ]
  },
  {
   "cell_type": "code",
   "execution_count": null,
   "metadata": {
    "code_folding": []
   },
   "outputs": [],
   "source": [
    "def InplannenAddPrep(taskdf, dfKalenderCrew, dfKalenderRoom, prep = True): \n",
    "\n",
    "    dfTempCrew = pickle.loads(pickle.dumps(dfKalenderCrew))\n",
    "    dfTempRoom = pickle.loads(pickle.dumps(dfKalenderRoom))\n",
    "    \n",
    "    # crew zelf maken\n",
    "    crew = []\n",
    "    dagIndex = 0\n",
    "    if (taskdf.AdditionalReq == 0):\n",
    "        \n",
    "        task = taskdf.Task[5:]\n",
    "        crewlijst = dfSprint1[dfSprint1.Task == task].iloc[0,:].Crew\n",
    "        minCrew = taskdf['People.1']\n",
    "        \n",
    "        crewlijst = somOverigeUren(crewlijst, [1])['crew'].iloc[:minCrew].to_list()\n",
    "        crewlijst.extend([20]*(6-minCrew))\n",
    "        print(str(crewlijst) + \"%\")        \n",
    "    elif ((len(taskdf.AdditionalReq) > 5) & (len(taskdf.AdditionalReq) < 8)):\n",
    "        crewlijst = dfSprint1[dfSprint1.Task == taskdf.AdditionalReq].iloc[0,:].Crew\n",
    "    elif (len(taskdf.AdditionalReq) > 8 ):\n",
    "        taskA = taskdf.AdditionalReq[0:7]\n",
    "        taskB = taskdf.AdditionalReq[-7:]\n",
    "        taskACrew = dfSprint1[dfSprint1.Task == taskA].iloc[0,:].Crew\n",
    "        taskBCrew = dfSprint1[dfSprint1.Task == taskB].iloc[0,:].Crew\n",
    "        crewlijst = [20]*6\n",
    "        b = list(set(taskACrew)&set(taskBCrew))\n",
    "        try:\n",
    "            b.remove(20)\n",
    "        except:\n",
    "            None\n",
    "        crewlijst[0] = b[0]\n",
    "        \n",
    "    print(crewlijst)\n",
    "    a = list(set(crewlijst))\n",
    "    try:\n",
    "        a.remove(20)\n",
    "    except:\n",
    "        None\n",
    "    aantalCrew = len(a)\n",
    "    print(int(aantalCrew))\n",
    "    print(int(taskdf['People.1']))\n",
    "    if (int(taskdf['People.1'])==int(aantalCrew)):\n",
    "        print(\"nu 1\")\n",
    "        kolom = 1\n",
    "    elif (int(taskdf['People.2'])==int(aantalCrew)):\n",
    "        kolom = 2\n",
    "    elif (int(taskdf['People.3'])==int(aantalCrew)):\n",
    "        kolom = 3\n",
    "    \n",
    "    lijstVrijeUren = [0]*16\n",
    "    controle = True\n",
    "    dagIndexKopie = dagIndex\n",
    "    halfuur = 0\n",
    "    \n",
    "    while halfuur < int(round(taskdf[str(\"DurationExp.\" + str(kolom))]*2)):\n",
    "        for i in crewlijst:\n",
    "            if (i == 20):\n",
    "                break\n",
    "            if ((float(dfKalenderCrew.iloc[dagIndexKopie,:].DagRooster.dfRooster.iloc[0,i+1]))< float(0.5)):\n",
    "                controle = False\n",
    "                break \n",
    "            lijstVrijeUren = CombinatieLijst(dfKalenderCrew.iloc[dagIndexKopie,:].DagRooster.dfRooster.iloc[1:,i+1].tolist(), lijstVrijeUren) # voor iedere op hetzelfde moment\n",
    "        \n",
    "        if (int(round(taskdf[str(\"DurationExp.\" + str(kolom))]*2)) == 0):\n",
    "            dfSprint1Addprep.loc[dfSprint1Addprep['Task'] == taskdf.Task, 'Voltooid'] = True\n",
    "            break\n",
    "\n",
    "\n",
    "        if (contains([0], lijstVrijeUren) != False) & controle:\n",
    "            rijbegin , rijeind = contains([0], lijstVrijeUren)\n",
    "\n",
    "            kamerGevonden = False\n",
    "\n",
    "            kamers = ZoekKamers(taskdf.iloc[14:20])\n",
    "\n",
    "            for kamer in kamers:\n",
    "                if (contains([0], dfKalenderRoom.iloc[dagIndexKopie,:].DagRooster.dfRooster[kamer].iloc[1:].tolist()) != False):\n",
    "\n",
    "                    dfKalenderRoom.iloc[dagIndexKopie,:].DagRooster.dfRooster[kamer].iloc[rijbegin:rijeind+1] = taskdf.Task\n",
    "                    kamerGevonden = True\n",
    "                    controle = True\n",
    "                    break\n",
    "                elif ((kamer == kamers[-1]) & (kamerGevonden == False)):                       \n",
    "                    controle = False\n",
    "\n",
    "            if (controle == True):\n",
    "                for i in crewlijst:\n",
    "                    if i == 20:\n",
    "                        break\n",
    "\n",
    "                    dfKalenderCrew.iloc[dagIndexKopie,:].DagRooster.dfRooster.iloc[rijbegin+1:rijeind+2,i+1] = taskdf.Task \n",
    "                    dfKalenderCrew.iloc[dagIndexKopie,:].DagRooster.dfRooster.iloc[0,i+1] = dfKalenderCrew.iloc[dagIndexKopie,:].DagRooster.dfRooster.iloc[0,i+1] - float(0.5)\n",
    "#                     dfSprint1Addprep.loc[dfSprint1Addprep['Task'] == taskdf.Task, 'Voltooid'] = True\n",
    "                    dfSprint1Addprep.at[dfSprint1Addprep.index[dfSprint1Addprep['Task'] == taskdf.Task].tolist()[0], 'Crew'] = crewlijst\n",
    "                    halfuur +=1\n",
    "#                     return [dfKalenderCrew, dfKalenderRoom]\n",
    "                    if (halfuur == (int(round(taskdf[str(\"DurationExp.\" + str(kolom))]*2))-1)):\n",
    "                        dfSprint1Addprep.loc[dfSprint1Addprep['Task'] == taskdf.Task, 'Voltooid'] = True\n",
    "                        return [dfKalenderCrew, dfKalenderRoom]\n",
    "\n",
    "        else:\n",
    "\n",
    "            dagIndexKopie+=1\n",
    "\n",
    "            controle = True\n",
    "            lijstVrijeUren = [0]*16\n",
    "            if (dagIndexKopie == 5):\n",
    "                dfKalenderCrew = pickle.loads(pickle.dumps(dfTempCrew))\n",
    "                dfKalenderRoom = pickle.loads(pickle.dumps(dfTempRoom))\n",
    "                break\n",
    "\n",
    "    print(\"Niet ingepland\")\n",
    "    return [dfKalenderCrew, dfKalenderRoom]"
   ]
  },
  {
   "cell_type": "code",
   "execution_count": null,
   "metadata": {
    "code_folding": []
   },
   "outputs": [],
   "source": [
    "def InplannenAddPost(taskdf, dfKalenderCrew, dfKalenderRoom, prep = True): \n",
    "\n",
    "    dfTempCrew = pickle.loads(pickle.dumps(dfKalenderCrew))\n",
    "    dfTempRoom = pickle.loads(pickle.dumps(dfKalenderRoom))\n",
    "    \n",
    "    # crew zelf maken\n",
    "    crew = []\n",
    "    dagIndex = 40\n",
    "    if (taskdf.AdditionalReq == 0):\n",
    "        \n",
    "        task = taskdf.Task[5:]\n",
    "        crewlijst = dfSprint1[dfSprint1.Task == task].iloc[0,:].Crew\n",
    "        minCrew = taskdf['People.1']\n",
    "        \n",
    "        crewlijst = somOverigeUren(crewlijst, [9,10])['crew'].iloc[:minCrew].to_list()\n",
    "        crewlijst.extend([20]*(6-minCrew))\n",
    "        print(str(crewlijst) + \"%\")        \n",
    "    elif ((len(taskdf.AdditionalReq) > 5) & (len(taskdf.AdditionalReq) < 8)):\n",
    "        crewlijst = dfSprint1[dfSprint1.Task == taskdf.AdditionalReq].iloc[0,:].Crew\n",
    "    elif (len(taskdf.AdditionalReq) > 8 ):\n",
    "        taskA = taskdf.AdditionalReq[0:7]\n",
    "        taskB = taskdf.AdditionalReq[-7:]\n",
    "        taskACrew = dfSprint1[dfSprint1.Task == taskA].iloc[0,:].Crew\n",
    "        taskBCrew = dfSprint1[dfSprint1.Task == taskB].iloc[0,:].Crew\n",
    "        crewlijst = [20]*6\n",
    "        b = list(set(taskACrew)&set(taskBCrew))\n",
    "        try:\n",
    "            b.remove(20)\n",
    "        except:\n",
    "            None\n",
    "        crewlijst[0] = b[0]\n",
    "        \n",
    "    print(crewlijst)\n",
    "    a = list(set(crewlijst))\n",
    "    kolom = 1\n",
    "    try:\n",
    "        a.remove(20)\n",
    "    except:\n",
    "        None\n",
    "    aantalCrew = len(a)\n",
    "    if (int(taskdf['People.1'])==int(aantalCrew)):\n",
    "        print(\"nu 1\")\n",
    "        kolom = 1\n",
    "    elif (int(taskdf['People.2'])==int(aantalCrew)):\n",
    "        kolom = 2\n",
    "    elif (int(taskdf['People.3'])==int(aantalCrew)):\n",
    "        kolom = 3\n",
    "    \n",
    "    lijstVrijeUren = [0]*16\n",
    "    controle = True\n",
    "    dagIndexKopie = dagIndex\n",
    "    halfuur = 0\n",
    "    \n",
    "    while halfuur < int(round(taskdf[str(\"DurationExp.\" + str(kolom))]*2)):\n",
    "        for i in crewlijst:\n",
    "            if (i == 20):\n",
    "                break\n",
    "            if ((float(dfKalenderCrew.iloc[dagIndexKopie,:].DagRooster.dfRooster.iloc[0,i+1]))< float(0.5)):\n",
    "                print(\"Controle wordt op False gezet\")\n",
    "                controle = False\n",
    "                break \n",
    "            lijstVrijeUren = CombinatieLijst(dfKalenderCrew.iloc[dagIndexKopie,:].DagRooster.dfRooster.iloc[1:,i+1].tolist(), lijstVrijeUren) # voor iedere op hetzelfde moment\n",
    "            print(\"lijst vrije uren: \" + str(lijstVrijeUren))\n",
    "        if (int(round(taskdf[str(\"DurationExp.\" + str(kolom))]*2)) == 0):\n",
    "            print(\"duration is nul\")\n",
    "            dfSprint1Addpost.loc[dfSprint1Addpost['Task'] == taskdf.Task, 'Voltooid'] = True\n",
    "            break\n",
    "\n",
    "\n",
    "        if (contains([0], lijstVrijeUren) != False) & controle:\n",
    "            print(\"rijbegin en rijeind berekenen\")\n",
    "            rijbegin , rijeind = contains([0], lijstVrijeUren)\n",
    "\n",
    "            kamerGevonden = False\n",
    "\n",
    "            kamers = ZoekKamers(taskdf.iloc[14:20])\n",
    "\n",
    "            for kamer in kamers:\n",
    "                print(\"checken voor kamer: \" + str(kamer))\n",
    "                if (contains([0], dfKalenderRoom.iloc[dagIndexKopie,:].DagRooster.dfRooster[kamer].iloc[1:].tolist()) != False):\n",
    "\n",
    "                    dfKalenderRoom.iloc[dagIndexKopie,:].DagRooster.dfRooster[kamer].iloc[rijbegin:rijeind+1] = taskdf.Task\n",
    "                    kamerGevonden = True\n",
    "                    controle = True\n",
    "                    print(\"kamer gevonden, controle true\")\n",
    "                    break\n",
    "                elif ((kamer == kamers[-1]) & (kamerGevonden == False)):   \n",
    "                    print(\"geen kamer gevonden en door alle kamers heen\")\n",
    "                    controle = False\n",
    "\n",
    "            if (controle == True):\n",
    "                for i in crewlijst:\n",
    "                    if i == 20:\n",
    "                        break\n",
    "                    print(\"Het inplannen van een halfuur\")\n",
    "                    dfKalenderCrew.iloc[dagIndexKopie,:].DagRooster.dfRooster.iloc[rijbegin+1:rijeind+2,i+1] = taskdf.Task \n",
    "                    dfKalenderCrew.iloc[dagIndexKopie,:].DagRooster.dfRooster.iloc[0,i+1] = dfKalenderCrew.iloc[dagIndexKopie,:].DagRooster.dfRooster.iloc[0,i+1] - float(0.5)\n",
    "                    dfSprint1Addpost.at[dfSprint1Addpost.index[dfSprint1Addpost['Task'] == taskdf.Task].tolist()[0], 'Crew'] = crewlijst\n",
    "                    halfuur += 1\n",
    "                    \n",
    "                    if (halfuur == (int(round(taskdf[str(\"DurationExp.\" + str(kolom))]*2))-1)):\n",
    "                        print(\"Gelukt, ingepland\")\n",
    "                        dfSprint1Addpost.loc[dfSprint1Addpost['Task'] == taskdf.Task, 'Voltooid'] = True\n",
    "                        return [dfKalenderCrew, dfKalenderRoom]\n",
    "\n",
    "        else:\n",
    "\n",
    "            dagIndexKopie+=1\n",
    "            print(\"dagindex kopie is verhoogd, \" + str(dagIndexKopie))\n",
    "            controle = True\n",
    "            lijstVrijeUren = [0]*16\n",
    "            if (dagIndexKopie == 50):\n",
    "                print(\"dagindex is 50, \"+ str(dagIndexKopie))\n",
    "                dfKalenderCrew = pickle.loads(pickle.dumps(dfTempCrew))\n",
    "                dfKalenderRoom = pickle.loads(pickle.dumps(dfTempRoom))\n",
    "                break\n",
    "\n",
    "    print(\"Niet ingepland\")\n",
    "    return [dfKalenderCrew, dfKalenderRoom]"
   ]
  },
  {
   "cell_type": "code",
   "execution_count": null,
   "metadata": {},
   "outputs": [],
   "source": [
    "dfSprint1Addprep['Voltooid'] = False\n",
    "dfSprint1Addprep.loc[:,'Crew']= [20]*len(dfSprint1Addprep)\n",
    "dfSprint1Addprep['Crew'] = dfSprint1Addprep['Crew'].astype(object)\n",
    "for i in range(0,len(dfSprint1Addprep)):\n",
    "    task = dfSprint1Addprep.iloc[i,:]\n",
    "\n",
    "    dfTempCrew = pickle.loads(pickle.dumps(dfKalenderCrew))\n",
    "    dfTempRoom = pickle.loads(pickle.dumps(dfKalenderRoom))\n",
    "    print(task.Task)\n",
    "    dfKalenderCrew, dfKalenderRoom = InplannenAddPrep(task, dfKalenderCrew, dfKalenderRoom)"
   ]
  },
  {
   "cell_type": "code",
   "execution_count": null,
   "metadata": {},
   "outputs": [],
   "source": [
    "dfSprint1Addpost['Voltooid'] = False\n",
    "dfSprint1Addpost.loc[:,'Crew']= [20]*len(dfSprint1Addpost)\n",
    "dfSprint1Addpost['Crew'] = dfSprint1Addpost['Crew'].astype(object)\n",
    "for i in range(0,len(dfSprint1Addpost)):\n",
    "    task = dfSprint1Addpost.iloc[i,:]\n",
    "\n",
    "    dfTempCrew = pickle.loads(pickle.dumps(dfKalenderCrew))\n",
    "    dfTempRoom = pickle.loads(pickle.dumps(dfKalenderRoom))\n",
    "    print(task.Task)\n",
    "    dfKalenderCrew, dfKalenderRoom = InplannenAddPost(task, dfKalenderCrew, dfKalenderRoom)"
   ]
  },
  {
   "cell_type": "code",
   "execution_count": null,
   "metadata": {},
   "outputs": [],
   "source": [
    "dfKalenderCrew.iloc[4,:].DagRooster.dfRooster"
   ]
  },
  {
   "cell_type": "code",
   "execution_count": null,
   "metadata": {
    "scrolled": true
   },
   "outputs": [],
   "source": [
    "dfKalenderCrew.iloc[44,:].DagRooster.dfRooster"
   ]
  },
  {
   "cell_type": "code",
   "execution_count": null,
   "metadata": {},
   "outputs": [],
   "source": [
    "dfSprint1Addprep"
   ]
  },
  {
   "cell_type": "code",
   "execution_count": null,
   "metadata": {},
   "outputs": [],
   "source": [
    "dfSprint1"
   ]
  }
 ],
 "metadata": {
  "kernelspec": {
   "display_name": "Python 3",
   "language": "python",
   "name": "python3"
  },
  "language_info": {
   "codemirror_mode": {
    "name": "ipython",
    "version": 3
   },
   "file_extension": ".py",
   "mimetype": "text/x-python",
   "name": "python",
   "nbconvert_exporter": "python",
   "pygments_lexer": "ipython3",
   "version": "3.7.3"
  }
 },
 "nbformat": 4,
 "nbformat_minor": 2
}
