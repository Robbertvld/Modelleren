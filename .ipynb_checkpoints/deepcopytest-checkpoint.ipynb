{
 "cells": [
  {
   "cell_type": "code",
   "execution_count": 1,
   "metadata": {},
   "outputs": [
    {
     "name": "stdout",
     "output_type": "stream",
     "text": [
      "   0  1                                                  2\n",
      "0  1  2  <__main__.PossibleCombinations object at 0x000...\n",
      "1  4  5                                                  6\n"
     ]
    }
   ],
   "source": [
    "import copy\n",
    "import numpy as np\n",
    "import pandas as pd\n",
    "\n",
    "\n",
    "df = pd.DataFrame(data= [[1,2,3],[4,5,6]])\n",
    "\n",
    "class PossibleCombinations:\n",
    "    def __init__(self, dfCombinations, numberCombinations):\n",
    "        self.dfCombinations = dfCombinations\n",
    "        self.numberCombinations = numberCombinations\n",
    "\n",
    "df.iloc[0,2] = PossibleCombinations(pd.DataFrame(data= [[1,2,3],[4,5,6]]),6)\n",
    "print(df)"
   ]
  },
  {
   "cell_type": "code",
   "execution_count": 2,
   "metadata": {},
   "outputs": [
    {
     "name": "stdout",
     "output_type": "stream",
     "text": [
      "   0  1     2\n",
      "0  1  2  doei\n",
      "1  4  5     6\n",
      " \n",
      "   0  1     2\n",
      "0  1  2  doei\n",
      "1  4  5     6\n"
     ]
    }
   ],
   "source": [
    "deepCopy = copy.deepcopy(df)\n",
    "deepCopy.iloc[0,2].dfCombinations = copy.deepcopy(df.iloc[0,2].dfCombinations)\n",
    "\n",
    "deepCopy.iloc[0,2].dfCombinations.iloc[0,2] = \"doei\"\n",
    "\n",
    "print(deepCopy.iloc[0,2].dfCombinations)\n",
    "print(\" \")\n",
    "print(df.iloc[0,2].dfCombinations)"
   ]
  }
 ],
 "metadata": {
  "kernelspec": {
   "display_name": "Python 3",
   "language": "python",
   "name": "python3"
  },
  "language_info": {
   "codemirror_mode": {
    "name": "ipython",
    "version": 3
   },
   "file_extension": ".py",
   "mimetype": "text/x-python",
   "name": "python",
   "nbconvert_exporter": "python",
   "pygments_lexer": "ipython3",
   "version": "3.7.3"
  }
 },
 "nbformat": 4,
 "nbformat_minor": 2
}
