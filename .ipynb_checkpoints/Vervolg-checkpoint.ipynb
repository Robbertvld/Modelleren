{
 "cells": [
  {
   "cell_type": "code",
   "execution_count": 2,
   "metadata": {},
   "outputs": [],
   "source": [
    "# importeren libs\n",
    "import numpy as np\n",
    "import pandas as pd\n",
    "import pickle\n",
    "import copy\n",
    "\n",
    "import Importeer \n",
    "import Hulpfuncties\n",
    "import CrewCombined\n",
    "import Dataframe\n",
    "import Controleren\n",
    "from Class import MogelijkeCombinaties, Rooster"
   ]
  },
  {
   "cell_type": "code",
   "execution_count": 3,
   "metadata": {},
   "outputs": [],
   "source": [
    "filehandler = open('dfSprint1_eind.obj', 'rb') \n",
    "dfSprint = pickle.load(filehandler)\n",
    "filehandler = open('dfKalenderCrew1.obj', 'rb') \n",
    "dfKalenderCrew = pickle.load(filehandler)\n",
    "filehandler = open('dfKalenderRoom1.obj', 'rb') \n",
    "dfKalenderRoom = pickle.load(filehandler)\n",
    "filehandler = open('dfSprintAddprep1.obj', 'rb') \n",
    "dfSprintAddprep = pickle.load(filehandler)\n",
    "filehandler = open('dfSprintAddpost1.obj', 'rb') \n",
    "dfSprintAddpost = pickle.load(filehandler)"
   ]
  },
  {
   "cell_type": "code",
   "execution_count": 5,
   "metadata": {},
   "outputs": [],
   "source": [
    "dfAdditionalTasks = pd.read_excel('MODPRdataset.xlsx', sheet_name='Additional tasks')\n",
    "dfAdditionalTasks = dfAdditionalTasks.fillna(0)\n",
    "dfAdditionalTasks.replace(\"x\", 1, inplace=True)\n",
    "dfAdditionalTasks = dfAdditionalTasks[dfAdditionalTasks['Task'] != 0].reset_index(drop=True)\n",
    "dfAdditionalTasks['aantal keer'].replace(0, 1, inplace=True)\n",
    "dfSprintAdd = pd.DataFrame(dfAdditionalTasks[dfAdditionalTasks['Task'].str.contains('S1')]).reset_index(drop=True)\n",
    "dfSprintAdd['Voltooid'] = False\n",
    "dfSprintAdd.loc[:, 'Crew'] = [20] * len(dfSprintAdd)\n",
    "dfSprintAdd['Crew'] = dfSprintAdd['Crew'].astype(object)"
   ]
  },
  {
   "cell_type": "code",
   "execution_count": null,
   "metadata": {},
   "outputs": [],
   "source": []
  }
 ],
 "metadata": {
  "kernelspec": {
   "display_name": "Python 3",
   "language": "python",
   "name": "python3"
  },
  "language_info": {
   "codemirror_mode": {
    "name": "ipython",
    "version": 3
   },
   "file_extension": ".py",
   "mimetype": "text/x-python",
   "name": "python",
   "nbconvert_exporter": "python",
   "pygments_lexer": "ipython3",
   "version": "3.7.3"
  }
 },
 "nbformat": 4,
 "nbformat_minor": 2
}
