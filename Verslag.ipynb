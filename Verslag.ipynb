{
 "cells": [
  {
   "cell_type": "markdown",
   "metadata": {},
   "source": [
    "# Verslag modelleren"
   ]
  },
  {
   "cell_type": "markdown",
   "metadata": {},
   "source": [
    "*gemaakt door Kees Brouwer en Robbert van Nieuwkerk*"
   ]
  },
  {
   "cell_type": "markdown",
   "metadata": {},
   "source": [
    "Eerst het importeren van de benodigde libraries"
   ]
  },
  {
   "cell_type": "markdown",
   "metadata": {},
   "source": [
    "misschien handige code om te gebruiken:"
   ]
  },
  {
   "cell_type": "markdown",
   "metadata": {},
   "source": [
    "%pwd (de data moet in je workdirectery staan)\n"
   ]
  },
  {
   "cell_type": "code",
   "execution_count": null,
   "metadata": {},
   "outputs": [],
   "source": [
    "import numpy as np\n",
    "import pandas as pd\n",
    "import datetime"
   ]
  },
  {
   "cell_type": "markdown",
   "metadata": {},
   "source": [
    "er moet ook nog een keer worden uitgelegd wat er in welk df staat en wat er met ieder df is gedaan voordat het geimporteerd is. !TODO"
   ]
  },
  {
   "cell_type": "code",
   "execution_count": null,
   "metadata": {},
   "outputs": [],
   "source": [
    "dfProjectTasks = pd.read_excel('MODPRdataset.xlsx', sheet_name ='Project tasks')\n",
    "dfAdditionalTasks = pd.read_excel('MODPRdataset.xlsx', sheet_name ='Additional tasks')\n",
    "dfCrew = pd.read_excel('MODPRdataset.xlsx', sheet_name ='Crew')\n",
    "dfRooms = pd.read_excel('MODPRdataset.xlsx', sheet_name ='Rooms')\n",
    "dfHiring = pd.read_excel('MODPRdataset.xlsx', sheet_name ='Hiring')"
   ]
  },
  {
   "cell_type": "markdown",
   "metadata": {},
   "source": [
    "Het schoonmaken van de cel, hierdoor kunnen we waardes makkelijker worden teruggevonden dan NaN"
   ]
  },
  {
   "cell_type": "code",
   "execution_count": null,
   "metadata": {},
   "outputs": [],
   "source": [
    "dfProjectTasks = dfProjectTasks.fillna(0)\n",
    "dfAdditionalTasks = dfAdditionalTasks.fillna(0)\n",
    "dfCrew = dfCrew.fillna(0)\n",
    "dfRooms = dfRooms.fillna(1)"
   ]
  },
  {
   "cell_type": "code",
   "execution_count": null,
   "metadata": {},
   "outputs": [],
   "source": [
    "dfProjectTasks.replace(\"x\", 1, inplace=True)\n",
    "dfAdditionalTasks.replace(\"x\", 1, inplace=True)\n",
    "dfCrew.replace(\"x\", 1, inplace=True)\n"
   ]
  },
  {
   "cell_type": "markdown",
   "metadata": {},
   "source": [
    "**Belangrijke info voor het plannen**\n",
    "- De ingehuurde mensen hebben skill 1 en 8 \n",
    "- kort inhuren is maximaal 60 uur\n",
    "- het bedrijf is van 9-18 open\n",
    "- een crewlid kan niet meer dan 3 uur achter elkaar werken (hoe lang is de pauze die moet worden genomen? >> half uur)\n",
    "- een crewlid werkt nooit meer dan 7 uur op een dag\n",
    "- kan een 'acquire skill' maar 1 keer per sprint worden gedaan of kunnen meerdere personen er een volgen? zoveel als je wilt \n",
    "- crewleden moet te samen aan de skills komen voor de opdracht.\n",
    "- moeten de mensen die skill 1 nog niet hebben deze ook leren? hoeven niet te worden geleerd\n",
    "- kan een crewlid eerst een uur aan het ene project werken, dit niet afronden en dan nog aan een ander project? >> bij project tasks moet het aan eengesloten zijn, bij additional tasks hoeft dit niet\n",
    "- moet iedereen tegelijk aan het project werken >> moet!"
   ]
  },
  {
   "cell_type": "markdown",
   "metadata": {},
   "source": [
    "Stel we maken een soort kalender, startend op 1 januari 2020. \n",
    "Hiervan maken we een dataframe met de volgende kolommen:\n",
    "- datum\n",
    "- de taak\n",
    "- persoon die het uitvoerd\n",
    "- begintijd \n",
    "- eindtijd\n",
    "- Tijdsduur?\n",
    "- Of het crewlid is ingehuurd (T/F)\n",
    "- Kosten zodra het crewlid is ingehuurd\n",
    "- Of het een werkdag is (T/F)"
   ]
  },
  {
   "cell_type": "code",
   "execution_count": null,
   "metadata": {},
   "outputs": [],
   "source": [
    "data = pd.date_range(\"2020-01-01\", periods=4*10*7, freq='D')\n",
    "\n",
    "columns = ['Datum', 'Task','Crewlid', 'begintijd', 'eindtijd', 'tijdsduur', 'ingehuurd', 'kosten', 'werkdag']\n",
    "\n",
    "dfKalender = pd.DataFrame(columns=columns)\n",
    "dfKalender['Datum'] = data\n",
    "dfKalender = dfKalender.fillna(0)\n",
    "dfKalender.replace(\"0\", False, inplace=True)\n"
   ]
  },
  {
   "cell_type": "markdown",
   "metadata": {},
   "source": [
    "Het toevoegen of een dag een werkdag is. Er wordt in het weekend niet gewerkt dus deze dagen zullen afvallen."
   ]
  },
  {
   "cell_type": "code",
   "execution_count": null,
   "metadata": {},
   "outputs": [],
   "source": [
    "dfKalender['werkdag'] = dfKalender['Datum'].apply(lambda Datum: Datum.isoweekday() in range (1,6))"
   ]
  },
  {
   "cell_type": "markdown",
   "metadata": {},
   "source": [
    "Er moet een functie zijn die kan worden aangeroepen om te kijken of een taak door een bepaald persoon kan worden uitgevoerd.\n",
    "\n",
    "Hier moeten de eisen van de opdracht worden meegegeven en een persoon. Vervolgens krijg je een boolean terug of het kan."
   ]
  },
  {
   "cell_type": "code",
   "execution_count": null,
   "metadata": {},
   "outputs": [],
   "source": [
    "# een paar standaard variabele om de code leesbaar te maken.\n",
    "rangeSkills = range(1,14)\n",
    "rangeWorkdays = range(14,19)\n",
    "rangeRooms = range(14,20)"
   ]
  },
  {
   "cell_type": "markdown",
   "metadata": {},
   "source": [
    "functie waarbij de lijst van ReqSkill moet worden ingevuld van de Task en de skills van een persoon. De functie geeft een boolean terug of deze taak door deze persoon kan worden gedaan.\n",
    "\n",
    "voorbeeld: <br>\n",
    "OpdrachtUitvoeren(dfProjectTasks.iloc[0,rangeSkills],dfCrew.iloc[0,rangeSkills]) \n",
    "<br>uitkomst: False"
   ]
  },
  {
   "cell_type": "code",
   "execution_count": null,
   "metadata": {},
   "outputs": [],
   "source": [
    "def OpdrachtUitvoerenPersoonBool(eisen, persoon):\n",
    "    for i in rangeSkills:\n",
    "        result = (int(eisen[i-1]) <= \n",
    "                  int(persoon[i-1]))\n",
    "        if result == False:\n",
    "            break\n",
    "    return result"
   ]
  },
  {
   "cell_type": "markdown",
   "metadata": {},
   "source": [
    "de functie hieronder voegt de skills van personen samen en geeft de gezamelijke skills terug.\n",
    "\n",
    "voorbeeld: PersonenSamenvoegen(dfCrew.iloc[0,rangeSkills],dfCrew.iloc[2,rangeSkills])\n",
    "<br>\n",
    "uitkomst: [1, 1, 1, 1, 1, 1, 0, 1, 1, 1, 1, 1, 1]"
   ]
  },
  {
   "cell_type": "code",
   "execution_count": null,
   "metadata": {
    "code_folding": []
   },
   "outputs": [],
   "source": [
    "def PersonenSamenvoegen(persoon1, persoon2, persoon3 = [0]*13, persoon4 = [0]*13, persoon5 = [0]*13, persoon6 = [0]*13):\n",
    "    combinedSkill = []\n",
    "    for i in rangeSkills:\n",
    "        combinedSkill.append(int(1) if persoon1[i-1]+persoon2[i-1]+persoon3[i-1]+persoon4[i-1]+persoon5[i-1]+persoon6[i-1] > 0 else int(0))\n",
    "    return combinedSkill"
   ]
  },
  {
   "cell_type": "code",
   "execution_count": null,
   "metadata": {
    "code_folding": []
   },
   "outputs": [],
   "source": [
    "# het selecteren van alleen de tasks van sprint 1\n",
    "dfProjectTasks = dfProjectTasks[dfProjectTasks['Task'] != 0]\n",
    "dfSprint1 = dfProjectTasks[dfProjectTasks['Task'].str.contains('S1')]\n"
   ]
  },
  {
   "cell_type": "code",
   "execution_count": null,
   "metadata": {},
   "outputs": [],
   "source": [
    "# het maken van een dataframe waarin alle gezamelijke skills in staan tot aan 7 personen\n",
    "dfCrewCombined = []\n",
    "for i in range(0, len(dfCrew)-1): # combinaties met twee mensen\n",
    "    for j in range(0, len(dfCrew)-1):\n",
    "        if i==j:\n",
    "            break\n",
    "        t = PersonenSamenvoegen(dfCrew.iloc[i,rangeSkills], dfCrew.iloc[j,rangeSkills])\n",
    "        t.append(i)\n",
    "        t.append(j)\n",
    "        t.append(20)\n",
    "        t.append(20)\n",
    "        t.append(20)\n",
    "        t.append(20)\n",
    "        \n",
    "        dfCrewCombined.append(t)\n",
    "\n",
    "for i in range(0, len(dfCrew)-1): # combinaties met drie personen\n",
    "    for j in range(0, len(dfCrew)-1):\n",
    "        if i==j:\n",
    "            break\n",
    "        for k in range(0, len(dfCrew)-1):\n",
    "            if i==k or k==j:\n",
    "                break\n",
    "        \n",
    "            t = PersonenSamenvoegen(dfCrew.iloc[i,rangeSkills], dfCrew.iloc[j,rangeSkills], dfCrew.iloc[k,rangeSkills])\n",
    "            t.append(i)\n",
    "            t.append(j)\n",
    "            t.append(k)\n",
    "            t.append(20)\n",
    "            t.append(20)\n",
    "            t.append(20)\n",
    "            \n",
    "            dfCrewCombined.append(t)\n",
    "            \n",
    "for i in range(0, len(dfCrew)-1): # combinaties met vier personen\n",
    "    for j in range(0, len(dfCrew)-1):\n",
    "        if i==j:\n",
    "            break\n",
    "        for k in range(0, len(dfCrew)-1):\n",
    "            if i==k or k==j:\n",
    "                break\n",
    "            for l in range(0, len(dfCrew)-1):\n",
    "                if l == k or l == i or l == j :\n",
    "                    break\n",
    "                t = PersonenSamenvoegen(dfCrew.iloc[i,rangeSkills], dfCrew.iloc[j,rangeSkills],\n",
    "                                        dfCrew.iloc[k,rangeSkills], dfCrew.iloc[l,rangeSkills])\n",
    "                t.append(i)\n",
    "                t.append(j)\n",
    "                t.append(k)\n",
    "                t.append(l)\n",
    "                t.append(20)\n",
    "                t.append(20)\n",
    "                dfCrewCombined.append(t)\n",
    "\n",
    "for i in range(0, len(dfCrew)-1): # combinaties met vijf personen\n",
    "    for j in range(0, len(dfCrew)-1):\n",
    "        if i==j:\n",
    "            break\n",
    "        for k in range(0, len(dfCrew)-1):\n",
    "            if i==k or k==j:\n",
    "                break\n",
    "            for l in range(0, len(dfCrew)-1):\n",
    "                if l == k or l == i or l == j :\n",
    "                    break\n",
    "                for m in range(0, len(dfCrew)-1):\n",
    "                    if m==l or m==k or m==j or m==i:\n",
    "                        break\n",
    "                    t = PersonenSamenvoegen(dfCrew.iloc[i,rangeSkills], dfCrew.iloc[j,rangeSkills],\n",
    "                                            dfCrew.iloc[k,rangeSkills], dfCrew.iloc[l,rangeSkills], \n",
    "                                            dfCrew.iloc[m,rangeSkills])\n",
    "                    t.append(i)\n",
    "                    t.append(j)\n",
    "                    t.append(k)\n",
    "                    t.append(l)\n",
    "                    t.append(m)\n",
    "                    t.append(20)\n",
    "                    dfCrewCombined.append(t)\n",
    "                    \n",
    "for i in range(0, len(dfCrew)-1): # combinaties met vijf personen\n",
    "    for j in range(0, len(dfCrew)-1):\n",
    "        if i==j:\n",
    "            break\n",
    "        for k in range(0, len(dfCrew)-1):\n",
    "            if i==k or k==j:\n",
    "                break\n",
    "            for l in range(0, len(dfCrew)-1):\n",
    "                if l == k or l == i or l == j :\n",
    "                    break\n",
    "                for m in range(0, len(dfCrew)-1):\n",
    "                    if m==l or m==k or m==j or m==i:\n",
    "                        break\n",
    "                    for n in range(0, len(dfCrew)-1):\n",
    "                        if n==m or n==l or n==k or n==j or n==i:\n",
    "                            break\n",
    "                        t = PersonenSamenvoegen(dfCrew.iloc[i,rangeSkills], dfCrew.iloc[j,rangeSkills],\n",
    "                                                dfCrew.iloc[k,rangeSkills], dfCrew.iloc[l,rangeSkills], \n",
    "                                                dfCrew.iloc[m,rangeSkills], dfCrew.iloc[n,rangeSkills])\n",
    "                        t.append(i)\n",
    "                        t.append(j)\n",
    "                        t.append(k)\n",
    "                        t.append(l)\n",
    "                        t.append(m)\n",
    "                        t.append(n)\n",
    "                        dfCrewCombined.append(t)\n",
    "\n",
    "                    \n",
    "       "
   ]
  },
  {
   "cell_type": "markdown",
   "metadata": {},
   "source": [
    "het dataframe dfCrewCombined is een dataframe met alle skills van de medewerkers gezamelijk. Zodra er bij een van de personen '20' staat, betekent dit dat er geen persoon voor die plek is toegevoegd. in het dataframe staan combinaties met twee personen tot zeven ('vo) personen.\n"
   ]
  },
  {
   "cell_type": "code",
   "execution_count": null,
   "metadata": {},
   "outputs": [],
   "source": [
    "ar = np.array(dfCrewCombined, dtype=np.int16) \n",
    "dfCrewCombined = pd.DataFrame(ar, columns= ['Skill1', 'Skill2', 'Skill3', 'Skill4', 'Skill5', 'Skill6', 'Skill7', 'Skill8', \n",
    "                                'Skill9', 'Skill10', 'Skill11', 'Skill12', 'Skill13', 'persoon1', 'persoon2', \n",
    "                                'persoon3', 'persoon4', 'persoon5', 'persoon6'])"
   ]
  },
  {
   "cell_type": "code",
   "execution_count": null,
   "metadata": {},
   "outputs": [],
   "source": [
    "dfCrewCombined['sum'] = dfCrewCombined.iloc[:,0:13].sum(axis = 1)"
   ]
  },
  {
   "cell_type": "code",
   "execution_count": null,
   "metadata": {},
   "outputs": [],
   "source": [
    "dfCrewCombined.sort_values(['sum'], ascending= [True])"
   ]
  },
  {
   "cell_type": "code",
   "execution_count": null,
   "metadata": {},
   "outputs": [],
   "source": [
    "inplannen = False\n",
    "i = 0\n",
    "\n",
    "while inplannen == False:\n",
    "    if OpdrachtUitvoerenPersoonBool(dfSprint1.iloc[0,rangeSkills], dfCrewCombined.iloc[i,rangeSkills]):\n",
    "        inplannen = True\n",
    "        # i=0\n",
    "    else:\n",
    "        i = i + 1\n",
    "\n",
    "print(dfSprint1.iloc[0,:])\n",
    "print(dfCrewCombined.iloc[i,:])\n",
    "    "
   ]
  },
  {
   "cell_type": "code",
   "execution_count": null,
   "metadata": {},
   "outputs": [],
   "source": []
  }
 ],
 "metadata": {
  "kernelspec": {
   "display_name": "Python 3",
   "language": "python",
   "name": "python3"
  },
  "language_info": {
   "codemirror_mode": {
    "name": "ipython",
    "version": 3
   },
   "file_extension": ".py",
   "mimetype": "text/x-python",
   "name": "python",
   "nbconvert_exporter": "python",
   "pygments_lexer": "ipython3",
   "version": "3.7.3"
  }
 },
 "nbformat": 4,
 "nbformat_minor": 2
}
