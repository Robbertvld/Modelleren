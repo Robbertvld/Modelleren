{
 "cells": [
  {
   "cell_type": "markdown",
   "metadata": {},
   "source": [
    "# Verslag modelleren"
   ]
  },
  {
   "cell_type": "markdown",
   "metadata": {},
   "source": [
    "*gemaakt door Kees Brouwer en Robbert van Nieuwkerk*"
   ]
  },
  {
   "cell_type": "markdown",
   "metadata": {},
   "source": [
    "Eerst het importeren van de benodigde libraries"
   ]
  },
  {
   "cell_type": "markdown",
   "metadata": {},
   "source": [
    "misschien handige code om te gebruiken:"
   ]
  },
  {
   "cell_type": "markdown",
   "metadata": {},
   "source": [
    "%pwd (de data moet in je workdirectery staan)\n"
   ]
  },
  {
   "cell_type": "code",
   "execution_count": 181,
   "metadata": {
    "code_folding": []
   },
   "outputs": [],
   "source": [
    "# importeren libs\n",
    "import numpy as np\n",
    "import pandas as pd\n",
    "import datetime\n",
    "from operator import attrgetter"
   ]
  },
  {
   "cell_type": "markdown",
   "metadata": {},
   "source": [
    "er moet ook nog een keer worden uitgelegd wat er in welk df staat en wat er met ieder df is gedaan voordat het geimporteerd is. !TODO"
   ]
  },
  {
   "cell_type": "code",
   "execution_count": 2,
   "metadata": {
    "code_folding": [
     0
    ]
   },
   "outputs": [],
   "source": [
    "# importeren data\n",
    "dfProjectTasks = pd.read_excel('MODPRdataset.xlsx', sheet_name ='Project tasks')\n",
    "dfAdditionalTasks = pd.read_excel('MODPRdataset.xlsx', sheet_name ='Additional tasks')\n",
    "dfCrew = pd.read_excel('MODPRdataset.xlsx', sheet_name ='Crew')\n",
    "dfRooms = pd.read_excel('MODPRdataset.xlsx', sheet_name ='Rooms')\n",
    "dfHiring = pd.read_excel('MODPRdataset.xlsx', sheet_name ='Hiring')"
   ]
  },
  {
   "cell_type": "markdown",
   "metadata": {},
   "source": [
    "Het schoonmaken van de cel, hierdoor kunnen we waardes makkelijker worden teruggevonden dan NaN"
   ]
  },
  {
   "cell_type": "code",
   "execution_count": 3,
   "metadata": {
    "code_folding": [
     0
    ]
   },
   "outputs": [],
   "source": [
    "# aanpassen van de data (NaN -> 0 en x -> 1)\n",
    "dfProjectTasks = dfProjectTasks.fillna(0)\n",
    "dfAdditionalTasks = dfAdditionalTasks.fillna(0)\n",
    "dfCrew = dfCrew.fillna(0)\n",
    "dfRooms = dfRooms.fillna(1)\n",
    "\n",
    "dfProjectTasks.replace(\"x\", 1, inplace=True)\n",
    "dfAdditionalTasks.replace(\"x\", 1, inplace=True)\n",
    "dfCrew.replace(\"x\", 1, inplace=True)\n"
   ]
  },
  {
   "cell_type": "markdown",
   "metadata": {},
   "source": [
    "**Belangrijke info voor het plannen**\n",
    "- De ingehuurde mensen hebben skill 1 en 8 \n",
    "- kort inhuren is maximaal 60 uur\n",
    "- het bedrijf is van 9-18 open\n",
    "- een crewlid kan niet meer dan 3 uur achter elkaar werken (hoe lang is de pauze die moet worden genomen? >> half uur)\n",
    "- een crewlid werkt nooit meer dan 7 uur op een dag\n",
    "- kan een 'acquire skill' maar 1 keer per sprint worden gedaan of kunnen meerdere personen er een volgen? zoveel als je wilt \n",
    "- crewleden moet te samen aan de skills komen voor de opdracht.\n",
    "- moeten de mensen die skill 1 nog niet hebben deze ook leren? hoeven niet te worden geleerd\n",
    "- kan een crewlid eerst een uur aan het ene project werken, dit niet afronden en dan nog aan een ander project? >> bij project tasks moet het aan eengesloten zijn, bij additional tasks hoeft dit niet\n",
    "- moet iedereen tegelijk aan het project werken >> moet!"
   ]
  },
  {
   "cell_type": "markdown",
   "metadata": {},
   "source": [
    "Stel we maken een soort kalender, startend op 1 januari 2020. \n",
    "Hiervan maken we een dataframe met de volgende kolommen:\n",
    "- datum\n",
    "- de taak\n",
    "- persoon die het uitvoerd\n",
    "- begintijd \n",
    "- eindtijd\n",
    "- Tijdsduur?\n",
    "- Of het crewlid is ingehuurd (T/F)\n",
    "- Kosten zodra het crewlid is ingehuurd\n",
    "- Of het een werkdag is (T/F)"
   ]
  },
  {
   "cell_type": "code",
   "execution_count": 4,
   "metadata": {
    "code_folding": [
     0
    ]
   },
   "outputs": [],
   "source": [
    "# het maken van een dataframe als kalender\n",
    "data = pd.date_range(\"2020-01-01\", periods=4*10*7, freq='D')\n",
    "\n",
    "columns = ['Datum', 'Task','Crewlid', 'begintijd', 'eindtijd', 'tijdsduur', 'ingehuurd', 'kosten', 'werkdag']\n",
    "\n",
    "dfKalender = pd.DataFrame(columns=columns)\n",
    "dfKalender['Datum'] = data\n",
    "dfKalender = dfKalender.fillna(0)\n",
    "dfKalender.replace(\"0\", False, inplace=True)\n"
   ]
  },
  {
   "cell_type": "markdown",
   "metadata": {},
   "source": [
    "Het toevoegen of een dag een werkdag is. Er wordt in het weekend niet gewerkt dus deze dagen zullen afvallen."
   ]
  },
  {
   "cell_type": "code",
   "execution_count": 5,
   "metadata": {},
   "outputs": [],
   "source": [
    "dfKalender['werkdag'] = dfKalender['Datum'].apply(lambda Datum: Datum.isoweekday() in range (1,6))"
   ]
  },
  {
   "cell_type": "markdown",
   "metadata": {},
   "source": [
    "Er moet een functie zijn die kan worden aangeroepen om te kijken of een taak door een bepaald persoon kan worden uitgevoerd.\n",
    "\n",
    "Hier moeten de eisen van de opdracht worden meegegeven en een persoon. Vervolgens krijg je een boolean terug of het kan."
   ]
  },
  {
   "cell_type": "code",
   "execution_count": 6,
   "metadata": {
    "code_folding": [
     0
    ]
   },
   "outputs": [],
   "source": [
    "# een paar standaard variabele om de code leesbaar te maken.\n",
    "rangeSkills = range(1,14)\n",
    "rangeWorkdays = range(14,19)\n",
    "rangeRooms = range(14,20)"
   ]
  },
  {
   "cell_type": "markdown",
   "metadata": {},
   "source": [
    "functie waarbij de lijst van ReqSkill moet worden ingevuld van de Task en de skills van een persoon. De functie geeft een boolean terug of deze taak door deze persoon kan worden gedaan.\n",
    "\n",
    "voorbeeld: <br>\n",
    "OpdrachtUitvoeren(dfProjectTasks.iloc[0,rangeSkills],dfCrew.iloc[0,rangeSkills]) \n",
    "<br>uitkomst: False"
   ]
  },
  {
   "cell_type": "code",
   "execution_count": 7,
   "metadata": {
    "code_folding": [
     0
    ]
   },
   "outputs": [],
   "source": [
    "def OpdrachtUitvoerenPersoonBool(eisen, persoon):\n",
    "    for i in rangeSkills:\n",
    "        result = (int(eisen[i-1]) <= \n",
    "                  int(persoon[i-1]))\n",
    "        if result == False:\n",
    "            break\n",
    "    return result"
   ]
  },
  {
   "cell_type": "markdown",
   "metadata": {},
   "source": [
    "de functie hieronder voegt de skills van personen samen en geeft de gezamelijke skills terug.\n",
    "\n",
    "voorbeeld: PersonenSamenvoegen(dfCrew.iloc[0,rangeSkills],dfCrew.iloc[2,rangeSkills])\n",
    "<br>\n",
    "uitkomst: [1, 1, 1, 1, 1, 1, 0, 1, 1, 1, 1, 1, 1, 1]"
   ]
  },
  {
   "cell_type": "code",
   "execution_count": 8,
   "metadata": {
    "code_folding": []
   },
   "outputs": [],
   "source": [
    "def PersonenSamenvoegen(persoon1, persoon2 = [0]*13, persoon3 = [0]*13, persoon4 = [0]*13, persoon5 = [0]*13, persoon6 = [0]*13):\n",
    "    combinedSkill = []\n",
    "    surplus = 0 \n",
    "    for i in rangeSkills:\n",
    "        combinedSkill.append(int(1) if persoon1[i-1]+persoon2[i-1]+persoon3[i-1]+persoon4[i-1]+persoon5[i-1]+persoon6[i-1] > 0 else int(0))\n",
    "        surplus = surplus + (persoon1[i-1]+persoon2[i-1]+persoon3[i-1]+persoon4[i-1]+persoon5[i-1]+persoon6[i-1] -1 \n",
    "                         if persoon1[i-1]+persoon2[i-1]+persoon3[i-1]+persoon4[i-1]+persoon5[i-1]+persoon6[i-1] > 0 else int(0))\n",
    "    combinedSkill.append(surplus)\n",
    "    return combinedSkill"
   ]
  },
  {
   "cell_type": "code",
   "execution_count": 9,
   "metadata": {
    "code_folding": [
     0
    ]
   },
   "outputs": [],
   "source": [
    "# het selecteren van alleen de tasks van sprint 1 en het dataframe maken met de columnnames en het resetten van de index\n",
    "dfProjectTasks = dfProjectTasks[dfProjectTasks['Task'] != 0]\n",
    "dfSprint1 = pd.DataFrame(dfProjectTasks[dfProjectTasks['Task'].str.contains('S1')], \n",
    "                         columns= list(dfProjectTasks)).reset_index(drop=True)\n"
   ]
  },
  {
   "cell_type": "code",
   "execution_count": 10,
   "metadata": {
    "code_folding": [
     0
    ]
   },
   "outputs": [],
   "source": [
    "# het maken van de kolom crew en het aanpassen van het typen naar object zodat er een list of array kan worden toegevoegd aan die kolom.\n",
    "dfSprint1.loc[:,'Crew']= [20]*len(dfSprint1)\n",
    "dfSprint1['Crew'] = dfSprint1['Crew'].astype(object)"
   ]
  },
  {
   "cell_type": "code",
   "execution_count": 11,
   "metadata": {
    "code_folding": [
     0
    ]
   },
   "outputs": [],
   "source": [
    "# het verzamelen van data van alle gezamelijke skills in staan tot aan 7 personen\n",
    "\n",
    "dfCrewCombined = []\n",
    "for i in range(0, len(dfCrew)-1): \n",
    "    t = PersonenSamenvoegen(dfCrew.iloc[i,rangeSkills])\n",
    "    t.append(i)\n",
    "    t.append(20)\n",
    "    t.append(20)\n",
    "    t.append(20)\n",
    "    t.append(20)\n",
    "    t.append(20)\n",
    "        \n",
    "    for j in range(0, len(dfCrew)-1): # combinaties met twee mensen\n",
    "        if i==j:\n",
    "            break\n",
    "        t = PersonenSamenvoegen(dfCrew.iloc[i,rangeSkills], dfCrew.iloc[j,rangeSkills])\n",
    "        t.append(i)\n",
    "        t.append(j)\n",
    "        t.append(20)\n",
    "        t.append(20)\n",
    "        t.append(20)\n",
    "        t.append(20)\n",
    "        \n",
    "        dfCrewCombined.append(t)\n",
    "\n",
    "        for k in range(0, len(dfCrew)-1):\n",
    "            if i==k or k==j:\n",
    "                break\n",
    "        \n",
    "            t = PersonenSamenvoegen(dfCrew.iloc[i,rangeSkills], dfCrew.iloc[j,rangeSkills], dfCrew.iloc[k,rangeSkills])\n",
    "            t.append(i)\n",
    "            t.append(j)\n",
    "            t.append(k)\n",
    "            t.append(20)\n",
    "            t.append(20)\n",
    "            t.append(20)\n",
    "            \n",
    "            dfCrewCombined.append(t)\n",
    "            \n",
    "            for l in range(0, len(dfCrew)-1):\n",
    "                if l == k or l == i or l == j :\n",
    "                    break\n",
    "                t = PersonenSamenvoegen(dfCrew.iloc[i,rangeSkills], dfCrew.iloc[j,rangeSkills],\n",
    "                                        dfCrew.iloc[k,rangeSkills], dfCrew.iloc[l,rangeSkills])\n",
    "                t.append(i)\n",
    "                t.append(j)\n",
    "                t.append(k)\n",
    "                t.append(l)\n",
    "                t.append(20)\n",
    "                t.append(20)\n",
    "                dfCrewCombined.append(t)\n",
    "\n",
    "                for m in range(0, len(dfCrew)-1):\n",
    "                    if m==l or m==k or m==j or m==i:\n",
    "                        break\n",
    "                    t = PersonenSamenvoegen(dfCrew.iloc[i,rangeSkills], dfCrew.iloc[j,rangeSkills],\n",
    "                                            dfCrew.iloc[k,rangeSkills], dfCrew.iloc[l,rangeSkills], \n",
    "                                            dfCrew.iloc[m,rangeSkills])\n",
    "                    t.append(i)\n",
    "                    t.append(j)\n",
    "                    t.append(k)\n",
    "                    t.append(l)\n",
    "                    t.append(m)\n",
    "                    t.append(20)\n",
    "                    dfCrewCombined.append(t)\n",
    "                    \n",
    "                    for n in range(0, len(dfCrew)-1):\n",
    "                        if n==m or n==l or n==k or n==j or n==i:\n",
    "                            break\n",
    "                        t = PersonenSamenvoegen(dfCrew.iloc[i,rangeSkills], dfCrew.iloc[j,rangeSkills],\n",
    "                                                dfCrew.iloc[k,rangeSkills], dfCrew.iloc[l,rangeSkills], \n",
    "                                                dfCrew.iloc[m,rangeSkills], dfCrew.iloc[n,rangeSkills])\n",
    "                        t.append(i)\n",
    "                        t.append(j)\n",
    "                        t.append(k)\n",
    "                        t.append(l)\n",
    "                        t.append(m)\n",
    "                        t.append(n)\n",
    "                        dfCrewCombined.append(t)\n",
    "\n",
    "\n",
    "                    \n",
    "       "
   ]
  },
  {
   "cell_type": "markdown",
   "metadata": {},
   "source": [
    "het dataframe dfCrewCombined is een dataframe met alle skills van de medewerkers gezamelijk. Zodra er bij een van de personen '20' staat, betekent dit dat er geen persoon voor die plek is toegevoegd. in het dataframe staan combinaties met twee personen tot zeven ('vo) personen.\n"
   ]
  },
  {
   "cell_type": "code",
   "execution_count": 12,
   "metadata": {
    "code_folding": []
   },
   "outputs": [],
   "source": [
    "# het maken van het dataframe dfCrewCombined\n",
    "ar = np.array(dfCrewCombined, dtype=np.int16) \n",
    "dfCrewCombined = pd.DataFrame(ar, columns= ['Skill1', 'Skill2', 'Skill3', 'Skill4', 'Skill5', 'Skill6', 'Skill7', 'Skill8', \n",
    "                                'Skill9', 'Skill10', 'Skill11', 'Skill12', 'Skill13', 'Surplus', 'persoon1', 'persoon2', \n",
    "                                'persoon3', 'persoon4', 'persoon5', 'persoon6'])"
   ]
  },
  {
   "cell_type": "code",
   "execution_count": 13,
   "metadata": {
    "code_folding": []
   },
   "outputs": [],
   "source": [
    "# creeren van de kolom 'sum' zodat we weten hoeveel skill de crew gecombineerd heeft\n",
    "dfCrewCombined['sum'] = dfCrewCombined.iloc[:,0:13].sum(axis = 1) "
   ]
  },
  {
   "cell_type": "code",
   "execution_count": 14,
   "metadata": {
    "code_folding": []
   },
   "outputs": [],
   "source": [
    "# sorteren op de kolommen sum en surplus (overschot aan skills) zodat er zo min mogelijk overbodige skills worden gebruikt \n",
    "dfCrewCombined = dfCrewCombined.sort_values(['sum', 'Surplus'], ascending= [True, True])\n",
    "dfCrewCombined = dfCrewCombined.reset_index(drop=True)"
   ]
  },
  {
   "cell_type": "code",
   "execution_count": 227,
   "metadata": {
    "code_folding": []
   },
   "outputs": [],
   "source": [
    "class ProjectUren:\n",
    "    def __init__(self, project, uren):\n",
    "        self.project = project\n",
    "        self.uren = uren\n",
    "        \n",
    "class RoosterDag:\n",
    "    \n",
    "    def __init__(self, crew, datum, urenTeGaan=7, projectUren=['x', 'x']):\n",
    "        self.crew = crew\n",
    "        self.datum = datum\n",
    "        self.urenTeGaan = urenTeGaan\n",
    "        self.projectUren = ProjectUren(*projectUren)\n",
    "         \n",
    "        # stel we zetten in deze classe nog de velden 'nog te werken uren', 'projecten, aantal uur(in array)'\n",
    "        # hierin zou een methode moeten met een max van 7 uur per dag >> wss met een setter\n",
    "        \n",
    "        "
   ]
  },
  {
   "cell_type": "code",
   "execution_count": 283,
   "metadata": {},
   "outputs": [],
   "source": [
    "def Lijstmogelijkheden(crew, duration):\n",
    "    lijstmogelijkheden = []\n",
    "    for dag in werkdagen:\n",
    "        if crew == dag.crew:\n",
    "            if dag.urenTeGaan >= duration : # vier moet worden vervangen door task.duration\n",
    "                lijstmogelijkheden.append(dag)\n",
    "    if len(lijstmogelijkheden) == 0:\n",
    "        lijstmogelijkheden.append(RoosterDag(\"geen medewerker\",datetime.date(2100,1,1)))\n",
    "                                  \n",
    "    return lijstmogelijkheden"
   ]
  },
  {
   "cell_type": "code",
   "execution_count": 44,
   "metadata": {},
   "outputs": [],
   "source": [
    "# # code voor het invullen van crew bij een task waarbij nog niet wordt gelet op of mensen al bezet zijn.\n",
    "# werkdagen = []\n",
    "# for j in range(0, len(dfSprint1)):\n",
    "#     inplannen = False\n",
    "#     i = 0\n",
    "    \n",
    "#     while inplannen == False:\n",
    "#         if OpdrachtUitvoerenPersoonBool(dfSprint1.iloc[j,rangeSkills], dfCrewCombined.iloc[i,0:13]):\n",
    "#             inplannen = True\n",
    "#             dfSprint1.at[j,'Crew'] = np.array(dfCrewCombined.iloc[i,14:20])\n",
    "            \n",
    "#             for k in dfCrewCombined.iloc[i,14:20].tolist():\n",
    "#                 if k ==20:\n",
    "#                     break\n",
    "                \n",
    "#                 werkdagen.append(RoosterDag(k,\"1-1-1990\", 7- dfSprint1.Duration[j] , [dfSprint1.Task[j], dfSprint1.Duration[j]]))\n",
    "#             i=0\n",
    "#         else:\n",
    "#             i = i + 1\n"
   ]
  },
  {
   "cell_type": "code",
   "execution_count": 236,
   "metadata": {},
   "outputs": [],
   "source": [
    "def add_project(*projectUren): # de huidige moet worden mee gegeven en degene die je wilt toevoegen.\n",
    "    # Hoeveel je er wilt toevoegen doet er niet toe.\n",
    "    lijst = []\n",
    "    for project in projectUren:\n",
    "        if type(project) == list:\n",
    "            lijst.append(ProjectUren(project[0], project[1]))\n",
    "        else:\n",
    "            if project.project != \"x\":\n",
    "                lijst.append(project)\n",
    "    return lijst"
   ]
  },
  {
   "cell_type": "code",
   "execution_count": 191,
   "metadata": {},
   "outputs": [],
   "source": [
    "# vind een Roosterdag met crewlid en datum (dit zou uniek moeten zijn)\n",
    "def VindRoosterdag(crew, datum):\n",
    "    for dag in werkdagen:\n",
    "        if crew == dag.crew:\n",
    "            if dag.datum == datum: \n",
    "                return dag"
   ]
  },
  {
   "cell_type": "markdown",
   "metadata": {},
   "source": [
    "Voorbeeld voor de functie add_project <br>\n",
    "t = test2([\"S\",2]) <br>\n",
    "t.projectUren = add_project(t.projectUren, [\"D\", 2]) <br>\n",
    "<br><br>\n",
    "for project in t.projectUren: <br>\n",
    "    print (project.project) <br>\n",
    "    \n",
    "Uitkomst: <br>\n",
    "S<br>\n",
    "D<br>"
   ]
  },
  {
   "cell_type": "code",
   "execution_count": 286,
   "metadata": {},
   "outputs": [],
   "source": [
    "# de eerste dag aanmaken voor iedereen\n",
    "werkdagen = []\n",
    "for i in range(0, len(dfCrew)):\n",
    "    werkdagen.append(RoosterDag(i, datetime.date(2020,1, 1)))"
   ]
  },
  {
   "cell_type": "code",
   "execution_count": 287,
   "metadata": {},
   "outputs": [
    {
     "name": "stdout",
     "output_type": "stream",
     "text": [
      "j:  0\n",
      "task met crew gevonden\n",
      "[ 9  0 20 20 20 20]\n",
      "datum gevonden  True\n",
      "datum gevonden  True\n",
      "dag gevonden  2020-01-01\n",
      "uren die nog moeten worden gemaakt:  7\n",
      "<__main__.RoosterDag object at 0x000001C5A60ED3C8>\n",
      "S1C1T1A 2.0\n",
      "dag gevonden  2020-01-01\n",
      "uren die nog moeten worden gemaakt:  7\n",
      "<__main__.RoosterDag object at 0x000001C5A60EDC50>\n",
      "S1C1T1A 2.0\n",
      "j:  1\n",
      "task met crew gevonden\n",
      "[11 10 20 20 20 20]\n",
      "datum gevonden  True\n",
      "datum gevonden  True\n",
      "dag gevonden  2020-01-01\n",
      "uren die nog moeten worden gemaakt:  7\n",
      "<__main__.RoosterDag object at 0x000001C5A60ED9B0>\n",
      "S1C1T1B 2.0\n",
      "dag gevonden  2020-01-01\n",
      "uren die nog moeten worden gemaakt:  7\n",
      "<__main__.RoosterDag object at 0x000001C5A60ED4A8>\n",
      "S1C1T1B 2.0\n",
      "j:  2\n",
      "task met crew gevonden\n",
      "[10  5 20 20 20 20]\n",
      "datum gevonden  True\n",
      "datum gevonden  True\n",
      "dag gevonden  2020-01-01\n",
      "uren die nog moeten worden gemaakt:  5.0\n",
      "<__main__.RoosterDag object at 0x000001C5A60ED4A8>\n",
      "S1C1T2 2.0\n",
      "dag gevonden  2020-01-01\n",
      "uren die nog moeten worden gemaakt:  7\n",
      "<__main__.RoosterDag object at 0x000001C5A60ED0F0>\n",
      "S1C1T2 2.0\n",
      "j:  3\n",
      "task met crew gevonden\n",
      "[10  5 20 20 20 20]\n",
      "datum gevonden  True\n",
      "datum gevonden  True\n",
      "dag gevonden  2020-01-01\n",
      "uren die nog moeten worden gemaakt:  3.0\n",
      "<__main__.RoosterDag object at 0x000001C5A60ED4A8>\n",
      "S1C1T3 2.0\n",
      "dag gevonden  2020-01-01\n",
      "uren die nog moeten worden gemaakt:  5.0\n",
      "<__main__.RoosterDag object at 0x000001C5A60ED0F0>\n",
      "S1C1T3 2.0\n",
      "j:  4\n",
      "task met crew gevonden\n",
      "[10  0 20 20 20 20]\n",
      "volgende datum vinden\n",
      "task met crew gevonden\n",
      "[10  0 20 20 20 20]\n",
      "datum gevonden  True\n",
      "datum gevonden  True\n",
      "dag gevonden  2020-01-02\n",
      "uren die nog moeten worden gemaakt:  7\n",
      "<__main__.RoosterDag object at 0x000001C5A67E4FD0>\n",
      "S1C1T4 2.0\n",
      "dag gevonden  2020-01-02\n",
      "uren die nog moeten worden gemaakt:  7\n",
      "<__main__.RoosterDag object at 0x000001C5A68357B8>\n",
      "S1C1T4 2.0\n",
      "j:  5\n",
      "task met crew gevonden\n",
      "[10  0 20 20 20 20]\n",
      "datum gevonden  True\n",
      "datum gevonden  True\n",
      "dag gevonden  2020-01-01\n",
      "uren die nog moeten worden gemaakt:  1.0\n",
      "<__main__.RoosterDag object at 0x000001C5A60ED4A8>\n",
      "S1C1T5 1.0\n",
      "dag gevonden  2020-01-01\n",
      "uren die nog moeten worden gemaakt:  5.0\n",
      "<__main__.RoosterDag object at 0x000001C5A60EDC50>\n",
      "S1C1T5 1.0\n",
      "j:  6\n",
      "task met crew gevonden\n",
      "[ 9  3 20 20 20 20]\n",
      "datum gevonden  True\n",
      "datum gevonden  True\n",
      "dag gevonden  2020-01-01\n",
      "uren die nog moeten worden gemaakt:  5.0\n",
      "<__main__.RoosterDag object at 0x000001C5A60ED3C8>\n",
      "S1C2T1 2.0\n",
      "dag gevonden  2020-01-01\n",
      "uren die nog moeten worden gemaakt:  7\n",
      "<__main__.RoosterDag object at 0x000001C5A60ED748>\n",
      "S1C2T1 2.0\n",
      "j:  7\n",
      "task met crew gevonden\n",
      "[ 9  0 20 20 20 20]\n",
      "datum gevonden  True\n",
      "datum gevonden  True\n",
      "dag gevonden  2020-01-01\n",
      "uren die nog moeten worden gemaakt:  3.0\n",
      "<__main__.RoosterDag object at 0x000001C5A60ED3C8>\n",
      "S1C2T2A 2.0\n",
      "dag gevonden  2020-01-01\n",
      "uren die nog moeten worden gemaakt:  4.0\n",
      "<__main__.RoosterDag object at 0x000001C5A60EDC50>\n",
      "S1C2T2A 2.0\n",
      "j:  8\n",
      "task met crew gevonden\n",
      "[11 10 20 20 20 20]\n",
      "datum gevonden  True\n",
      "volgende datum vinden\n",
      "task met crew gevonden\n",
      "[11 10 20 20 20 20]\n",
      "datum gevonden  True\n",
      "datum gevonden  True\n",
      "dag gevonden  2020-01-02\n",
      "uren die nog moeten worden gemaakt:  7\n",
      "<__main__.RoosterDag object at 0x000001C5A67E4A90>\n",
      "S1C2T2B 2.0\n",
      "dag gevonden  2020-01-02\n",
      "uren die nog moeten worden gemaakt:  5.0\n",
      "<__main__.RoosterDag object at 0x000001C5A67E4FD0>\n",
      "S1C2T2B 2.0\n",
      "j:  9\n",
      "task met crew gevonden\n",
      "[ 4  0 20 20 20 20]\n",
      "datum gevonden  True\n",
      "datum gevonden  True\n",
      "dag gevonden  2020-01-01\n",
      "uren die nog moeten worden gemaakt:  7\n",
      "<__main__.RoosterDag object at 0x000001C5A60ED898>\n",
      "S1C2T3A 1.5\n",
      "dag gevonden  2020-01-01\n",
      "uren die nog moeten worden gemaakt:  2.0\n",
      "<__main__.RoosterDag object at 0x000001C5A60EDC50>\n",
      "S1C2T3A 1.5\n",
      "j:  10\n",
      "task met crew gevonden\n",
      "[ 4  0 20 20 20 20]\n",
      "datum gevonden  True\n",
      "volgende datum vinden\n",
      "task met crew gevonden\n",
      "[ 4  0 20 20 20 20]\n",
      "datum gevonden  True\n",
      "datum gevonden  True\n",
      "dag gevonden  2020-01-02\n",
      "uren die nog moeten worden gemaakt:  7\n",
      "<__main__.RoosterDag object at 0x000001C5A60C7780>\n",
      "S1C2T3B 2.0\n",
      "dag gevonden  2020-01-02\n",
      "uren die nog moeten worden gemaakt:  5.0\n",
      "<__main__.RoosterDag object at 0x000001C5A68357B8>\n",
      "S1C2T3B 2.0\n",
      "j:  11\n",
      "task met crew gevonden\n",
      "[10  0 20 20 20 20]\n",
      "volgende datum vinden\n",
      "task met crew gevonden\n",
      "[10  0 20 20 20 20]\n",
      "datum gevonden  True\n",
      "datum gevonden  True\n",
      "dag gevonden  2020-01-02\n",
      "uren die nog moeten worden gemaakt:  3.0\n",
      "<__main__.RoosterDag object at 0x000001C5A67E4FD0>\n",
      "S1C2T4 2.0\n",
      "dag gevonden  2020-01-02\n",
      "uren die nog moeten worden gemaakt:  3.0\n",
      "<__main__.RoosterDag object at 0x000001C5A68357B8>\n",
      "S1C2T4 2.0\n",
      "j:  12\n",
      "task met crew gevonden\n",
      "[10  0 20 20 20 20]\n",
      "volgende datum vinden\n",
      "task met crew gevonden\n",
      "[10  0 20 20 20 20]\n",
      "datum gevonden  True\n",
      "datum gevonden  True\n",
      "dag gevonden  2020-01-02\n",
      "uren die nog moeten worden gemaakt:  1.0\n",
      "<__main__.RoosterDag object at 0x000001C5A67E4FD0>\n",
      "S1C2T5 1.0\n",
      "dag gevonden  2020-01-02\n",
      "uren die nog moeten worden gemaakt:  1.0\n",
      "<__main__.RoosterDag object at 0x000001C5A68357B8>\n",
      "S1C2T5 1.0\n",
      "j:  13\n",
      "task met crew gevonden\n",
      "[10  2 20 20 20 20]\n",
      "volgende datum vinden\n",
      "task met crew gevonden\n",
      "[10  2 20 20 20 20]\n",
      "volgende datum vinden\n",
      "task met crew gevonden\n",
      "[10  2 20 20 20 20]\n",
      "datum gevonden  True\n",
      "datum gevonden  True\n",
      "dag gevonden  2020-01-03\n",
      "uren die nog moeten worden gemaakt:  7\n",
      "<__main__.RoosterDag object at 0x000001C5A5FCF898>\n",
      "S1C3T1 3.0\n",
      "dag gevonden  2020-01-03\n",
      "uren die nog moeten worden gemaakt:  7\n",
      "<__main__.RoosterDag object at 0x000001C5A5FBA5F8>\n",
      "S1C3T1 3.0\n",
      "j:  14\n",
      "task met crew gevonden\n",
      "[11 10 20 20 20 20]\n",
      "datum gevonden  True\n",
      "volgende datum vinden\n",
      "task met crew gevonden\n",
      "[11 10 20 20 20 20]\n",
      "datum gevonden  True\n",
      "volgende datum vinden\n",
      "task met crew gevonden\n",
      "[11 10 20 20 20 20]\n",
      "datum gevonden  True\n",
      "datum gevonden  True\n",
      "dag gevonden  2020-01-03\n",
      "uren die nog moeten worden gemaakt:  7\n",
      "<__main__.RoosterDag object at 0x000001C5A6852EF0>\n",
      "S1C3T2A 2.0\n",
      "dag gevonden  2020-01-03\n",
      "uren die nog moeten worden gemaakt:  4.0\n",
      "<__main__.RoosterDag object at 0x000001C5A5FCF898>\n",
      "S1C3T2A 2.0\n",
      "j:  15\n",
      "task met crew gevonden\n",
      "[11 10 20 20 20 20]\n",
      "datum gevonden  True\n",
      "volgende datum vinden\n",
      "task met crew gevonden\n",
      "[11 10 20 20 20 20]\n",
      "datum gevonden  True\n",
      "volgende datum vinden\n",
      "task met crew gevonden\n",
      "[11 10 20 20 20 20]\n",
      "datum gevonden  True\n",
      "datum gevonden  True\n",
      "dag gevonden  2020-01-03\n",
      "uren die nog moeten worden gemaakt:  5.0\n",
      "<__main__.RoosterDag object at 0x000001C5A6852EF0>\n",
      "S1C3T2B 2.0\n",
      "dag gevonden  2020-01-03\n",
      "uren die nog moeten worden gemaakt:  2.0\n",
      "<__main__.RoosterDag object at 0x000001C5A5FCF898>\n",
      "S1C3T2B 2.0\n",
      "j:  16\n",
      "task met crew gevonden\n",
      "[10  6 20 20 20 20]\n",
      "volgende datum vinden\n",
      "task met crew gevonden\n",
      "[10  6 20 20 20 20]\n",
      "volgende datum vinden\n",
      "task met crew gevonden\n",
      "[10  6 20 20 20 20]\n",
      "volgende datum vinden\n",
      "task met crew gevonden\n",
      "[10  6 20 20 20 20]\n",
      "datum gevonden  True\n",
      "datum gevonden  True\n",
      "dag gevonden  2020-01-04\n",
      "uren die nog moeten worden gemaakt:  7\n",
      "<__main__.RoosterDag object at 0x000001C5A5FC55F8>\n",
      "S1C3T3 2.0\n",
      "dag gevonden  2020-01-04\n",
      "uren die nog moeten worden gemaakt:  7\n",
      "<__main__.RoosterDag object at 0x000001C5A60B6128>\n",
      "S1C3T3 2.0\n",
      "j:  17\n",
      "task met crew gevonden\n",
      "[10  0 20 20 20 20]\n",
      "volgende datum vinden\n",
      "task met crew gevonden\n",
      "[10  0 20 20 20 20]\n",
      "volgende datum vinden\n",
      "task met crew gevonden\n",
      "[10  0 20 20 20 20]\n",
      "volgende datum vinden\n",
      "task met crew gevonden\n",
      "[10  0 20 20 20 20]\n",
      "datum gevonden  True\n",
      "datum gevonden  True\n",
      "dag gevonden  2020-01-04\n",
      "uren die nog moeten worden gemaakt:  5.0\n",
      "<__main__.RoosterDag object at 0x000001C5A5FC55F8>\n",
      "S1C3T4 2.0\n",
      "dag gevonden  2020-01-04\n",
      "uren die nog moeten worden gemaakt:  7\n",
      "<__main__.RoosterDag object at 0x000001C5A60DE358>\n",
      "S1C3T4 2.0\n",
      "j:  18\n",
      "task met crew gevonden\n",
      "[10  5 20 20 20 20]\n",
      "volgende datum vinden\n",
      "task met crew gevonden\n",
      "[10  5 20 20 20 20]\n",
      "volgende datum vinden\n",
      "task met crew gevonden\n",
      "[10  5 20 20 20 20]\n",
      "volgende datum vinden\n",
      "task met crew gevonden\n",
      "[10  5 20 20 20 20]\n",
      "datum gevonden  True\n",
      "datum gevonden  True\n",
      "dag gevonden  2020-01-04\n",
      "uren die nog moeten worden gemaakt:  3.0\n",
      "<__main__.RoosterDag object at 0x000001C5A5FC55F8>\n",
      "S1C3T5A 1.5\n",
      "dag gevonden  2020-01-04\n",
      "uren die nog moeten worden gemaakt:  7\n",
      "<__main__.RoosterDag object at 0x000001C5A60B6470>\n",
      "S1C3T5A 1.5\n",
      "j:  19\n",
      "task met crew gevonden\n",
      "[10  5 20 20 20 20]\n",
      "volgende datum vinden\n",
      "task met crew gevonden\n",
      "[10  5 20 20 20 20]\n",
      "volgende datum vinden\n",
      "task met crew gevonden\n",
      "[10  5 20 20 20 20]\n",
      "volgende datum vinden\n",
      "task met crew gevonden\n",
      "[10  5 20 20 20 20]\n",
      "volgende datum vinden\n",
      "task met crew gevonden\n",
      "[10  5 20 20 20 20]\n",
      "datum gevonden  True\n",
      "datum gevonden  True\n",
      "dag gevonden  2020-01-05\n",
      "uren die nog moeten worden gemaakt:  7\n",
      "<__main__.RoosterDag object at 0x000001C5A6845160>\n",
      "S1C3T5B 2.0\n",
      "dag gevonden  2020-01-05\n",
      "uren die nog moeten worden gemaakt:  7\n",
      "<__main__.RoosterDag object at 0x000001C5A6845EF0>\n",
      "S1C3T5B 2.0\n"
     ]
    }
   ],
   "source": [
    "# code voor het invullen van crew bij een tascrewLijn waarbij nog niet wordt gelet op of mensen al bezet zijn.\n",
    "\n",
    "for j in range(0, len(dfSprint1)):\n",
    "    inplannen = False\n",
    "    i = 0\n",
    "    gevondenDatum = False\n",
    "    print(\"j: \",j)\n",
    "    eersteDatum = datetime.date(2020,1, 1)\n",
    "    \n",
    "    while inplannen == False:\n",
    "        if OpdrachtUitvoerenPersoonBool(dfSprint1.iloc[j,rangeSkills], dfCrewCombined.iloc[i,0:13]): # !TODO min en max mensen\n",
    "            print(\"task met crew gevonden\")\n",
    "            dfSprint1.at[j,'Crew'] = np.array(dfCrewCombined.iloc[i,14:20])\n",
    "            print(dfSprint1.Crew[j])\n",
    "            for crewLijn in dfCrewCombined.iloc[i,14:20].tolist():\n",
    "                if crewLijn ==20:\n",
    "                    break\n",
    "                \n",
    "                #if min(Lijstmogelijkheden(crewLijn, dfSprint1.Duration[j]), key=attrgetter('datum')).datum <= eersteDatum:\n",
    "                if VindRoosterdag(crewLijn, eersteDatum).urenTeGaan >= dfSprint1.Duration[j]:\n",
    "                    gevondenDatum = True\n",
    "                else:\n",
    "                    gevondenDatum = False\n",
    "                    break\n",
    "                \n",
    "                print(\"datum gevonden \", gevondenDatum)\n",
    "            if gevondenDatum:\n",
    "                for crewLijn in dfCrewCombined.iloc[i,14:20].tolist():\n",
    "                    if crewLijn ==20:\n",
    "                        break\n",
    "                    dag = VindRoosterdag(crewLijn, eersteDatum)\n",
    "                    print(\"dag gevonden \", eersteDatum)\n",
    "                    print(\"uren die nog moeten worden gemaakt: \", dag.urenTeGaan)\n",
    "                    dag.urenTeGaan = dag.urenTeGaan - dfSprint1.Duration[j]\n",
    "                    print(dag)\n",
    "                    \n",
    "                    print(dfSprint1.Task[j], dfSprint1.Duration[j])\n",
    "                    if type(dag.projectUren) == list:\n",
    "                        dag.projectUren.append(ProjectUren(dfSprint1.Task[j], dfSprint1.Duration[j]))\n",
    "                    else:\n",
    "                        dag.projectUren = add_project(dag.projectUren, [dfSprint1.Task[j], dfSprint1.Duration[j]])\n",
    "#                     werkdagen.append(RoosterDag(k, eersteDatum, 7- dfSprint1.Duration[j] , [dfSprint1.Task[j], dfSprint1.Duration[j]]))\n",
    "                i=0\n",
    "                inplannen = True\n",
    "            else:\n",
    "                print(\"volgende datum vinden\")\n",
    "                eersteDatum = eersteDatum + datetime.timedelta(days=1) # misschien wordt dit te vaak gedaan.\n",
    "                for crewLijn in range(0, len(dfCrew)):\n",
    "                    werkdagen.append(RoosterDag(crewLijn, eersteDatum))\n",
    "        else:\n",
    "            i = i + 1\n"
   ]
  },
  {
   "cell_type": "markdown",
   "metadata": {},
   "source": [
    "Misschien moeten we aan het begin geen eens moeite doen met hoe we de pauzes indelen. gewoon iemand zeven uur per dag laten werken. en dan de volgende dag iets laten beginnen dat pas kan beginnen als de andere taak af is. dan kunnen we later dat nog optimaliseren."
   ]
  },
  {
   "cell_type": "markdown",
   "metadata": {},
   "source": [
    "https://www.daniweb.com/programming/software-development/code/216631/a-list-of-class-objects-python\n",
    "Goede site om een beetje te kijken hoe je met de lijst van objecten moet werken."
   ]
  },
  {
   "cell_type": "code",
   "execution_count": null,
   "metadata": {},
   "outputs": [],
   "source": [
    "# werkdagen = []\n",
    "# werkdagen.append(RoosterDag(\"Robbert\", \"3-10-1996\", 5, [\"S1\", 2]))\n",
    "# werkdagen.append(RoosterDag(\"Robber\", \"3-10-1996\", 4, [\"S1\", 2]))\n",
    "# werkdagen.append(RoosterDag(\"Robert\", \"3-10-1996\", 3, [\"S1\", 2]))\n",
    "\n",
    "# werkdagen.append(RoosterDag(\"Robbert\", \"2-10-1996\", 3, [\"S1\",3]))\n",
    "\n",
    "# werkdagen.append(RoosterDag(\"Robbert\", \"3-9-1996\"))"
   ]
  },
  {
   "cell_type": "code",
   "execution_count": null,
   "metadata": {},
   "outputs": [],
   "source": [
    "# werkdagen.sort(key=operator.attrgetter('datum'))"
   ]
  },
  {
   "cell_type": "code",
   "execution_count": 220,
   "metadata": {},
   "outputs": [
    {
     "data": {
      "text/plain": [
       "datetime.date(2020, 1, 2)"
      ]
     },
     "execution_count": 220,
     "metadata": {},
     "output_type": "execute_result"
    }
   ],
   "source": [
    "min(Lijstmogelijkheden(9,2), key=attrgetter('datum')).datum"
   ]
  },
  {
   "cell_type": "code",
   "execution_count": 246,
   "metadata": {},
   "outputs": [
    {
     "data": {
      "text/plain": [
       "[<__main__.ProjectUren at 0x1c5a5ad08d0>]"
      ]
     },
     "execution_count": 246,
     "metadata": {},
     "output_type": "execute_result"
    }
   ],
   "source": [
    "werkdagen[10].projectUren"
   ]
  },
  {
   "cell_type": "code",
   "execution_count": 244,
   "metadata": {},
   "outputs": [
    {
     "data": {
      "text/plain": [
       "'S1C1T2'"
      ]
     },
     "execution_count": 244,
     "metadata": {},
     "output_type": "execute_result"
    }
   ],
   "source": [
    "dfSprint1.Task[2]\n"
   ]
  },
  {
   "cell_type": "code",
   "execution_count": 252,
   "metadata": {},
   "outputs": [
    {
     "data": {
      "text/plain": [
       "'x'"
      ]
     },
     "execution_count": 252,
     "metadata": {},
     "output_type": "execute_result"
    }
   ],
   "source": [
    "VindRoosterdag(5,datetime.date(2020,1, 1)).projectUren.project"
   ]
  },
  {
   "cell_type": "code",
   "execution_count": 271,
   "metadata": {},
   "outputs": [
    {
     "data": {
      "text/plain": [
       "-4.0"
      ]
     },
     "execution_count": 271,
     "metadata": {},
     "output_type": "execute_result"
    }
   ],
   "source": [
    "werkdagen[10].urenTeGaan"
   ]
  },
  {
   "cell_type": "code",
   "execution_count": null,
   "metadata": {},
   "outputs": [],
   "source": []
  }
 ],
 "metadata": {
  "kernelspec": {
   "display_name": "Python 3",
   "language": "python",
   "name": "python3"
  },
  "language_info": {
   "codemirror_mode": {
    "name": "ipython",
    "version": 3
   },
   "file_extension": ".py",
   "mimetype": "text/x-python",
   "name": "python",
   "nbconvert_exporter": "python",
   "pygments_lexer": "ipython3",
   "version": "3.7.3"
  }
 },
 "nbformat": 4,
 "nbformat_minor": 2
}
