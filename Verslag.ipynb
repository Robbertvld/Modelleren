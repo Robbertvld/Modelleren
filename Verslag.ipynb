{
 "cells": [
  {
   "cell_type": "markdown",
   "metadata": {},
   "source": [
    "# Verslag modelleren"
   ]
  },
  {
   "cell_type": "markdown",
   "metadata": {},
   "source": [
    "*gemaakt door Kees Brouwer en Robbert van Nieuwkerk*"
   ]
  },
  {
   "cell_type": "markdown",
   "metadata": {},
   "source": [
    "Eerst het importeren van de benodigde libraries"
   ]
  },
  {
   "cell_type": "markdown",
   "metadata": {},
   "source": [
    "misschien handige code om te gebruiken:"
   ]
  },
  {
   "cell_type": "markdown",
   "metadata": {},
   "source": [
    "%pwd (de data moet in je workdirectery staan)\n"
   ]
  },
  {
   "cell_type": "code",
   "execution_count": 68,
   "metadata": {
    "code_folding": [
     0
    ]
   },
   "outputs": [],
   "source": [
    "# importeren libs\n",
    "import numpy as np\n",
    "import pandas as pd\n",
    "import datetime"
   ]
  },
  {
   "cell_type": "markdown",
   "metadata": {},
   "source": [
    "er moet ook nog een keer worden uitgelegd wat er in welk df staat en wat er met ieder df is gedaan voordat het geimporteerd is. !TODO"
   ]
  },
  {
   "cell_type": "code",
   "execution_count": 69,
   "metadata": {
    "code_folding": [
     0
    ]
   },
   "outputs": [],
   "source": [
    "# importeren data\n",
    "dfProjectTasks = pd.read_excel('MODPRdataset.xlsx', sheet_name ='Project tasks')\n",
    "dfAdditionalTasks = pd.read_excel('MODPRdataset.xlsx', sheet_name ='Additional tasks')\n",
    "dfCrew = pd.read_excel('MODPRdataset.xlsx', sheet_name ='Crew')\n",
    "dfRooms = pd.read_excel('MODPRdataset.xlsx', sheet_name ='Rooms')\n",
    "dfHiring = pd.read_excel('MODPRdataset.xlsx', sheet_name ='Hiring')"
   ]
  },
  {
   "cell_type": "markdown",
   "metadata": {},
   "source": [
    "Het schoonmaken van de cel, hierdoor kunnen we waardes makkelijker worden teruggevonden dan NaN"
   ]
  },
  {
   "cell_type": "code",
   "execution_count": 70,
   "metadata": {
    "code_folding": [
     0
    ]
   },
   "outputs": [],
   "source": [
    "# aanpassen van de data (NaN -> 0 en x -> 1)\n",
    "dfProjectTasks = dfProjectTasks.fillna(0)\n",
    "dfAdditionalTasks = dfAdditionalTasks.fillna(0)\n",
    "dfCrew = dfCrew.fillna(0)\n",
    "dfRooms = dfRooms.fillna(1)\n",
    "\n",
    "dfProjectTasks.replace(\"x\", 1, inplace=True)\n",
    "dfAdditionalTasks.replace(\"x\", 1, inplace=True)\n",
    "dfCrew.replace(\"x\", 1, inplace=True)\n"
   ]
  },
  {
   "cell_type": "markdown",
   "metadata": {},
   "source": [
    "**Belangrijke info voor het plannen**\n",
    "- De ingehuurde mensen hebben skill 1 en 8 \n",
    "- kort inhuren is maximaal 60 uur\n",
    "- het bedrijf is van 9-18 open\n",
    "- een crewlid kan niet meer dan 3 uur achter elkaar werken (hoe lang is de pauze die moet worden genomen? >> half uur)\n",
    "- een crewlid werkt nooit meer dan 7 uur op een dag\n",
    "- kan een 'acquire skill' maar 1 keer per sprint worden gedaan of kunnen meerdere personen er een volgen? zoveel als je wilt \n",
    "- crewleden moet te samen aan de skills komen voor de opdracht.\n",
    "- moeten de mensen die skill 1 nog niet hebben deze ook leren? hoeven niet te worden geleerd\n",
    "- kan een crewlid eerst een uur aan het ene project werken, dit niet afronden en dan nog aan een ander project? >> bij project tasks moet het aan eengesloten zijn, bij additional tasks hoeft dit niet\n",
    "- moet iedereen tegelijk aan het project werken >> moet!"
   ]
  },
  {
   "cell_type": "markdown",
   "metadata": {},
   "source": [
    "Stel we maken een soort kalender, startend op 1 januari 2020. \n",
    "Hiervan maken we een dataframe met de volgende kolommen:\n",
    "- datum\n",
    "- de taak\n",
    "- persoon die het uitvoerd\n",
    "- begintijd \n",
    "- eindtijd\n",
    "- Tijdsduur?\n",
    "- Of het crewlid is ingehuurd (T/F)\n",
    "- Kosten zodra het crewlid is ingehuurd\n",
    "- Of het een werkdag is (T/F)"
   ]
  },
  {
   "cell_type": "code",
   "execution_count": 71,
   "metadata": {
    "code_folding": [
     0
    ]
   },
   "outputs": [],
   "source": [
    "# het maken van een dataframe als kalender\n",
    "data = pd.date_range(\"2020-01-01\", periods=4*10*7, freq='D')\n",
    "\n",
    "columns = ['Datum', 'Task','Crewlid', 'begintijd', 'eindtijd', 'tijdsduur', 'ingehuurd', 'kosten', 'werkdag']\n",
    "\n",
    "dfKalender = pd.DataFrame(columns=columns)\n",
    "dfKalender['Datum'] = data\n",
    "dfKalender = dfKalender.fillna(0)\n",
    "dfKalender.replace(\"0\", False, inplace=True)\n"
   ]
  },
  {
   "cell_type": "markdown",
   "metadata": {},
   "source": [
    "Het toevoegen of een dag een werkdag is. Er wordt in het weekend niet gewerkt dus deze dagen zullen afvallen."
   ]
  },
  {
   "cell_type": "code",
   "execution_count": 72,
   "metadata": {},
   "outputs": [],
   "source": [
    "dfKalender['werkdag'] = dfKalender['Datum'].apply(lambda Datum: Datum.isoweekday() in range (1,6))"
   ]
  },
  {
   "cell_type": "markdown",
   "metadata": {},
   "source": [
    "Er moet een functie zijn die kan worden aangeroepen om te kijken of een taak door een bepaald persoon kan worden uitgevoerd.\n",
    "\n",
    "Hier moeten de eisen van de opdracht worden meegegeven en een persoon. Vervolgens krijg je een boolean terug of het kan."
   ]
  },
  {
   "cell_type": "code",
   "execution_count": 73,
   "metadata": {
    "code_folding": [
     0
    ]
   },
   "outputs": [],
   "source": [
    "# een paar standaard variabele om de code leesbaar te maken.\n",
    "rangeSkills = range(1,14)\n",
    "rangeWorkdays = range(14,19)\n",
    "rangeRooms = range(14,20)"
   ]
  },
  {
   "cell_type": "markdown",
   "metadata": {},
   "source": [
    "functie waarbij de lijst van ReqSkill moet worden ingevuld van de Task en de skills van een persoon. De functie geeft een boolean terug of deze taak door deze persoon kan worden gedaan.\n",
    "\n",
    "voorbeeld: <br>\n",
    "OpdrachtUitvoeren(dfProjectTasks.iloc[0,rangeSkills],dfCrew.iloc[0,rangeSkills]) \n",
    "<br>uitkomst: False"
   ]
  },
  {
   "cell_type": "code",
   "execution_count": 74,
   "metadata": {
    "code_folding": [
     0
    ]
   },
   "outputs": [],
   "source": [
    "def OpdrachtUitvoerenPersoonBool(eisen, persoon):\n",
    "    for i in rangeSkills:\n",
    "        result = (int(eisen[i-1]) <= \n",
    "                  int(persoon[i-1]))\n",
    "        if result == False:\n",
    "            break\n",
    "    return result"
   ]
  },
  {
   "cell_type": "markdown",
   "metadata": {},
   "source": [
    "de functie hieronder voegt de skills van personen samen en geeft de gezamelijke skills terug.\n",
    "\n",
    "voorbeeld: PersonenSamenvoegen(dfCrew.iloc[0,rangeSkills],dfCrew.iloc[2,rangeSkills])\n",
    "<br>\n",
    "uitkomst: [1, 1, 1, 1, 1, 1, 0, 1, 1, 1, 1, 1, 1, 1]"
   ]
  },
  {
   "cell_type": "code",
   "execution_count": 75,
   "metadata": {
    "code_folding": []
   },
   "outputs": [],
   "source": [
    "def PersonenSamenvoegen(persoon1, persoon2 = [0]*13, persoon3 = [0]*13, persoon4 = [0]*13, persoon5 = [0]*13, persoon6 = [0]*13):\n",
    "    combinedSkill = []\n",
    "    surplus = 0 \n",
    "    for i in rangeSkills:\n",
    "        combinedSkill.append(int(1) if persoon1[i-1]+persoon2[i-1]+persoon3[i-1]+persoon4[i-1]+persoon5[i-1]+persoon6[i-1] > 0 else int(0))\n",
    "        surplus = surplus + (persoon1[i-1]+persoon2[i-1]+persoon3[i-1]+persoon4[i-1]+persoon5[i-1]+persoon6[i-1] -1 \n",
    "                         if persoon1[i-1]+persoon2[i-1]+persoon3[i-1]+persoon4[i-1]+persoon5[i-1]+persoon6[i-1] > 0 else int(0))\n",
    "    combinedSkill.append(surplus)\n",
    "    return combinedSkill"
   ]
  },
  {
   "cell_type": "code",
   "execution_count": 76,
   "metadata": {
    "code_folding": [
     0
    ]
   },
   "outputs": [],
   "source": [
    "# het selecteren van alleen de tasks van sprint 1 en het dataframe maken met de columnnames en het resetten van de index\n",
    "dfProjectTasks = dfProjectTasks[dfProjectTasks['Task'] != 0]\n",
    "dfSprint1 = pd.DataFrame(dfProjectTasks[dfProjectTasks['Task'].str.contains('S1')], \n",
    "                         columns= list(dfProjectTasks)).reset_index(drop=True)\n"
   ]
  },
  {
   "cell_type": "code",
   "execution_count": 77,
   "metadata": {
    "code_folding": [
     0
    ]
   },
   "outputs": [],
   "source": [
    "# het maken van de kolom crew en het aanpassen van het typen naar object zodat er een list of array kan worden toegevoegd aan die kolom.\n",
    "dfSprint1.loc[:,'Crew']= [20]*len(dfSprint1)\n",
    "dfSprint1['Crew'] = dfSprint1['Crew'].astype(object)"
   ]
  },
  {
   "cell_type": "code",
   "execution_count": 78,
   "metadata": {
    "code_folding": []
   },
   "outputs": [],
   "source": [
    "# het verzamelen van data van alle gezamelijke skills in staan tot aan 7 personen\n",
    "\n",
    "dfCrewCombined = []\n",
    "for i in range(0, len(dfCrew)-1): \n",
    "    t = PersonenSamenvoegen(dfCrew.iloc[i,rangeSkills])\n",
    "    t.append(i)\n",
    "    t.append(20)\n",
    "    t.append(20)\n",
    "    t.append(20)\n",
    "    t.append(20)\n",
    "    t.append(20)\n",
    "        \n",
    "    for j in range(0, len(dfCrew)-1): # combinaties met twee mensen\n",
    "        if i==j:\n",
    "            break\n",
    "        t = PersonenSamenvoegen(dfCrew.iloc[i,rangeSkills], dfCrew.iloc[j,rangeSkills])\n",
    "        t.append(i)\n",
    "        t.append(j)\n",
    "        t.append(20)\n",
    "        t.append(20)\n",
    "        t.append(20)\n",
    "        t.append(20)\n",
    "        \n",
    "        dfCrewCombined.append(t)\n",
    "\n",
    "        for k in range(0, len(dfCrew)-1):\n",
    "            if i==k or k==j:\n",
    "                break\n",
    "        \n",
    "            t = PersonenSamenvoegen(dfCrew.iloc[i,rangeSkills], dfCrew.iloc[j,rangeSkills], dfCrew.iloc[k,rangeSkills])\n",
    "            t.append(i)\n",
    "            t.append(j)\n",
    "            t.append(k)\n",
    "            t.append(20)\n",
    "            t.append(20)\n",
    "            t.append(20)\n",
    "            \n",
    "            dfCrewCombined.append(t)\n",
    "            \n",
    "            for l in range(0, len(dfCrew)-1):\n",
    "                if l == k or l == i or l == j :\n",
    "                    break\n",
    "                t = PersonenSamenvoegen(dfCrew.iloc[i,rangeSkills], dfCrew.iloc[j,rangeSkills],\n",
    "                                        dfCrew.iloc[k,rangeSkills], dfCrew.iloc[l,rangeSkills])\n",
    "                t.append(i)\n",
    "                t.append(j)\n",
    "                t.append(k)\n",
    "                t.append(l)\n",
    "                t.append(20)\n",
    "                t.append(20)\n",
    "                dfCrewCombined.append(t)\n",
    "\n",
    "                for m in range(0, len(dfCrew)-1):\n",
    "                    if m==l or m==k or m==j or m==i:\n",
    "                        break\n",
    "                    t = PersonenSamenvoegen(dfCrew.iloc[i,rangeSkills], dfCrew.iloc[j,rangeSkills],\n",
    "                                            dfCrew.iloc[k,rangeSkills], dfCrew.iloc[l,rangeSkills], \n",
    "                                            dfCrew.iloc[m,rangeSkills])\n",
    "                    t.append(i)\n",
    "                    t.append(j)\n",
    "                    t.append(k)\n",
    "                    t.append(l)\n",
    "                    t.append(m)\n",
    "                    t.append(20)\n",
    "                    dfCrewCombined.append(t)\n",
    "                    \n",
    "                    for n in range(0, len(dfCrew)-1):\n",
    "                        if n==m or n==l or n==k or n==j or n==i:\n",
    "                            break\n",
    "                        t = PersonenSamenvoegen(dfCrew.iloc[i,rangeSkills], dfCrew.iloc[j,rangeSkills],\n",
    "                                                dfCrew.iloc[k,rangeSkills], dfCrew.iloc[l,rangeSkills], \n",
    "                                                dfCrew.iloc[m,rangeSkills], dfCrew.iloc[n,rangeSkills])\n",
    "                        t.append(i)\n",
    "                        t.append(j)\n",
    "                        t.append(k)\n",
    "                        t.append(l)\n",
    "                        t.append(m)\n",
    "                        t.append(n)\n",
    "                        dfCrewCombined.append(t)\n",
    "\n",
    "\n",
    "                    \n",
    "       "
   ]
  },
  {
   "cell_type": "markdown",
   "metadata": {},
   "source": [
    "het dataframe dfCrewCombined is een dataframe met alle skills van de medewerkers gezamelijk. Zodra er bij een van de personen '20' staat, betekent dit dat er geen persoon voor die plek is toegevoegd. in het dataframe staan combinaties met twee personen tot zeven ('vo) personen.\n"
   ]
  },
  {
   "cell_type": "code",
   "execution_count": 79,
   "metadata": {
    "code_folding": []
   },
   "outputs": [],
   "source": [
    "# het maken van het dataframe dfCrewCombined\n",
    "ar = np.array(dfCrewCombined, dtype=np.int16) \n",
    "dfCrewCombined = pd.DataFrame(ar, columns= ['Skill1', 'Skill2', 'Skill3', 'Skill4', 'Skill5', 'Skill6', 'Skill7', 'Skill8', \n",
    "                                'Skill9', 'Skill10', 'Skill11', 'Skill12', 'Skill13', 'Surplus', 'persoon1', 'persoon2', \n",
    "                                'persoon3', 'persoon4', 'persoon5', 'persoon6'])"
   ]
  },
  {
   "cell_type": "code",
   "execution_count": 80,
   "metadata": {
    "code_folding": []
   },
   "outputs": [],
   "source": [
    "# creeren van de kolom 'sum' zodat we weten hoeveel skill de crew gecombineerd heeft\n",
    "dfCrewCombined['sum'] = dfCrewCombined.iloc[:,0:13].sum(axis = 1) "
   ]
  },
  {
   "cell_type": "code",
   "execution_count": 81,
   "metadata": {
    "code_folding": []
   },
   "outputs": [],
   "source": [
    "# sorteren op de kolommen sum en surplus (overschot aan skills) zodat er zo min mogelijk overbodige skills worden gebruikt \n",
    "dfCrewCombined = dfCrewCombined.sort_values(['sum', 'Surplus'], ascending= [True, True])\n",
    "dfCrewCombined = dfCrewCombined.reset_index(drop=True)"
   ]
  },
  {
   "cell_type": "code",
   "execution_count": 91,
   "metadata": {},
   "outputs": [
    {
     "ename": "TypeError",
     "evalue": "'list' object cannot be interpreted as an integer",
     "output_type": "error",
     "traceback": [
      "\u001b[1;31m---------------------------------------------------------------------------\u001b[0m",
      "\u001b[1;31mTypeError\u001b[0m                                 Traceback (most recent call last)",
      "\u001b[1;32m<ipython-input-91-75e5d2ca237b>\u001b[0m in \u001b[0;36m<module>\u001b[1;34m\u001b[0m\n\u001b[0;32m      9\u001b[0m             \u001b[0minplannen\u001b[0m \u001b[1;33m=\u001b[0m \u001b[1;32mTrue\u001b[0m\u001b[1;33m\u001b[0m\u001b[1;33m\u001b[0m\u001b[0m\n\u001b[0;32m     10\u001b[0m             \u001b[0mdfSprint1\u001b[0m\u001b[1;33m.\u001b[0m\u001b[0mat\u001b[0m\u001b[1;33m[\u001b[0m\u001b[0mj\u001b[0m\u001b[1;33m,\u001b[0m\u001b[1;34m'Crew'\u001b[0m\u001b[1;33m]\u001b[0m \u001b[1;33m=\u001b[0m \u001b[0mnp\u001b[0m\u001b[1;33m.\u001b[0m\u001b[0marray\u001b[0m\u001b[1;33m(\u001b[0m\u001b[0mdfCrewCombined\u001b[0m\u001b[1;33m.\u001b[0m\u001b[0miloc\u001b[0m\u001b[1;33m[\u001b[0m\u001b[0mi\u001b[0m\u001b[1;33m,\u001b[0m\u001b[1;36m14\u001b[0m\u001b[1;33m:\u001b[0m\u001b[1;36m20\u001b[0m\u001b[1;33m]\u001b[0m\u001b[1;33m)\u001b[0m\u001b[1;33m\u001b[0m\u001b[1;33m\u001b[0m\u001b[0m\n\u001b[1;32m---> 11\u001b[1;33m             \u001b[1;32mfor\u001b[0m \u001b[0mj\u001b[0m \u001b[1;32min\u001b[0m \u001b[0mrange\u001b[0m\u001b[1;33m(\u001b[0m\u001b[0mdfCrewCombined\u001b[0m\u001b[1;33m.\u001b[0m\u001b[0miloc\u001b[0m\u001b[1;33m[\u001b[0m\u001b[0mi\u001b[0m\u001b[1;33m,\u001b[0m\u001b[1;36m14\u001b[0m\u001b[1;33m:\u001b[0m\u001b[1;36m20\u001b[0m\u001b[1;33m]\u001b[0m\u001b[1;33m.\u001b[0m\u001b[0mtolist\u001b[0m\u001b[1;33m(\u001b[0m\u001b[1;33m)\u001b[0m\u001b[1;33m)\u001b[0m\u001b[1;33m:\u001b[0m\u001b[1;33m\u001b[0m\u001b[1;33m\u001b[0m\u001b[0m\n\u001b[0m\u001b[0;32m     12\u001b[0m                 \u001b[1;32mif\u001b[0m \u001b[0mj\u001b[0m \u001b[1;33m==\u001b[0m\u001b[1;36m20\u001b[0m\u001b[1;33m:\u001b[0m\u001b[1;33m\u001b[0m\u001b[1;33m\u001b[0m\u001b[0m\n\u001b[0;32m     13\u001b[0m                     \u001b[1;32mbreak\u001b[0m\u001b[1;33m\u001b[0m\u001b[1;33m\u001b[0m\u001b[0m\n",
      "\u001b[1;31mTypeError\u001b[0m: 'list' object cannot be interpreted as an integer"
     ]
    }
   ],
   "source": [
    "# code voor het invullen van crew bij een task waarbij nog niet wordt gelet op of mensen al bezet zijn.\n",
    "werkdagen = []\n",
    "for j in range(0, len(dfSprint1)):\n",
    "    inplannen = False\n",
    "    i = 0\n",
    "    \n",
    "    while inplannen == False:\n",
    "        if OpdrachtUitvoerenPersoonBool(dfSprint1.iloc[j,rangeSkills], dfCrewCombined.iloc[i,rangeSkills]):\n",
    "            inplannen = True\n",
    "            dfSprint1.at[j,'Crew'] = np.array(dfCrewCombined.iloc[i,14:20])\n",
    "            for j in range(dfCrewCombined.iloc[i,14:20].tolist()):\n",
    "                if j ==20:\n",
    "                    break\n",
    "                \n",
    "                werkdagen.append(RoosterDag(j,\"1-1-1990\",))\n",
    "            i=0\n",
    "        else:\n",
    "            i = i + 1\n"
   ]
  },
  {
   "cell_type": "code",
   "execution_count": 57,
   "metadata": {
    "code_folding": [
     0,
     5
    ]
   },
   "outputs": [],
   "source": [
    "class ProjectUren:\n",
    "    def __init__(self, project, uren):\n",
    "        self.project = project\n",
    "        self.uren = uren\n",
    "        \n",
    "class RoosterDag:\n",
    "    \n",
    "    def __init__(self, crew, datum, urenTeGaan=7, projectUren=['x', 'x']):\n",
    "        self.crew = crew\n",
    "        self.datum = datum\n",
    "        self.urenTeGaan = urenTeGaan\n",
    "        self.projectUren = ProjectUren(*projectUren)\n",
    "         \n",
    "        # stel we zetten in deze classe nog de velden 'nog te werken uren', 'projecten, aantal uur(in array)'\n",
    "        # hierin zou een methode moeten met een max van 7 uur per dag >> wss met een setter\n",
    "        \n",
    "    def set_rooster(self, projectUren):\n",
    "        # hier moet een rooster voor een dag worden gemaakt\n",
    "        pass"
   ]
  },
  {
   "cell_type": "markdown",
   "metadata": {},
   "source": [
    "Misschien moeten we aan het begin geen eens moeite doen met hoe we de pauzes indelen. gewoon iemand zeven uur per dag laten werken. en dan de volgende dag iets laten beginnen dat pas kan beginnen als de andere taak af is. dan kunnen we later dat nog optimaliseren."
   ]
  },
  {
   "cell_type": "markdown",
   "metadata": {},
   "source": [
    "https://www.daniweb.com/programming/software-development/code/216631/a-list-of-class-objects-python\n",
    "Goede site om een beetje te kijken hoe je met de lijst van objecten moet werken."
   ]
  },
  {
   "cell_type": "code",
   "execution_count": 64,
   "metadata": {},
   "outputs": [],
   "source": [
    "werkdagen = []\n",
    "werkdagen.append(RoosterDag(\"Robbert\", \"3-10-1996\", 5, [\"S1\", 2]))\n",
    "werkdagen.append(RoosterDag(\"Robber\", \"3-10-1996\", 4, [\"S1\", 2]))\n",
    "werkdagen.append(RoosterDag(\"Robert\", \"3-10-1996\", 3, [\"S1\", 2]))\n",
    "\n",
    "werkdagen.append(RoosterDag(\"Robbert\", \"2-10-1996\", 3, [\"S1\",3]))\n",
    "\n",
    "werkdagen.append(RoosterDag(\"Robbert\", \"3-9-1996\"))"
   ]
  },
  {
   "cell_type": "code",
   "execution_count": 65,
   "metadata": {},
   "outputs": [
    {
     "data": {
      "text/plain": [
       "'x'"
      ]
     },
     "execution_count": 65,
     "metadata": {},
     "output_type": "execute_result"
    }
   ],
   "source": [
    "werkdagen[4].projectUren.project"
   ]
  },
  {
   "cell_type": "code",
   "execution_count": null,
   "metadata": {},
   "outputs": [],
   "source": [
    "werkdagen.sort(key=operator.attrgetter('datum'))"
   ]
  },
  {
   "cell_type": "code",
   "execution_count": 17,
   "metadata": {},
   "outputs": [
    {
     "name": "stdout",
     "output_type": "stream",
     "text": [
      "Robbert\n",
      "Robert\n"
     ]
    }
   ],
   "source": [
    "for dag in werkdagen:\n",
    "    if \"S1\" in dag.projectUren.:\n",
    "        print(dag.crew)"
   ]
  },
  {
   "cell_type": "code",
   "execution_count": 90,
   "metadata": {},
   "outputs": [
    {
     "ename": "TypeError",
     "evalue": "int() argument must be a string, a bytes-like object or a number, not 'list'",
     "output_type": "error",
     "traceback": [
      "\u001b[1;31m---------------------------------------------------------------------------\u001b[0m",
      "\u001b[1;31mTypeError\u001b[0m                                 Traceback (most recent call last)",
      "\u001b[1;32m<ipython-input-90-e0b666ba7440>\u001b[0m in \u001b[0;36m<module>\u001b[1;34m\u001b[0m\n\u001b[1;32m----> 1\u001b[1;33m \u001b[0mint\u001b[0m\u001b[1;33m(\u001b[0m\u001b[0mdfCrewCombined\u001b[0m\u001b[1;33m.\u001b[0m\u001b[0miloc\u001b[0m\u001b[1;33m[\u001b[0m\u001b[1;36m0\u001b[0m\u001b[1;33m,\u001b[0m\u001b[1;36m14\u001b[0m\u001b[1;33m:\u001b[0m\u001b[1;36m20\u001b[0m\u001b[1;33m]\u001b[0m\u001b[1;33m.\u001b[0m\u001b[0mtolist\u001b[0m\u001b[1;33m(\u001b[0m\u001b[1;33m)\u001b[0m\u001b[1;33m)\u001b[0m\u001b[1;33m\u001b[0m\u001b[1;33m\u001b[0m\u001b[0m\n\u001b[0m",
      "\u001b[1;31mTypeError\u001b[0m: int() argument must be a string, a bytes-like object or a number, not 'list'"
     ]
    }
   ],
   "source": [
    "dfCrewCombined.iloc[0,14:20].tolist()\n"
   ]
  },
  {
   "cell_type": "code",
   "execution_count": null,
   "metadata": {},
   "outputs": [],
   "source": []
  }
 ],
 "metadata": {
  "kernelspec": {
   "display_name": "Python 3",
   "language": "python",
   "name": "python3"
  },
  "language_info": {
   "codemirror_mode": {
    "name": "ipython",
    "version": 3
   },
   "file_extension": ".py",
   "mimetype": "text/x-python",
   "name": "python",
   "nbconvert_exporter": "python",
   "pygments_lexer": "ipython3",
   "version": "3.7.3"
  }
 },
 "nbformat": 4,
 "nbformat_minor": 2
}
