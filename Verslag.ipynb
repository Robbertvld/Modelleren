{
 "cells": [
  {
   "cell_type": "markdown",
   "metadata": {},
   "source": [
    "# Verslag modelleren"
   ]
  },
  {
   "cell_type": "markdown",
   "metadata": {},
   "source": [
    "*gemaakt door Kees Brouwer en Robbert van Nieuwkerk*"
   ]
  },
  {
   "cell_type": "markdown",
   "metadata": {},
   "source": [
    "Eerst het importeren van de benodigde libraries"
   ]
  },
  {
   "cell_type": "code",
   "execution_count": 1,
   "metadata": {
    "code_folding": []
   },
   "outputs": [],
   "source": [
    "# importeren libs\n",
    "import numpy as np\n",
    "import pandas as pd\n",
    "# import datetime\n",
    "from itertools import product\n",
    "# import itertools\n",
    "import pickle\n",
    "import copy\n",
    "\n",
    "# import sys\n",
    "# import dovpanda\n",
    "import Importeer \n",
    "import Hulpfuncties\n",
    "import CrewCombined\n",
    "import Dataframe\n",
    "import Controleren\n",
    "from Class import MogelijkeCombinaties, Rooster"
   ]
  },
  {
   "cell_type": "code",
   "execution_count": 2,
   "metadata": {},
   "outputs": [],
   "source": [
    "# print(sys.getsizeof(dfSprint))"
   ]
  },
  {
   "cell_type": "markdown",
   "metadata": {},
   "source": [
    "er moet ook nog een keer worden uitgelegd wat er in welk df staat en wat er met ieder df is gedaan voordat het geimporteerd is. !TODO"
   ]
  },
  {
   "cell_type": "markdown",
   "metadata": {},
   "source": [
    "Het gegeven excelbestand wat de informatie vat, is op een aantal punten aangepast voordat het is geimporteerd. \n",
    "Het bestand heeft voor iedere skill een aparte kolom. Mocht de skill nodig zijn voor de gegeven opdracht, dan staat er een 'x' in deze kolom. Ditzelfde is gedaan met de skills van medewerkers, de dagen waarop de medewerkers werken en voor de kamers waarin de opdrachten moeten worden uitgevoerd. Voor de additional tasks zijn er een aantal opdracht die in iedere sprint moeten worden uitgevoerd. Deze zijn opgesplitst, voor iedere sprint een aparte lijn. Hierbij is ook een kolom toegevoegd met het aantal frequenties voor deze opdracht. Ook is er een kolom toegevoegd bij het tabblad 'additional tasks' waarin staat aangegeven met hoeveel personen het minimaal moet worden uitgevoerd.\n",
    "Hieronder worden de verschillende tabbladen ingelezen en toegekent aan een dataframe.\n",
    "Verdere bewerkingen op de data worden gedaan in dit document.\n"
   ]
  },
  {
   "cell_type": "code",
   "execution_count": 3,
   "metadata": {},
   "outputs": [],
   "source": [
    "# CONSTANTE\n",
    "SPRINT = 'S2'\n",
    "\n",
    "\n",
    "# ik weet niet hoe vaak deze nog wordt gebruikt.\n",
    "rangeSkills = range(1,14)\n",
    "rangeWorkdays = range(14,19)\n",
    "rangeRooms = range(14,20)"
   ]
  },
  {
   "cell_type": "code",
   "execution_count": 4,
   "metadata": {},
   "outputs": [],
   "source": [
    "# Importeren van verschillende sheets. Dit wordt gedaan met functies.\n",
    "# in deze functies wordt het ook in het goede format gezet.\n",
    "\n",
    "dfCrew = Importeer.Crew()\n",
    "dfRooms = Importeer.Rooms()\n",
    "dfSprint = Importeer.dfSprint(SPRINT)"
   ]
  },
  {
   "cell_type": "code",
   "execution_count": 5,
   "metadata": {},
   "outputs": [],
   "source": [
    "# CrewCombined.MakeCrewCombined(dfCrew) # voor het maken van dfCrewcombined.csv (duurt even)\n",
    "dfCrewCombined = pd.read_csv('CrewCombined.csv') # lezen van csv zodra die in wdir staat."
   ]
  },
  {
   "cell_type": "markdown",
   "metadata": {},
   "source": [
    "**Belangrijke info voor het plannen**\n",
    "- De ingehuurde mensen hebben skill 1 en 8 \n",
    "- kort inhuren is maximaal 60 uur\n",
    "- het bedrijf is van 9-18 open\n",
    "- een crewlid kan niet meer dan 3 uur achter elkaar werken, daarna een half uur pauze\n",
    "- een crewlid werkt nooit meer dan 7 uur op een dag\n",
    "- kan een 'acquire skill' kan voor ieder crewlid worden gedaan, geen beperking in aantal \n",
    "- crewleden moet te samen aan de skills komen voor de opdracht.\n",
    "- Mensen die skill één niet hebben, hoeven deze niet te leren\n",
    "- Een crewleden kunnen alleen aan eengesloten uren aan een project task werken. Dit mag niet worden doorbroken met een andere task. Met additional tasks mag dit wel. \n",
    "- iedereen moet tegelijk aan het project werken als ze op hetzelfde project staan."
   ]
  },
  {
   "cell_type": "markdown",
   "metadata": {},
   "source": [
    "Moet A volledig worden afgerond of maar 1 keer van het aantal frequenties? Moet volledig worden ingepland"
   ]
  },
  {
   "cell_type": "markdown",
   "metadata": {},
   "source": [
    "We maken een soort kalender, startend op 6 januari 2020 en geen weekend dagen erin.\n",
    "Hiervan maken we een dataframe met de volgende kolommen:\n",
    "- datum\n",
    "- een kolom met dataframes met de volgende punten:\n",
    "    - tijd per halfuur\n",
    "    - persoon\n",
    "    - aantal uren te gaan\n",
    "    - hierin staan de projecten met de kamer (is dit zo?)\n",
    "- Of het een werkdag is (T/F)\n",
    "- In welke sprint de dag zich bevindt."
   ]
  },
  {
   "cell_type": "code",
   "execution_count": 6,
   "metadata": {},
   "outputs": [],
   "source": [
    "dfKalenderCrew = Dataframe.LegeKalender()"
   ]
  },
  {
   "cell_type": "code",
   "execution_count": 7,
   "metadata": {},
   "outputs": [],
   "source": [
    "dfKalenderRoom = pickle.loads(pickle.dumps(dfKalenderCrew)) # het maken van een kalender van de kamers, tot dit punt waren de df's hetzelfde"
   ]
  },
  {
   "cell_type": "code",
   "execution_count": 8,
   "metadata": {},
   "outputs": [],
   "source": [
    "# dfSprint.iloc[:,26]= dfSprint.apply(lambda rij : Hulpfuncties.ToevoegenMogelijkeCombinaties(rij, \n",
    "#                                                     dfSprint, dfCrewCombined), axis = 1)\n",
    "\n",
    "# dfSprint.iloc[:,27] = dfSprint['Frequency']*dfSprint['MinReqCrew']"
   ]
  },
  {
   "cell_type": "code",
   "execution_count": 9,
   "metadata": {},
   "outputs": [],
   "source": [
    "# # het schrijven van dfSprint naar een pickle bestand\n",
    "# filehandler = open('dfSprint2_begin.obj', 'wb') \n",
    "# pickle.dump(dfSprint, filehandler)"
   ]
  },
  {
   "cell_type": "code",
   "execution_count": 10,
   "metadata": {},
   "outputs": [],
   "source": [
    "# het lezen van dfSprint, met meerdere keren runnen een heel stuk sneller\n",
    "filehandler = open('dfSprint2_begin.obj', 'rb') \n",
    "dfSprint = pickle.load(filehandler)"
   ]
  },
  {
   "cell_type": "code",
   "execution_count": 11,
   "metadata": {},
   "outputs": [],
   "source": [
    "dfSprint = dfSprint.sort_values(['AantalMogelijkheden'], ascending= [False])\n",
    "dfSprint = dfSprint.reset_index(drop=True)"
   ]
  },
  {
   "cell_type": "code",
   "execution_count": 12,
   "metadata": {},
   "outputs": [],
   "source": [
    "Eisen = dfSprint.Eis.unique().tolist()\n",
    "Eisen.remove('no')\n",
    "\n",
    "dfSprint = (dfSprint.loc[dfSprint['Task'].isin(Eisen)].append(dfSprint.loc[~dfSprint['Task'].isin(Eisen)])).reset_index(drop=True)"
   ]
  },
  {
   "cell_type": "code",
   "execution_count": 13,
   "metadata": {},
   "outputs": [],
   "source": [
    "StandaardRooster = Dataframe.RoosterCrew(dfCrew)\n",
    "dfRoosterKamer = Dataframe.RoosterKamer(dfRooms)"
   ]
  },
  {
   "cell_type": "code",
   "execution_count": 14,
   "metadata": {},
   "outputs": [],
   "source": [
    "# inplannen stand-up op dinsdagochtend\n",
    "dfRoosterDinsdag = copy.deepcopy(StandaardRooster)\n",
    "dfRoosterDinsdag.iloc[1:7,1:14] = \"weekly stand-up\"\n",
    "dfRoosterDinsdag.iloc[0,1:14] = 4\n",
    "\n",
    "dfRoosterKamerDinsdag = copy.deepcopy(dfRoosterKamer)\n",
    "dfRoosterKamerDinsdag.loc[0:5, 'workshop A'] =\"weekly stand-up\""
   ]
  },
  {
   "cell_type": "code",
   "execution_count": 15,
   "metadata": {},
   "outputs": [
    {
     "name": "stderr",
     "output_type": "stream",
     "text": [
      "C:\\Users\\Robbert\\Anaconda3\\lib\\site-packages\\ipykernel_launcher.py:10: SettingWithCopyWarning: \n",
      "A value is trying to be set on a copy of a slice from a DataFrame\n",
      "\n",
      "See the caveats in the documentation: http://pandas.pydata.org/pandas-docs/stable/indexing.html#indexing-view-versus-copy\n",
      "  # Remove the CWD from sys.path while we load stuff.\n",
      "C:\\Users\\Robbert\\Anaconda3\\lib\\site-packages\\ipykernel_launcher.py:11: SettingWithCopyWarning: \n",
      "A value is trying to be set on a copy of a slice from a DataFrame\n",
      "\n",
      "See the caveats in the documentation: http://pandas.pydata.org/pandas-docs/stable/indexing.html#indexing-view-versus-copy\n",
      "  # This is added back by InteractiveShellApp.init_path()\n"
     ]
    }
   ],
   "source": [
    "for i in range(0,5): # het maken van de lege roosters voor week 1\n",
    "    if i== 1:\n",
    "        rooster = copy.deepcopy(dfRoosterDinsdag)\n",
    "        rooster.iloc[0,1:] = (np.array(rooster.iloc[0,1:])* np.array(dfCrew.iloc[:,14+i])).tolist() # het maken van de lijst urentegaan met de vermenigvuldiging van de lijst met dagen dat iedereen werkt en een lijst met alleen maar 7's, resultaat: 7 als iemand werkt, als iemand niet werkt, 0.\n",
    "        dfKalenderCrew.DagRooster[i] = Rooster(rooster)\n",
    "        dfKalenderRoom.DagRooster[i] = Rooster(copy.deepcopy(dfRoosterKamerDinsdag))\n",
    "    else:\n",
    "        rooster = copy.deepcopy(StandaardRooster)\n",
    "        rooster.iloc[0,1:] = (np.array(rooster.iloc[0,1:])* np.array(dfCrew.iloc[:,14+i])).tolist() # het maken van de lijst urentegaan met de vermenigvuldiging van de lijst met dagen dat iedereen werkt en een lijst met alleen maar 7's, resultaat: 7 als iemand werkt, als iemand niet werkt, 0.\n",
    "        dfKalenderCrew.DagRooster[i] = Rooster(rooster)\n",
    "        dfKalenderRoom.DagRooster[i] = Rooster(copy.deepcopy(dfRoosterKamer))\n",
    "    \n",
    "for i in range(1,11): # het kopieren van de roosters van week 1 voor de laatste weken in de sprint (9-10 weken)\n",
    "    for j in range(0,5):\n",
    "        dfKalenderCrew.DagRooster[i*5 + j] = copy.deepcopy(dfKalenderCrew.DagRooster[j])\n",
    "        dfKalenderRoom.DagRooster[i*5 + j] = copy.deepcopy(dfKalenderRoom.DagRooster[j])"
   ]
  },
  {
   "cell_type": "markdown",
   "metadata": {},
   "source": [
    "!TODO opdrachten over twee dagen"
   ]
  },
  {
   "cell_type": "code",
   "execution_count": 16,
   "metadata": {},
   "outputs": [],
   "source": [
    "dfSprintAddprep, dfSprintAddpost = Importeer.AdditionalTasks(SPRINT)"
   ]
  },
  {
   "cell_type": "code",
   "execution_count": 17,
   "metadata": {
    "code_folding": []
   },
   "outputs": [],
   "source": [
    "def InplannenAdd(taskdf, dfKalenderCrew, dfKalenderRoom, dfSprint, dfAdd, prep = True, inplannen = False): \n",
    "\n",
    "    dfTempCrew = pickle.loads(pickle.dumps(dfKalenderCrew))\n",
    "    dfTempRoom = pickle.loads(pickle.dumps(dfKalenderRoom))\n",
    "    dfTempAdd = pickle.loads(pickle.dumps(dfAdd))\n",
    "    gelukt = False\n",
    "    \n",
    "    if prep:\n",
    "        dagIndex = 0\n",
    "        weken = [1]\n",
    "        maxDagIndex = 5\n",
    "    else:\n",
    "        dagIndex = 40\n",
    "        weken = [9,10]\n",
    "        maxDagIndex = 50\n",
    "    # crew zelf maken\n",
    "    crew = []\n",
    "\n",
    "    if (taskdf.AdditionalReq == 0):\n",
    "        \n",
    "        task = taskdf.Task[5:]\n",
    "        crewlijst = dfSprint[dfSprint.Task == task].iloc[0,:].Crew\n",
    "        minCrew = taskdf['People.1']\n",
    "\n",
    "        crewlijst = Hulpfuncties.somOverigeUren(crewlijst, weken, dfKalenderCrew)['crew'].iloc[:minCrew].to_list()\n",
    "        crewlijst.extend([20]*(6-minCrew))\n",
    "       \n",
    "    elif ((len(taskdf.AdditionalReq) > 5) & (len(taskdf.AdditionalReq) < 8)):\n",
    "        crewlijst = dfSprint[dfSprint.Task == taskdf.AdditionalReq].iloc[0,:].Crew\n",
    "    elif (len(taskdf.AdditionalReq) > 8 ):\n",
    "        taskA = taskdf.AdditionalReq[0:7]\n",
    "        taskB = taskdf.AdditionalReq[-7:]\n",
    "        taskACrew = dfSprint[dfSprint.Task == taskA].iloc[0,:].Crew\n",
    "        taskBCrew = dfSprint[dfSprint.Task == taskB].iloc[0,:].Crew\n",
    "        crewlijst = [20]*6\n",
    "        b = list(set(taskACrew)&set(taskBCrew))\n",
    "        try:\n",
    "            b.remove(20)\n",
    "        except:\n",
    "            None\n",
    "        crewlijst[0] = b[0]\n",
    "        \n",
    "    a = list(set(crewlijst))\n",
    "    try:\n",
    "        a.remove(20)\n",
    "    except:\n",
    "        None\n",
    "    aantalCrew = len(a)\n",
    "    kolom = 1\n",
    "    if (int(taskdf['People.1'])==int(aantalCrew)):\n",
    "        kolom = 1\n",
    "    elif (int(taskdf['People.2'])==int(aantalCrew)):\n",
    "        kolom = 2\n",
    "    elif (int(taskdf['People.3'])==int(aantalCrew)):\n",
    "        kolom = 3\n",
    "    \n",
    "    lijstVrijeUren = [0]*16\n",
    "    controle = True\n",
    "    dagIndexKopie = dagIndex\n",
    "    halfuur = 0\n",
    "    \n",
    "    if (int(round(taskdf[str(\"DurationExp.\" + str(kolom))]*2)) == 0):\n",
    "        dfAdd.loc[dfAdd['Task'] == taskdf.Task, 'Voltooid'] = True\n",
    "        gelukt = True\n",
    "    \n",
    "    else:\n",
    "        while halfuur < int(round(taskdf[str(\"DurationExp.\" + str(kolom))]*2)):\n",
    "            for i in crewlijst:\n",
    "                if (i == 20):\n",
    "                    break\n",
    "                if ((float(dfKalenderCrew.iloc[dagIndexKopie,:].DagRooster.dfRooster.iloc[0,i+1]))< float(0.5)):\n",
    "                    controle = False\n",
    "                    break \n",
    "                lijstVrijeUren = Hulpfuncties.CombinatieLijst(dfKalenderCrew.iloc[dagIndexKopie,:].DagRooster.dfRooster.iloc[1:,i+1].tolist(), lijstVrijeUren) # voor iedere op hetzelfde moment\n",
    "\n",
    "            if (Hulpfuncties.contains([0], lijstVrijeUren) != False) & controle:\n",
    "                rijbegin , rijeind = Hulpfuncties.contains([0], lijstVrijeUren)\n",
    "\n",
    "                kamerGevonden = False\n",
    "\n",
    "                kamers = Hulpfuncties.ZoekKamers(taskdf.iloc[14:20], dfAdd)\n",
    "\n",
    "                for kamer in kamers:\n",
    "                    if (Hulpfuncties.contains([0], dfKalenderRoom.iloc[dagIndexKopie,:].DagRooster.dfRooster[kamer].iloc[1:].tolist()) != False):\n",
    "\n",
    "                        if inplannen:\n",
    "                            dfKalenderRoom.iloc[dagIndexKopie,:].DagRooster.dfRooster[kamer].iloc[rijbegin:rijeind+1] = taskdf.Task\n",
    "                        kamerGevonden = True\n",
    "                        controle = True\n",
    "                        break\n",
    "                    elif ((kamer == kamers[-1]) & (kamerGevonden == False)):                       \n",
    "                        controle = False\n",
    "\n",
    "                if (controle == True):\n",
    "                    for i in crewlijst:\n",
    "                        if i == 20:\n",
    "                            break\n",
    "\n",
    "                        if inplannen:\n",
    "                            dfKalenderCrew.iloc[dagIndexKopie,:].DagRooster.dfRooster.iloc[rijbegin+1:rijeind+2,i+1] = taskdf.Task \n",
    "                            dfKalenderCrew.iloc[dagIndexKopie,:].DagRooster.dfRooster.iloc[0,i+1] = dfKalenderCrew.iloc[dagIndexKopie,:].DagRooster.dfRooster.iloc[0,i+1] - float(0.5)\n",
    "\n",
    "    #                     print(taskdf)\n",
    "                        dfAdd.at[dfAdd.index[dfAdd['Task'] == taskdf.Task].tolist()[0], 'Crew'] = crewlijst\n",
    "                        halfuur +=1\n",
    "\n",
    "                        if (halfuur == (int(round(taskdf[str(\"DurationExp.\" + str(kolom))]*2))-1)):\n",
    "                            if inplannen:\n",
    "                                dfAdd.loc[dfAdd['Task'] == taskdf.Task, 'Voltooid'] = True\n",
    "                                print(str(taskdf.Task) + \"is daadwerkelijk ingepland\")\n",
    "                            return [True, dfKalenderCrew, dfKalenderRoom, dfAdd]\n",
    "\n",
    "            else:\n",
    "\n",
    "                dagIndexKopie+=1\n",
    "\n",
    "                controle = True\n",
    "                lijstVrijeUren = [0]*16\n",
    "                if (dagIndexKopie == maxDagIndex):\n",
    "                    break\n",
    "\n",
    "    print(str(taskdf.Task) + \" Niet ingepland of: \" + str(gelukt))\n",
    "    return [gelukt, dfTempCrew, dfTempRoom, dfTempAdd]"
   ]
  },
  {
   "cell_type": "code",
   "execution_count": 18,
   "metadata": {},
   "outputs": [],
   "source": [
    "def InplannenOpdracht(taskdf, dagIndex, dfKalenderCrew, dfKalenderRoom, dfAddPrep, dfAddPost, dfSprint, crewA = []): \n",
    "# task moet een rij van het dataframe dfSprint zijn en een dag (als index) van een rij in dfKalenderCrew (verschil ten opzichten van 2020-1-6)\n",
    "        \n",
    "    dfTempCrew = pickle.loads(pickle.dumps(dfKalenderCrew))\n",
    "    dfTempRoom = pickle.loads(pickle.dumps(dfKalenderRoom))\n",
    "    dfTempSprint = pickle.loads(pickle.dumps(dfSprint))\n",
    "    dfTempPrep = pickle.loads(pickle.dumps(dfAddPrep))\n",
    "    dfTempPost = pickle.loads(pickle.dumps(dfAddPost))\n",
    "    \n",
    "    for crewlijst in taskdf.Mogelijkheden.dfMogelijkheden.iloc[:,1].tolist():\n",
    "        a = list(set(crewlijst))\n",
    "        try:\n",
    "            a.remove(20)\n",
    "        except:\n",
    "            None\n",
    "        if ((len(set(a) & set(crewA)) >= 1) | (len(crewA)==0)):\n",
    "            lijstVrijeUren = [0]*16\n",
    "            controle = True\n",
    "            dagIndexKopie = dagIndex\n",
    "\n",
    "            freq = 1\n",
    "            while (freq <= int(taskdf.Frequency)) & (taskdf.Voltooid == False):\n",
    "                if (taskdf.Eis != 'no') & (dagIndex == dagIndexKopie):\n",
    "                    eis = dfSprint[dfSprint.Task == task.Eis].iloc[0,:]\n",
    "                    lijstVrijeUren = [1]*int(eis[\"Moment Voltooid\"]) + [0]*(16-int(eis[\"Moment Voltooid\"]))\n",
    "                for i in crewlijst:\n",
    "                    if (i == 20):\n",
    "                        break\n",
    "                    if ((float(dfKalenderCrew.iloc[dagIndexKopie,:].DagRooster.dfRooster.iloc[0,i+1]))< float(taskdf.Duration)):\n",
    "                        controle = False\n",
    "                        break \n",
    "                    lijstVrijeUren = Hulpfuncties.CombinatieLijst(dfKalenderCrew.iloc[dagIndexKopie,:].DagRooster.dfRooster.iloc[1:,i+1].tolist(), lijstVrijeUren) # voor iedere op hetzelfde moment\n",
    "                duration = [0]*int(round(taskdf.Duration*2))\n",
    "\n",
    "                if (Hulpfuncties.contains(duration, lijstVrijeUren) != False) & controle:\n",
    "                    rijbegin , rijeind = Hulpfuncties.contains(duration, lijstVrijeUren)\n",
    "\n",
    "                    kamerGevonden = False\n",
    "                    for i in taskdf.Mogelijkheden.dfMogelijkheden.iloc[0,0]:\n",
    "                        if (Hulpfuncties.contains(duration, dfKalenderRoom.iloc[dagIndexKopie,:].DagRooster.dfRooster[i].iloc[1:].tolist()) != False):\n",
    "                            dfKalenderRoom.iloc[dagIndexKopie,:].DagRooster.dfRooster[i].iloc[rijbegin:rijeind+1] = taskdf.Task + \" freq: \" + str(freq)\n",
    "                            kamerGevonden = True\n",
    "                            controle = True\n",
    "                            break\n",
    "                        elif ((i == taskdf.Mogelijkheden.dfMogelijkheden.iloc[0,0][-1])& (kamerGevonden == False)):\n",
    "                            controle = False\n",
    "                    if (controle == True):\n",
    "                        for i in crewlijst:\n",
    "                            if i == 20:\n",
    "                                break\n",
    "\n",
    "                            dfKalenderCrew.iloc[dagIndexKopie,:].DagRooster.dfRooster.iloc[rijbegin+1:rijeind+2,i+1] = taskdf.Task + \" freq: \" + str(freq) # + \" \" + str(taskdf.Mogelijkheden.dfMogelijkheden.iloc[crewlijst,0].iloc[0])\n",
    "                            dfKalenderCrew.iloc[dagIndexKopie,:].DagRooster.dfRooster.iloc[0,i+1] = dfKalenderCrew.iloc[dagIndexKopie,:].DagRooster.dfRooster.iloc[0,i+1] - float(taskdf.Duration)\n",
    "\n",
    "                        if (freq == int(taskdf.Frequency)):\n",
    "                            print(taskdf.Task)\n",
    "                            dfPrep = pd.DataFrame(dfAddPrep[dfAddPrep['Task'].str.contains(taskdf.Task)]).reset_index(drop=True).iloc[0,:]\n",
    "                            dfPost = pd.DataFrame(dfAddPost[dfAddPost['Task'].str.contains(taskdf.Task)]).reset_index(drop=True).iloc[0,:]\n",
    "                            \n",
    "                            dfSprint.at[dfSprint.index[dfSprint['Task'] == taskdf.Task].tolist()[0], 'Crew'] = crewlijst\n",
    "\n",
    "                            print(crewlijst)\n",
    "                            geluktPrep, dfKalenderCrew, dfKalenderRoom, dfAddPrep = InplannenAdd(taskdf=dfPrep, dfKalenderCrew=dfKalenderCrew,\n",
    "                                                                                      dfKalenderRoom=dfKalenderRoom, \n",
    "                                                                                      dfSprint=dfSprint, dfAdd=dfAddPrep, \n",
    "                                                                                      prep = True)\n",
    "\n",
    "                            geluktPost, dfKalenderCrew, dfKalenderRoom, dfAddPost = InplannenAdd(taskdf=dfPost, dfKalenderCrew=dfKalenderCrew,\n",
    "                                                                                      dfKalenderRoom=dfKalenderRoom, \n",
    "                                                                                      dfSprint=dfSprint, dfAdd=dfAddPost, \n",
    "                                                                                      prep = False)\n",
    "                            \n",
    "                            if (geluktPost & geluktPrep):\n",
    "                                \n",
    "                                geluktPrep, dfKalenderCrew, dfKalenderRoom, dfAddPrep = InplannenAdd(taskdf=dfPrep, dfKalenderCrew=dfKalenderCrew,\n",
    "                                                                                      dfKalenderRoom=dfKalenderRoom, \n",
    "                                                                                      dfSprint=dfSprint, dfAdd=dfAddPrep, \n",
    "                                                                                        prep = True, inplannen=True)\n",
    "                                geluktPost, dfKalenderCrew, dfKalenderRoom, dfAddPost = InplannenAdd(taskdf=dfPost, dfKalenderCrew=dfKalenderCrew,\n",
    "                                                                                      dfKalenderRoom=dfKalenderRoom, \n",
    "                                                                                      dfSprint=dfSprint, dfAdd=dfAddPost, \n",
    "                                                                                      prep = False, inplannen=True)\n",
    "                                \n",
    "                                dfSprint.loc[dfSprint['Task'] == taskdf.Task, 'Moment Voltooid'] = rijeind +1\n",
    "                                dfSprint.loc[dfSprint['Task'] == taskdf.Task, 'Dag Voltooid'] = dagIndexKopie\n",
    "                                dfSprint.loc[dfSprint['Task'] == taskdf.Task, 'Voltooid'] = True\n",
    "                                \n",
    "                                print(str(taskdf.Task) + \" is ingepland, met prep en post\")\n",
    "                                return [dfKalenderCrew, dfKalenderRoom, dfSprint, dfAddPrep, dfAddPost]\n",
    "\n",
    "                        freq += 1\n",
    "                else:\n",
    "                    dagIndexKopie+=1\n",
    "\n",
    "                    controle = True\n",
    "                    lijstVrijeUren = [0]*16\n",
    "                    if (dagIndexKopie == 10):\n",
    "                        dfKalenderCrew = pickle.loads(pickle.dumps(dfTempCrew))\n",
    "                        dfKalenderRoom = pickle.loads(pickle.dumps(dfTempRoom))\n",
    "                        dfSprint = pickle.loads(pickle.dumps(dfTempSprint))\n",
    "                        dfAddPrep = pickle.loads(pickle.dumps(dfTempPrep))\n",
    "                        dfAddPost = pickle.loads(pickle.dumps(dfTempPost))\n",
    "                        break\n",
    "    return [dfKalenderCrew, dfKalenderRoom, dfSprint, dfAddPrep, dfAddPost]\n",
    "    \n",
    "    "
   ]
  },
  {
   "cell_type": "code",
   "execution_count": 19,
   "metadata": {},
   "outputs": [],
   "source": [
    "dfk = pickle.loads(pickle.dumps(dfKalenderCrew))\n",
    "dfr = pickle.loads(pickle.dumps(dfKalenderRoom))\n",
    "dfs = pickle.loads(pickle.dumps(dfSprint))\n",
    "dfprep = pickle.loads(pickle.dumps(dfSprintAddprep))\n",
    "dfpost = pickle.loads(pickle.dumps(dfSprintAddpost))"
   ]
  },
  {
   "cell_type": "code",
   "execution_count": 20,
   "metadata": {
    "scrolled": true
   },
   "outputs": [
    {
     "name": "stdout",
     "output_type": "stream",
     "text": [
      "S2C1T5A\n",
      "[10, 5, 20, 20, 20, 20]\n",
      "prep S2C1T5Ais daadwerkelijk ingepland\n",
      "post S2C1T5Ais daadwerkelijk ingepland\n",
      "S2C1T5A is ingepland, met prep en post\n",
      "S2C2T4A\n",
      "[4, 20, 20, 20, 20, 20]\n",
      "prep S2C2T4Ais daadwerkelijk ingepland\n",
      "post S2C2T4Ais daadwerkelijk ingepland\n",
      "S2C2T4A is ingepland, met prep en post\n",
      "S2C3T2A\n",
      "[11, 20, 20, 20, 20, 20]\n",
      "prep S2C3T2Ais daadwerkelijk ingepland\n",
      "post S2C3T2Ais daadwerkelijk ingepland\n",
      "S2C3T2A is ingepland, met prep en post\n",
      "S2C1T5B\n",
      "[5, 0, 20, 20, 20, 20]\n",
      "prep S2C1T5B Niet ingepland of: True\n",
      "prep S2C1T5B Niet ingepland of: True\n",
      "post S2C1T5Bis daadwerkelijk ingepland\n",
      "S2C1T5B is ingepland, met prep en post\n",
      "S2C2T4B\n",
      "[8, 4, 20, 20, 20, 20]\n",
      "prep S2C2T4B Niet ingepland of: True\n",
      "prep S2C2T4B Niet ingepland of: True\n",
      "post S2C2T4Bis daadwerkelijk ingepland\n",
      "S2C2T4B is ingepland, met prep en post\n",
      "S2C3T2B\n",
      "[11, 20, 20, 20, 20, 20]\n",
      "prep S2C3T2Bis daadwerkelijk ingepland\n",
      "post S2C3T2Bis daadwerkelijk ingepland\n",
      "S2C3T2B is ingepland, met prep en post\n",
      "S2C1T3\n",
      "[8, 6, 20, 20, 20, 20]\n",
      "prep S2C1T3is daadwerkelijk ingepland\n",
      "post S2C1T3is daadwerkelijk ingepland\n",
      "S2C1T3 is ingepland, met prep en post\n",
      "S2C1T4\n",
      "[9, 3, 20, 20, 20, 20]\n",
      "prep S2C1T4is daadwerkelijk ingepland\n",
      "post S2C1T4is daadwerkelijk ingepland\n",
      "S2C1T4 is ingepland, met prep en post\n",
      "S2C1T2\n",
      "[7, 0, 20, 20, 20, 20]\n",
      "prep S2C1T2is daadwerkelijk ingepland\n",
      "post S2C1T2is daadwerkelijk ingepland\n",
      "S2C1T2 is ingepland, met prep en post\n",
      "S2C1T1\n",
      "[8, 6, 5, 0, 20, 20]\n",
      "prep S2C1T1is daadwerkelijk ingepland\n",
      "post S2C1T1is daadwerkelijk ingepland\n",
      "S2C1T1 is ingepland, met prep en post\n",
      "S2C2T5\n",
      "[1, 0, 20, 20, 20, 20]\n",
      "prep S2C2T5is daadwerkelijk ingepland\n",
      "post S2C2T5is daadwerkelijk ingepland\n",
      "S2C2T5 is ingepland, met prep en post\n",
      "S2C2T3\n",
      "[2, 20, 20, 20, 20, 20]\n",
      "prep S2C2T3is daadwerkelijk ingepland\n",
      "post S2C2T3is daadwerkelijk ingepland\n",
      "S2C2T3 is ingepland, met prep en post\n",
      "S2C2T2\n",
      "[11, 20, 20, 20, 20, 20]\n",
      "prep S2C2T2is daadwerkelijk ingepland\n",
      "post S2C2T2is daadwerkelijk ingepland\n",
      "S2C2T2 is ingepland, met prep en post\n",
      "S2C2T1\n",
      "[12, 10, 7, 6, 20, 20]\n",
      "prep S2C2T1 Niet ingepland of: True\n",
      "prep S2C2T1 Niet ingepland of: True\n",
      "post S2C2T1is daadwerkelijk ingepland\n",
      "S2C2T1 is ingepland, met prep en post\n",
      "S2C1T6\n",
      "[10, 20, 20, 20, 20, 20]\n",
      "prep S2C1T6is daadwerkelijk ingepland\n",
      "post S2C1T6is daadwerkelijk ingepland\n",
      "S2C1T6 is ingepland, met prep en post\n",
      "S2C3T1\n",
      "[11, 5, 2, 20, 20, 20]\n"
     ]
    },
    {
     "ename": "IndexError",
     "evalue": "single positional indexer is out-of-bounds",
     "output_type": "error",
     "traceback": [
      "\u001b[1;31m---------------------------------------------------------------------------\u001b[0m",
      "\u001b[1;31mIndexError\u001b[0m                                Traceback (most recent call last)",
      "\u001b[1;32m<ipython-input-20-2457c4cdbda8>\u001b[0m in \u001b[0;36m<module>\u001b[1;34m\u001b[0m\n\u001b[0;32m     44\u001b[0m                                                                \u001b[0mdfKalenderRoom\u001b[0m\u001b[1;33m=\u001b[0m\u001b[0mdfKalenderRoom\u001b[0m\u001b[1;33m,\u001b[0m\u001b[1;33m\u001b[0m\u001b[1;33m\u001b[0m\u001b[0m\n\u001b[0;32m     45\u001b[0m                                                                \u001b[0mdfAddPrep\u001b[0m\u001b[1;33m=\u001b[0m\u001b[0mdfSprintAddprep\u001b[0m\u001b[1;33m,\u001b[0m \u001b[0mdfAddPost\u001b[0m\u001b[1;33m=\u001b[0m\u001b[0mdfSprintAddpost\u001b[0m\u001b[1;33m,\u001b[0m\u001b[1;33m\u001b[0m\u001b[1;33m\u001b[0m\u001b[0m\n\u001b[1;32m---> 46\u001b[1;33m                                                                dfSprint=dfSprint)\n\u001b[0m\u001b[0;32m     47\u001b[0m     \u001b[0miteratie\u001b[0m \u001b[1;33m+=\u001b[0m \u001b[1;36m1\u001b[0m\u001b[1;33m\u001b[0m\u001b[1;33m\u001b[0m\u001b[0m\n\u001b[0;32m     48\u001b[0m     \u001b[0mprint\u001b[0m\u001b[1;33m(\u001b[0m\u001b[0mdfSprint\u001b[0m\u001b[1;33m.\u001b[0m\u001b[0miloc\u001b[0m\u001b[1;33m[\u001b[0m\u001b[1;33m:\u001b[0m\u001b[1;33m,\u001b[0m\u001b[1;33m[\u001b[0m\u001b[1;36m0\u001b[0m\u001b[1;33m,\u001b[0m\u001b[1;36m20\u001b[0m\u001b[1;33m,\u001b[0m\u001b[1;36m21\u001b[0m\u001b[1;33m,\u001b[0m\u001b[1;36m22\u001b[0m\u001b[1;33m,\u001b[0m\u001b[1;36m23\u001b[0m\u001b[1;33m,\u001b[0m\u001b[1;36m27\u001b[0m\u001b[1;33m,\u001b[0m\u001b[1;36m28\u001b[0m\u001b[1;33m,\u001b[0m\u001b[1;36m29\u001b[0m\u001b[1;33m,\u001b[0m\u001b[1;36m30\u001b[0m\u001b[1;33m,\u001b[0m\u001b[1;36m31\u001b[0m\u001b[1;33m]\u001b[0m\u001b[1;33m]\u001b[0m\u001b[1;33m)\u001b[0m\u001b[1;33m\u001b[0m\u001b[1;33m\u001b[0m\u001b[0m\n",
      "\u001b[1;32m<ipython-input-18-41c421c62a6e>\u001b[0m in \u001b[0;36mInplannenOpdracht\u001b[1;34m(taskdf, dagIndex, dfKalenderCrew, dfKalenderRoom, dfAddPrep, dfAddPost, dfSprint, crewA)\u001b[0m\n\u001b[0;32m     69\u001b[0m                                                                                       \u001b[0mdfKalenderRoom\u001b[0m\u001b[1;33m=\u001b[0m\u001b[0mdfKalenderRoom\u001b[0m\u001b[1;33m,\u001b[0m\u001b[1;33m\u001b[0m\u001b[1;33m\u001b[0m\u001b[0m\n\u001b[0;32m     70\u001b[0m                                                                                       \u001b[0mdfSprint\u001b[0m\u001b[1;33m=\u001b[0m\u001b[0mdfSprint\u001b[0m\u001b[1;33m,\u001b[0m \u001b[0mdfAdd\u001b[0m\u001b[1;33m=\u001b[0m\u001b[0mdfAddPost\u001b[0m\u001b[1;33m,\u001b[0m\u001b[1;33m\u001b[0m\u001b[1;33m\u001b[0m\u001b[0m\n\u001b[1;32m---> 71\u001b[1;33m                                                                                       prep = False)\n\u001b[0m\u001b[0;32m     72\u001b[0m \u001b[1;33m\u001b[0m\u001b[0m\n\u001b[0;32m     73\u001b[0m                             \u001b[1;32mif\u001b[0m \u001b[1;33m(\u001b[0m\u001b[0mgeluktPost\u001b[0m \u001b[1;33m&\u001b[0m \u001b[0mgeluktPrep\u001b[0m\u001b[1;33m)\u001b[0m\u001b[1;33m:\u001b[0m\u001b[1;33m\u001b[0m\u001b[1;33m\u001b[0m\u001b[0m\n",
      "\u001b[1;32m<ipython-input-17-cb7cc449f29d>\u001b[0m in \u001b[0;36mInplannenAdd\u001b[1;34m(taskdf, dfKalenderCrew, dfKalenderRoom, dfSprint, dfAdd, prep, inplannen)\u001b[0m\n\u001b[0;32m     27\u001b[0m \u001b[1;33m\u001b[0m\u001b[0m\n\u001b[0;32m     28\u001b[0m     \u001b[1;32melif\u001b[0m \u001b[1;33m(\u001b[0m\u001b[1;33m(\u001b[0m\u001b[0mlen\u001b[0m\u001b[1;33m(\u001b[0m\u001b[0mtaskdf\u001b[0m\u001b[1;33m.\u001b[0m\u001b[0mAdditionalReq\u001b[0m\u001b[1;33m)\u001b[0m \u001b[1;33m>\u001b[0m \u001b[1;36m5\u001b[0m\u001b[1;33m)\u001b[0m \u001b[1;33m&\u001b[0m \u001b[1;33m(\u001b[0m\u001b[0mlen\u001b[0m\u001b[1;33m(\u001b[0m\u001b[0mtaskdf\u001b[0m\u001b[1;33m.\u001b[0m\u001b[0mAdditionalReq\u001b[0m\u001b[1;33m)\u001b[0m \u001b[1;33m<\u001b[0m \u001b[1;36m8\u001b[0m\u001b[1;33m)\u001b[0m\u001b[1;33m)\u001b[0m\u001b[1;33m:\u001b[0m\u001b[1;33m\u001b[0m\u001b[1;33m\u001b[0m\u001b[0m\n\u001b[1;32m---> 29\u001b[1;33m         \u001b[0mcrewlijst\u001b[0m \u001b[1;33m=\u001b[0m \u001b[0mdfSprint\u001b[0m\u001b[1;33m[\u001b[0m\u001b[0mdfSprint\u001b[0m\u001b[1;33m.\u001b[0m\u001b[0mTask\u001b[0m \u001b[1;33m==\u001b[0m \u001b[0mtaskdf\u001b[0m\u001b[1;33m.\u001b[0m\u001b[0mAdditionalReq\u001b[0m\u001b[1;33m]\u001b[0m\u001b[1;33m.\u001b[0m\u001b[0miloc\u001b[0m\u001b[1;33m[\u001b[0m\u001b[1;36m0\u001b[0m\u001b[1;33m,\u001b[0m\u001b[1;33m:\u001b[0m\u001b[1;33m]\u001b[0m\u001b[1;33m.\u001b[0m\u001b[0mCrew\u001b[0m\u001b[1;33m\u001b[0m\u001b[1;33m\u001b[0m\u001b[0m\n\u001b[0m\u001b[0;32m     30\u001b[0m     \u001b[1;32melif\u001b[0m \u001b[1;33m(\u001b[0m\u001b[0mlen\u001b[0m\u001b[1;33m(\u001b[0m\u001b[0mtaskdf\u001b[0m\u001b[1;33m.\u001b[0m\u001b[0mAdditionalReq\u001b[0m\u001b[1;33m)\u001b[0m \u001b[1;33m>\u001b[0m \u001b[1;36m8\u001b[0m \u001b[1;33m)\u001b[0m\u001b[1;33m:\u001b[0m\u001b[1;33m\u001b[0m\u001b[1;33m\u001b[0m\u001b[0m\n\u001b[0;32m     31\u001b[0m         \u001b[0mtaskA\u001b[0m \u001b[1;33m=\u001b[0m \u001b[0mtaskdf\u001b[0m\u001b[1;33m.\u001b[0m\u001b[0mAdditionalReq\u001b[0m\u001b[1;33m[\u001b[0m\u001b[1;36m0\u001b[0m\u001b[1;33m:\u001b[0m\u001b[1;36m7\u001b[0m\u001b[1;33m]\u001b[0m\u001b[1;33m\u001b[0m\u001b[1;33m\u001b[0m\u001b[0m\n",
      "\u001b[1;32m~\\Anaconda3\\lib\\site-packages\\pandas\\core\\indexing.py\u001b[0m in \u001b[0;36m__getitem__\u001b[1;34m(self, key)\u001b[0m\n\u001b[0;32m   1492\u001b[0m             \u001b[1;32mexcept\u001b[0m \u001b[1;33m(\u001b[0m\u001b[0mKeyError\u001b[0m\u001b[1;33m,\u001b[0m \u001b[0mIndexError\u001b[0m\u001b[1;33m,\u001b[0m \u001b[0mAttributeError\u001b[0m\u001b[1;33m)\u001b[0m\u001b[1;33m:\u001b[0m\u001b[1;33m\u001b[0m\u001b[1;33m\u001b[0m\u001b[0m\n\u001b[0;32m   1493\u001b[0m                 \u001b[1;32mpass\u001b[0m\u001b[1;33m\u001b[0m\u001b[1;33m\u001b[0m\u001b[0m\n\u001b[1;32m-> 1494\u001b[1;33m             \u001b[1;32mreturn\u001b[0m \u001b[0mself\u001b[0m\u001b[1;33m.\u001b[0m\u001b[0m_getitem_tuple\u001b[0m\u001b[1;33m(\u001b[0m\u001b[0mkey\u001b[0m\u001b[1;33m)\u001b[0m\u001b[1;33m\u001b[0m\u001b[1;33m\u001b[0m\u001b[0m\n\u001b[0m\u001b[0;32m   1495\u001b[0m         \u001b[1;32melse\u001b[0m\u001b[1;33m:\u001b[0m\u001b[1;33m\u001b[0m\u001b[1;33m\u001b[0m\u001b[0m\n\u001b[0;32m   1496\u001b[0m             \u001b[1;31m# we by definition only have the 0th axis\u001b[0m\u001b[1;33m\u001b[0m\u001b[1;33m\u001b[0m\u001b[1;33m\u001b[0m\u001b[0m\n",
      "\u001b[1;32m~\\Anaconda3\\lib\\site-packages\\pandas\\core\\indexing.py\u001b[0m in \u001b[0;36m_getitem_tuple\u001b[1;34m(self, tup)\u001b[0m\n\u001b[0;32m   2141\u001b[0m     \u001b[1;32mdef\u001b[0m \u001b[0m_getitem_tuple\u001b[0m\u001b[1;33m(\u001b[0m\u001b[0mself\u001b[0m\u001b[1;33m,\u001b[0m \u001b[0mtup\u001b[0m\u001b[1;33m)\u001b[0m\u001b[1;33m:\u001b[0m\u001b[1;33m\u001b[0m\u001b[1;33m\u001b[0m\u001b[0m\n\u001b[0;32m   2142\u001b[0m \u001b[1;33m\u001b[0m\u001b[0m\n\u001b[1;32m-> 2143\u001b[1;33m         \u001b[0mself\u001b[0m\u001b[1;33m.\u001b[0m\u001b[0m_has_valid_tuple\u001b[0m\u001b[1;33m(\u001b[0m\u001b[0mtup\u001b[0m\u001b[1;33m)\u001b[0m\u001b[1;33m\u001b[0m\u001b[1;33m\u001b[0m\u001b[0m\n\u001b[0m\u001b[0;32m   2144\u001b[0m         \u001b[1;32mtry\u001b[0m\u001b[1;33m:\u001b[0m\u001b[1;33m\u001b[0m\u001b[1;33m\u001b[0m\u001b[0m\n\u001b[0;32m   2145\u001b[0m             \u001b[1;32mreturn\u001b[0m \u001b[0mself\u001b[0m\u001b[1;33m.\u001b[0m\u001b[0m_getitem_lowerdim\u001b[0m\u001b[1;33m(\u001b[0m\u001b[0mtup\u001b[0m\u001b[1;33m)\u001b[0m\u001b[1;33m\u001b[0m\u001b[1;33m\u001b[0m\u001b[0m\n",
      "\u001b[1;32m~\\Anaconda3\\lib\\site-packages\\pandas\\core\\indexing.py\u001b[0m in \u001b[0;36m_has_valid_tuple\u001b[1;34m(self, key)\u001b[0m\n\u001b[0;32m    221\u001b[0m                 \u001b[1;32mraise\u001b[0m \u001b[0mIndexingError\u001b[0m\u001b[1;33m(\u001b[0m\u001b[1;34m'Too many indexers'\u001b[0m\u001b[1;33m)\u001b[0m\u001b[1;33m\u001b[0m\u001b[1;33m\u001b[0m\u001b[0m\n\u001b[0;32m    222\u001b[0m             \u001b[1;32mtry\u001b[0m\u001b[1;33m:\u001b[0m\u001b[1;33m\u001b[0m\u001b[1;33m\u001b[0m\u001b[0m\n\u001b[1;32m--> 223\u001b[1;33m                 \u001b[0mself\u001b[0m\u001b[1;33m.\u001b[0m\u001b[0m_validate_key\u001b[0m\u001b[1;33m(\u001b[0m\u001b[0mk\u001b[0m\u001b[1;33m,\u001b[0m \u001b[0mi\u001b[0m\u001b[1;33m)\u001b[0m\u001b[1;33m\u001b[0m\u001b[1;33m\u001b[0m\u001b[0m\n\u001b[0m\u001b[0;32m    224\u001b[0m             \u001b[1;32mexcept\u001b[0m \u001b[0mValueError\u001b[0m\u001b[1;33m:\u001b[0m\u001b[1;33m\u001b[0m\u001b[1;33m\u001b[0m\u001b[0m\n\u001b[0;32m    225\u001b[0m                 raise ValueError(\"Location based indexing can only have \"\n",
      "\u001b[1;32m~\\Anaconda3\\lib\\site-packages\\pandas\\core\\indexing.py\u001b[0m in \u001b[0;36m_validate_key\u001b[1;34m(self, key, axis)\u001b[0m\n\u001b[0;32m   2068\u001b[0m             \u001b[1;32mreturn\u001b[0m\u001b[1;33m\u001b[0m\u001b[1;33m\u001b[0m\u001b[0m\n\u001b[0;32m   2069\u001b[0m         \u001b[1;32melif\u001b[0m \u001b[0mis_integer\u001b[0m\u001b[1;33m(\u001b[0m\u001b[0mkey\u001b[0m\u001b[1;33m)\u001b[0m\u001b[1;33m:\u001b[0m\u001b[1;33m\u001b[0m\u001b[1;33m\u001b[0m\u001b[0m\n\u001b[1;32m-> 2070\u001b[1;33m             \u001b[0mself\u001b[0m\u001b[1;33m.\u001b[0m\u001b[0m_validate_integer\u001b[0m\u001b[1;33m(\u001b[0m\u001b[0mkey\u001b[0m\u001b[1;33m,\u001b[0m \u001b[0maxis\u001b[0m\u001b[1;33m)\u001b[0m\u001b[1;33m\u001b[0m\u001b[1;33m\u001b[0m\u001b[0m\n\u001b[0m\u001b[0;32m   2071\u001b[0m         \u001b[1;32melif\u001b[0m \u001b[0misinstance\u001b[0m\u001b[1;33m(\u001b[0m\u001b[0mkey\u001b[0m\u001b[1;33m,\u001b[0m \u001b[0mtuple\u001b[0m\u001b[1;33m)\u001b[0m\u001b[1;33m:\u001b[0m\u001b[1;33m\u001b[0m\u001b[1;33m\u001b[0m\u001b[0m\n\u001b[0;32m   2072\u001b[0m             \u001b[1;31m# a tuple should already have been caught by this point\u001b[0m\u001b[1;33m\u001b[0m\u001b[1;33m\u001b[0m\u001b[1;33m\u001b[0m\u001b[0m\n",
      "\u001b[1;32m~\\Anaconda3\\lib\\site-packages\\pandas\\core\\indexing.py\u001b[0m in \u001b[0;36m_validate_integer\u001b[1;34m(self, key, axis)\u001b[0m\n\u001b[0;32m   2137\u001b[0m         \u001b[0mlen_axis\u001b[0m \u001b[1;33m=\u001b[0m \u001b[0mlen\u001b[0m\u001b[1;33m(\u001b[0m\u001b[0mself\u001b[0m\u001b[1;33m.\u001b[0m\u001b[0mobj\u001b[0m\u001b[1;33m.\u001b[0m\u001b[0m_get_axis\u001b[0m\u001b[1;33m(\u001b[0m\u001b[0maxis\u001b[0m\u001b[1;33m)\u001b[0m\u001b[1;33m)\u001b[0m\u001b[1;33m\u001b[0m\u001b[1;33m\u001b[0m\u001b[0m\n\u001b[0;32m   2138\u001b[0m         \u001b[1;32mif\u001b[0m \u001b[0mkey\u001b[0m \u001b[1;33m>=\u001b[0m \u001b[0mlen_axis\u001b[0m \u001b[1;32mor\u001b[0m \u001b[0mkey\u001b[0m \u001b[1;33m<\u001b[0m \u001b[1;33m-\u001b[0m\u001b[0mlen_axis\u001b[0m\u001b[1;33m:\u001b[0m\u001b[1;33m\u001b[0m\u001b[1;33m\u001b[0m\u001b[0m\n\u001b[1;32m-> 2139\u001b[1;33m             \u001b[1;32mraise\u001b[0m \u001b[0mIndexError\u001b[0m\u001b[1;33m(\u001b[0m\u001b[1;34m\"single positional indexer is out-of-bounds\"\u001b[0m\u001b[1;33m)\u001b[0m\u001b[1;33m\u001b[0m\u001b[1;33m\u001b[0m\u001b[0m\n\u001b[0m\u001b[0;32m   2140\u001b[0m \u001b[1;33m\u001b[0m\u001b[0m\n\u001b[0;32m   2141\u001b[0m     \u001b[1;32mdef\u001b[0m \u001b[0m_getitem_tuple\u001b[0m\u001b[1;33m(\u001b[0m\u001b[0mself\u001b[0m\u001b[1;33m,\u001b[0m \u001b[0mtup\u001b[0m\u001b[1;33m)\u001b[0m\u001b[1;33m:\u001b[0m\u001b[1;33m\u001b[0m\u001b[1;33m\u001b[0m\u001b[0m\n",
      "\u001b[1;31mIndexError\u001b[0m: single positional indexer is out-of-bounds"
     ]
    }
   ],
   "source": [
    "import warnings\n",
    "warnings.filterwarnings(\"ignore\")\n",
    "# misschien bij een hogere iteratie een counter bijhouden voor de tasks die niet zijn ingepland.\n",
    "iteratie = 0\n",
    "while (dfSprint.Voltooid.sum()< len(dfSprint)) & (iteratie < 3):\n",
    "    dfSprint = dfSprint.sort_values(['Voltooid', 'Eis', 'AantalMogelijkheden'], ascending= [True, True, False]).reset_index(drop=True)\n",
    "    Eisen = dfSprint.Eis.unique().tolist()\n",
    "    Eisen.remove('no')\n",
    "\n",
    "    dfSprint = (dfSprint.loc[dfSprint['Task'].isin(Eisen)].append(dfSprint.loc[~dfSprint['Task'].isin(Eisen)])).reset_index(drop=True)\n",
    "    rows = dfSprint.Task.tolist()\n",
    "    \n",
    "    dfKalenderCrew = pickle.loads(pickle.dumps(dfk))\n",
    "    dfKalenderRoom = pickle.loads(pickle.dumps(dfr))\n",
    "    dfSprintAddprep = pickle.loads(pickle.dumps(dfprep))\n",
    "    dfSprintAddpost = pickle.loads(pickle.dumps(dfpost))\n",
    "    \n",
    "    dfSprint = pickle.loads(pickle.dumps(dfs))\n",
    "    dfSprint = dfSprint.set_index('Task')\n",
    "    dfSprint = dfSprint.reindex(index= rows)\n",
    "    dfSprint = dfSprint.reset_index()\n",
    "    \n",
    "    for i in range(0,len(dfSprint)):\n",
    "        task = dfSprint.iloc[i,:]\n",
    "        dagIndex = 5\n",
    "        dfTempCrew = pickle.loads(pickle.dumps(dfKalenderCrew))\n",
    "        dfTempRoom = pickle.loads(pickle.dumps(dfKalenderRoom))\n",
    "        dfTempSprint = pickle.loads(pickle.dumps(dfSprint)) \n",
    "        crewA = []\n",
    "        if task.Eis != 'no':\n",
    "            eis = dfSprint[dfSprint.Task == task.Eis].iloc[0,:]\n",
    "            if eis.Voltooid == False:    \n",
    "                dfKalenderCrew, dfKalenderRoom, dfSprint, dfSprintAddprep, dfSprintAddpost = InplannenOpdracht(taskdf=eis,\n",
    "                                                                   dagIndex=dagIndex, dfSprint=dfSprint,\n",
    "                                                                   dfKalenderCrew=dfKalenderCrew, \n",
    "                                                                   dfKalenderRoom=dfKalenderRoom,\n",
    "                                                                   dfAddPrep=dfSprintAddprep, dfAddPost=dfSprintAddpost)\n",
    "            eis = dfSprint[dfSprint.Task == task.Eis].iloc[0,:]\n",
    "            dagIndex = int(eis['Dag Voltooid'])\n",
    "            crewA = eis.Crew\n",
    "        dfKalenderCrew, dfKalenderRoom, dfSprint, dfSprintAddprep, dfSprintAddpost = InplannenOpdracht(taskdf=task,\n",
    "                                                               dagIndex=dagIndex, crewA=crewA,\n",
    "                                                               dfKalenderCrew=dfKalenderCrew, \n",
    "                                                               dfKalenderRoom=dfKalenderRoom,\n",
    "                                                               dfAddPrep=dfSprintAddprep, dfAddPost=dfSprintAddpost,\n",
    "                                                               dfSprint=dfSprint)\n",
    "    iteratie += 1\n",
    "    print(dfSprint.iloc[:,[0,20,21,22,23,27,28,29,30,31]])\n"
   ]
  },
  {
   "cell_type": "code",
   "execution_count": 26,
   "metadata": {},
   "outputs": [],
   "source": [
    "dfSprint.at[dfSprint.index[dfSprint['Task'] == \"S2C3T1\"].tolist()[0], 'Crew'] \n"
   ]
  },
  {
   "cell_type": "code",
   "execution_count": null,
   "metadata": {},
   "outputs": [],
   "source": [
    "dfSprint.iloc[:,[0,20,21,22,23,25,27,28,29,30,31]]"
   ]
  },
  {
   "cell_type": "code",
   "execution_count": null,
   "metadata": {},
   "outputs": [],
   "source": [
    "dfSprintAddpost.iloc[:,[0,20,21,22,23,27,28,31,32,33,34]]"
   ]
  },
  {
   "cell_type": "code",
   "execution_count": null,
   "metadata": {},
   "outputs": [],
   "source": [
    "dfKalenderCrew.iloc[0,:].DagRooster.dfRooster"
   ]
  },
  {
   "cell_type": "code",
   "execution_count": null,
   "metadata": {},
   "outputs": [],
   "source": [
    "dfKalenderCrew.iloc[9,:].DagRooster.dfRooster"
   ]
  },
  {
   "cell_type": "code",
   "execution_count": null,
   "metadata": {},
   "outputs": [],
   "source": [
    "dfKalenderCrew.iloc[2,:].DagRooster.dfRooster"
   ]
  },
  {
   "cell_type": "code",
   "execution_count": null,
   "metadata": {},
   "outputs": [],
   "source": [
    "dfKalenderCrew.iloc[3,:].DagRooster.dfRooster"
   ]
  },
  {
   "cell_type": "code",
   "execution_count": null,
   "metadata": {},
   "outputs": [],
   "source": [
    "dfKalenderCrew.iloc[4,:].DagRooster.dfRooster"
   ]
  },
  {
   "cell_type": "code",
   "execution_count": null,
   "metadata": {},
   "outputs": [],
   "source": [
    "Controleren.EvaluateProgram(dfSprint,dfk,dfKalenderCrew)"
   ]
  },
  {
   "cell_type": "code",
   "execution_count": null,
   "metadata": {},
   "outputs": [],
   "source": [
    "dfKalenderRoom.iloc[5,:].DagRooster.dfRooster"
   ]
  },
  {
   "cell_type": "markdown",
   "metadata": {},
   "source": [
    "!TODO 99% betrouwbaarheidsinterval"
   ]
  },
  {
   "cell_type": "markdown",
   "metadata": {},
   "source": [
    "Het bedrijf werkt in sprints. Om precies te zijn: 4 sprints van elk 10 weken. De weken\n",
    "2 t/m 8 van elke sprint zijn de zogeheten projectweken"
   ]
  },
  {
   "cell_type": "code",
   "execution_count": null,
   "metadata": {
    "scrolled": true
   },
   "outputs": [],
   "source": [
    "# # het kopieren van de roosters. Deze zijn voor dit gedeelte gelijk in week 2 tot en met 8. \n",
    "\n",
    "\n",
    "for i in range(1,8):\n",
    "    for j in range(5,10):\n",
    "        dfKalenderRoom.iloc[i*5 + j,:].DagRooster.dfRooster = pickle.loads(pickle.dumps(dfKalenderRoom.iloc[j,:].DagRooster.dfRooster))\n",
    "        dfKalenderCrew.iloc[i*5 + j,:].DagRooster.dfRooster = pickle.loads(pickle.dumps(dfKalenderCrew.iloc[j,:].DagRooster.dfRooster))\n",
    "    "
   ]
  },
  {
   "cell_type": "markdown",
   "metadata": {},
   "source": [
    "!TODO de mensen die de prep uitvoeren, moeten ook de projecttasks en post doen."
   ]
  },
  {
   "cell_type": "markdown",
   "metadata": {},
   "source": [
    "Wanneer kan er met de prep check-up worden begonnen en wanneer kan de check-up worden gedaan?"
   ]
  },
  {
   "cell_type": "code",
   "execution_count": null,
   "metadata": {},
   "outputs": [],
   "source": [
    "# back-up maken van de verschillende dataframes zodat deze kunnen worden terug gezet.\n",
    "\n",
    "dfk = pickle.loads(pickle.dumps(dfKalenderCrew))\n",
    "dfs = pickle.loads(pickle.dumps(dfSprint))\n",
    "dfr = pickle.loads(pickle.dumps(dfKalenderRoom))\n"
   ]
  },
  {
   "cell_type": "markdown",
   "metadata": {},
   "source": [
    "!TODO kiezen van de crew director"
   ]
  },
  {
   "cell_type": "code",
   "execution_count": null,
   "metadata": {},
   "outputs": [],
   "source": []
  },
  {
   "cell_type": "code",
   "execution_count": null,
   "metadata": {},
   "outputs": [],
   "source": []
  },
  {
   "cell_type": "code",
   "execution_count": null,
   "metadata": {},
   "outputs": [],
   "source": [
    "# for i in range(0,len(dfSprintAddprep)):\n",
    "#     task = dfSprintAddprep.iloc[i,:]\n",
    "\n",
    "#     dfTempCrew = pickle.loads(pickle.dumps(dfKalenderCrew))\n",
    "#     dfTempRoom = pickle.loads(pickle.dumps(dfKalenderRoom))\n",
    "#     print(task.Task)\n",
    "#     dfKalenderCrew, dfKalenderRoom = InplannenAdd(task, dfKalenderCrew, dfKalenderRoom, \n",
    "#                                                       dfSprint=dfSprint, dfAdd= dfSprintAddprep)"
   ]
  },
  {
   "cell_type": "code",
   "execution_count": null,
   "metadata": {},
   "outputs": [],
   "source": [
    "# for i in range(0,len(dfSprintAddpost)):\n",
    "#     task = dfSprintAddpost.iloc[i,:]\n",
    "\n",
    "#     dfTempCrew = pickle.loads(pickle.dumps(dfKalenderCrew))\n",
    "#     dfTempRoom = pickle.loads(pickle.dumps(dfKalenderRoom))\n",
    "#     print(task.Task)\n",
    "#     dfKalenderCrew, dfKalenderRoom = InplannenAdd(task, dfKalenderCrew, dfKalenderRoom, \n",
    "#                                                       dfSprint=dfSprint, dfAdd= dfSprintAddpost)"
   ]
  },
  {
   "cell_type": "code",
   "execution_count": null,
   "metadata": {},
   "outputs": [],
   "source": [
    "dfKalenderCrew.iloc[1,:].DagRooster.dfRooster"
   ]
  },
  {
   "cell_type": "code",
   "execution_count": null,
   "metadata": {
    "scrolled": true
   },
   "outputs": [],
   "source": [
    "dfKalenderCrew.iloc[40,:].DagRooster.dfRooster"
   ]
  },
  {
   "cell_type": "code",
   "execution_count": null,
   "metadata": {},
   "outputs": [],
   "source": [
    "filehandler = open('dfSprint2.obj', 'wb') \n",
    "pickle.dump(dfSprint, filehandler)\n",
    "\n",
    "filehandler = open('dfKalenderCrew2.obj', 'wb') \n",
    "pickle.dump(dfKalenderCrew, filehandler)\n",
    "\n",
    "filehandler = open('dfKalenderRoom2.obj', 'wb') \n",
    "pickle.dump(dfKalenderRoom, filehandler)\n",
    "\n",
    "filehandler = open('dfSprintAddprep2.obj', 'wb') \n",
    "pickle.dump(dfSprintAddprep, filehandler)\n",
    "\n",
    "filehandler = open('dfSprintAddpost2.obj', 'wb') \n",
    "pickle.dump(dfSprintAddpost, filehandler)\n"
   ]
  }
 ],
 "metadata": {
  "kernelspec": {
   "display_name": "Python 3",
   "language": "python",
   "name": "python3"
  },
  "language_info": {
   "codemirror_mode": {
    "name": "ipython",
    "version": 3
   },
   "file_extension": ".py",
   "mimetype": "text/x-python",
   "name": "python",
   "nbconvert_exporter": "python",
   "pygments_lexer": "ipython3",
   "version": "3.7.3"
  }
 },
 "nbformat": 4,
 "nbformat_minor": 2
}
