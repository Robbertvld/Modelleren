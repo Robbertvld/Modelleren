{
 "cells": [
  {
   "cell_type": "markdown",
   "metadata": {},
   "source": [
    "# Verslag modelleren"
   ]
  },
  {
   "cell_type": "markdown",
   "metadata": {},
   "source": [
    "*gemaakt door Kees Brouwer en Robbert van Nieuwkerk*"
   ]
  },
  {
   "cell_type": "markdown",
   "metadata": {},
   "source": [
    "Eerst het importeren van de benodigde libraries"
   ]
  },
  {
   "cell_type": "code",
   "execution_count": 1,
   "metadata": {
    "code_folding": []
   },
   "outputs": [],
   "source": [
    "# importeren libs\n",
    "import numpy as np\n",
    "import pandas as pd\n",
    "import datetime\n",
    "from operator import attrgetter\n",
    "from itertools import product"
   ]
  },
  {
   "cell_type": "markdown",
   "metadata": {},
   "source": [
    "er moet ook nog een keer worden uitgelegd wat er in welk df staat en wat er met ieder df is gedaan voordat het geimporteerd is. !TODO"
   ]
  },
  {
   "cell_type": "markdown",
   "metadata": {},
   "source": [
    "Het gegeven excelbestand wat de informatie vat, is op een aantal punten aangepast voordat het is geimporteerd. \n",
    "Het bestand heeft voor iedere skill een aparte kolom. Mocht de skill nodig zijn voor de gegeven opdracht, dan staat er een 'x' in deze kolom. Ditzelfde is gedaan met de skills van medewerkers, de dagen waarop de medewerkers werken en voor de kamers waarin de opdrachten moeten worden uitgevoerd. Voor de additional tasks zijn er een aantal opdracht die in iedere sprint moeten worden uitgevoerd. Deze zijn opgesplitst, voor iedere sprint een aparte lijn. Hierbij is ook een kolom toegevoegd met het aantal frequenties voor deze opdracht. Ook is er een kolom toegevoegd bij het tabblad 'additional tasks' waarin staat aangegeven met hoeveel personen het minimaal moet worden uitgevoerd.\n",
    "Hieronder worden de verschillende tabbladen ingelezen en toegekent aan een dataframe.\n",
    "Verdere bewerkingen op de data worden gedaan in dit document.\n"
   ]
  },
  {
   "cell_type": "code",
   "execution_count": 2,
   "metadata": {
    "code_folding": []
   },
   "outputs": [],
   "source": [
    "# importeren data\n",
    "dfProjectTasks = pd.read_excel('MODPRdataset.xlsx', sheet_name ='Project tasks')\n",
    "dfAdditionalTasks = pd.read_excel('MODPRdataset.xlsx', sheet_name ='Additional tasks')\n",
    "dfCrew = pd.read_excel('MODPRdataset.xlsx', sheet_name ='Crew')\n",
    "dfRooms = pd.read_excel('MODPRdataset.xlsx', sheet_name ='Rooms')\n",
    "dfHiring = pd.read_excel('MODPRdataset.xlsx', sheet_name ='Hiring')"
   ]
  },
  {
   "cell_type": "markdown",
   "metadata": {},
   "source": [
    "Het schoonmaken van de cel, hierdoor kunnen we waardes makkelijker worden teruggevonden dan NaN"
   ]
  },
  {
   "cell_type": "code",
   "execution_count": 3,
   "metadata": {
    "code_folding": [
     0
    ]
   },
   "outputs": [],
   "source": [
    "# aanpassen van de data (NaN -> 0 en x -> 1)\n",
    "dfProjectTasks = dfProjectTasks.fillna(0)\n",
    "dfAdditionalTasks = dfAdditionalTasks.fillna(0)\n",
    "dfCrew = dfCrew.fillna(0)\n",
    "dfRooms = dfRooms.fillna(1)\n",
    "\n",
    "dfProjectTasks.replace(\"x\", 1, inplace=True)\n",
    "dfAdditionalTasks.replace(\"x\", 1, inplace=True)\n",
    "dfCrew.replace(\"x\", 1, inplace=True)\n"
   ]
  },
  {
   "cell_type": "markdown",
   "metadata": {},
   "source": [
    "**Belangrijke info voor het plannen**\n",
    "- De ingehuurde mensen hebben skill 1 en 8 \n",
    "- kort inhuren is maximaal 60 uur\n",
    "- het bedrijf is van 9-18 open\n",
    "- een crewlid kan niet meer dan 3 uur achter elkaar werken, daarna een half uur pauze\n",
    "- een crewlid werkt nooit meer dan 7 uur op een dag\n",
    "- kan een 'acquire skill' kan voor ieder crewlid worden gedaan, geen beperking in aantal \n",
    "- crewleden moet te samen aan de skills komen voor de opdracht.\n",
    "- Mensen die skill één niet hebben, hoeven deze niet te leren\n",
    "- Een crewleden kunnen alleen aan eengesloten uren aan een project task werken. Dit mag niet worden doorbroken met een andere task. Met additional tasks mag dit wel. \n",
    "- iedereen moet tegelijk aan het project werken als ze op hetzelfde project staan."
   ]
  },
  {
   "cell_type": "markdown",
   "metadata": {},
   "source": [
    "We maken een soort kalender, startend op 6 januari 2020 en geen weekend dagen erin.\n",
    "Hiervan maken we een dataframe met de volgende kolommen:\n",
    "- datum\n",
    "- een kolom met dataframes met de volgende punten:\n",
    "    - tijd per halfuur\n",
    "    - persoon\n",
    "    - aantal uren te gaan\n",
    "    - hierin staan de projecten met de kamer\n",
    "- Of het een werkdag is (T/F)\n",
    "- In welke sprint de dag zich bevindt."
   ]
  },
  {
   "cell_type": "code",
   "execution_count": 4,
   "metadata": {
    "code_folding": []
   },
   "outputs": [],
   "source": [
    "# het maken van een dataframe als kalender << deze moet worden aangepast naar de info van hierboven\n",
    "data = pd.date_range(\"2020-01-06\", periods=4*10*7, freq='D')\n",
    "\n",
    "columns = ['Datum', 'Sprint', 'Weeknummer', 'DagRooster', 'Werkdag']\n",
    "\n",
    "dfKalender = pd.DataFrame(columns=columns)\n",
    "dfKalender['Datum'] = data\n",
    "dfKalender = dfKalender.fillna(0)\n",
    "dfKalender.replace(\"0\", False, inplace=True)\n",
    "\n",
    "dfKalender['Werkdag'] = dfKalender['Datum'].apply(lambda Datum: Datum.isoweekday() in range (1,6))"
   ]
  },
  {
   "cell_type": "code",
   "execution_count": 5,
   "metadata": {},
   "outputs": [],
   "source": [
    "dfKalender = dfKalender[dfKalender['Werkdag']]\n",
    "dfKalender = dfKalender.reset_index(drop=True)"
   ]
  },
  {
   "cell_type": "code",
   "execution_count": 6,
   "metadata": {
    "code_folding": []
   },
   "outputs": [],
   "source": [
    "# een paar standaard variabele om de code leesbaar te maken.\n",
    "rangeSkills = range(1,14)\n",
    "rangeWorkdays = range(14,19)\n",
    "rangeRooms = range(14,20)"
   ]
  },
  {
   "cell_type": "markdown",
   "metadata": {},
   "source": [
    "functie waarbij de lijst van ReqSkill moet worden ingevuld van de Task en de skills van een persoon. De functie geeft een boolean terug of deze taak door deze persoon kan worden gedaan.\n",
    "\n",
    "voorbeeld: <br>\n",
    "OpdrachtUitvoeren(dfProjectTasks.iloc[0,rangeSkills],dfCrew.iloc[0,rangeSkills]) \n",
    "<br>uitkomst: False"
   ]
  },
  {
   "cell_type": "code",
   "execution_count": 7,
   "metadata": {
    "code_folding": []
   },
   "outputs": [],
   "source": [
    "def OpdrachtUitvoerenPersoonBool(eisen, persoon):\n",
    "    for i in rangeSkills:\n",
    "        result = (int(eisen[i-1]) <= \n",
    "                  int(persoon[i-1]))\n",
    "        if result == False:\n",
    "            break\n",
    "    return result"
   ]
  },
  {
   "cell_type": "markdown",
   "metadata": {},
   "source": [
    "de functie hieronder voegt de skills van personen samen en geeft de gezamelijke skills terug en het surplus.\n",
    "\n",
    "voorbeeld: PersonenSamenvoegen(dfCrew.iloc[0,rangeSkills],dfCrew.iloc[2,rangeSkills])\n",
    "<br>\n",
    "uitkomst: [1, 1, 1, 1, 1, 1, 0, 1, 1, 1, 1, 1, 1, 1]"
   ]
  },
  {
   "cell_type": "code",
   "execution_count": 8,
   "metadata": {
    "code_folding": []
   },
   "outputs": [],
   "source": [
    "def PersonenSamenvoegen(persoon1, persoon2 = [0]*13, persoon3 = [0]*13, persoon4 = [0]*13, persoon5 = [0]*13, persoon6 = [0]*13):\n",
    "    combinedSkill = []\n",
    "    surplus = 0 \n",
    "    for i in rangeSkills:\n",
    "        combinedSkill.append(int(1) if persoon1[i-1]+persoon2[i-1]+persoon3[i-1]+persoon4[i-1]+persoon5[i-1]+persoon6[i-1] > 0 else int(0))\n",
    "        surplus = surplus + (persoon1[i-1]+persoon2[i-1]+persoon3[i-1]+persoon4[i-1]+persoon5[i-1]+persoon6[i-1] -1 \n",
    "                         if persoon1[i-1]+persoon2[i-1]+persoon3[i-1]+persoon4[i-1]+persoon5[i-1]+persoon6[i-1] > 0 else int(0))\n",
    "    combinedSkill.append(surplus)\n",
    "    return combinedSkill"
   ]
  },
  {
   "cell_type": "code",
   "execution_count": 9,
   "metadata": {
    "code_folding": []
   },
   "outputs": [],
   "source": [
    "# het selecteren van alleen de tasks van sprint 1 en het dataframe maken met de columnnames en het resetten van de index\n",
    "dfProjectTasks = dfProjectTasks[dfProjectTasks['Task'] != 0]\n",
    "dfSprint1 = pd.DataFrame(dfProjectTasks[dfProjectTasks['Task'].str.contains('S1')], \n",
    "                         columns= list(dfProjectTasks)).reset_index(drop=True)\n"
   ]
  },
  {
   "cell_type": "code",
   "execution_count": 10,
   "metadata": {
    "code_folding": []
   },
   "outputs": [],
   "source": [
    "# het maken van de kolom crew en het aanpassen van het typen naar object zodat er een list of array kan worden toegevoegd aan die kolom.\n",
    "dfSprint1.loc[:,'Crew']= [20]*len(dfSprint1)\n",
    "dfSprint1['Crew'] = dfSprint1['Crew'].astype(object)"
   ]
  },
  {
   "cell_type": "code",
   "execution_count": 11,
   "metadata": {
    "code_folding": [
     0
    ]
   },
   "outputs": [],
   "source": [
    "# # het verzamelen van data van alle gezamelijke skills in staan tot aan 7 personen\n",
    "\n",
    "# dfCrewCombined = []\n",
    "# for i in range(0, len(dfCrew)): \n",
    "#     t = PersonenSamenvoegen(dfCrew.iloc[i,rangeSkills])\n",
    "#     t.append(i)\n",
    "#     t.append(20)\n",
    "#     t.append(20)\n",
    "#     t.append(20)\n",
    "#     t.append(20)\n",
    "#     t.append(20)\n",
    "#     t.append(1)\n",
    "    \n",
    "#     dfCrewCombined.append(t)\n",
    "    \n",
    "#     for j in range(0, len(dfCrew)): # combinaties met twee mensen\n",
    "#         if i==j:\n",
    "#             break\n",
    "#         t = PersonenSamenvoegen(dfCrew.iloc[i,rangeSkills], dfCrew.iloc[j,rangeSkills])\n",
    "#         t.append(i)\n",
    "#         t.append(j)\n",
    "#         t.append(20)\n",
    "#         t.append(20)\n",
    "#         t.append(20)\n",
    "#         t.append(20)\n",
    "#         t.append(2)\n",
    "        \n",
    "#         dfCrewCombined.append(t)\n",
    "\n",
    "#         for k in range(0, len(dfCrew)):\n",
    "#             if i==k or k==j:\n",
    "#                 break\n",
    "        \n",
    "#             t = PersonenSamenvoegen(dfCrew.iloc[i,rangeSkills], dfCrew.iloc[j,rangeSkills], dfCrew.iloc[k,rangeSkills])\n",
    "#             t.append(i)\n",
    "#             t.append(j)\n",
    "#             t.append(k)\n",
    "#             t.append(20)\n",
    "#             t.append(20)\n",
    "#             t.append(20)\n",
    "#             t.append(3)\n",
    "            \n",
    "#             dfCrewCombined.append(t)\n",
    "            \n",
    "#             for l in range(0, len(dfCrew)):\n",
    "#                 if l == k or l == i or l == j :\n",
    "#                     break\n",
    "#                 t = PersonenSamenvoegen(dfCrew.iloc[i,rangeSkills], dfCrew.iloc[j,rangeSkills],\n",
    "#                                         dfCrew.iloc[k,rangeSkills], dfCrew.iloc[l,rangeSkills])\n",
    "#                 t.append(i)\n",
    "#                 t.append(j)\n",
    "#                 t.append(k)\n",
    "#                 t.append(l)\n",
    "#                 t.append(20)\n",
    "#                 t.append(20)\n",
    "#                 t.append(4)\n",
    "#                 dfCrewCombined.append(t)\n",
    "\n",
    "#                 for m in range(0, len(dfCrew)):\n",
    "#                     if m==l or m==k or m==j or m==i:\n",
    "#                         break\n",
    "#                     t = PersonenSamenvoegen(dfCrew.iloc[i,rangeSkills], dfCrew.iloc[j,rangeSkills],\n",
    "#                                             dfCrew.iloc[k,rangeSkills], dfCrew.iloc[l,rangeSkills], \n",
    "#                                             dfCrew.iloc[m,rangeSkills])\n",
    "#                     t.append(i)\n",
    "#                     t.append(j)\n",
    "#                     t.append(k)\n",
    "#                     t.append(l)\n",
    "#                     t.append(m)\n",
    "#                     t.append(20)\n",
    "#                     t.append(5)\n",
    "#                     dfCrewCombined.append(t)\n",
    "                    \n",
    "#                     for n in range(0, len(dfCrew)):\n",
    "#                         if n==m or n==l or n==k or n==j or n==i:\n",
    "#                             break\n",
    "#                         t = PersonenSamenvoegen(dfCrew.iloc[i,rangeSkills], dfCrew.iloc[j,rangeSkills],\n",
    "#                                                 dfCrew.iloc[k,rangeSkills], dfCrew.iloc[l,rangeSkills], \n",
    "#                                                 dfCrew.iloc[m,rangeSkills], dfCrew.iloc[n,rangeSkills])\n",
    "#                         t.append(i)\n",
    "#                         t.append(j)\n",
    "#                         t.append(k)\n",
    "#                         t.append(l)\n",
    "#                         t.append(m)\n",
    "#                         t.append(n)\n",
    "#                         t.append(6)\n",
    "#                         dfCrewCombined.append(t)\n",
    "\n",
    "\n",
    "                    \n",
    "       "
   ]
  },
  {
   "cell_type": "markdown",
   "metadata": {},
   "source": [
    "het dataframe dfCrewCombined is een dataframe met alle skills van de medewerkers gezamelijk. Zodra er bij een van de personen '20' staat, betekent dit dat er geen persoon voor die plek is toegevoegd. in het dataframe staan combinaties met twee personen tot zeven ('vo) personen.\n"
   ]
  },
  {
   "cell_type": "code",
   "execution_count": 12,
   "metadata": {
    "code_folding": [
     0
    ]
   },
   "outputs": [],
   "source": [
    "# # het maken van het dataframe dfCrewCombined en het wegschrijven in csv.\n",
    "# ar = np.array(dfCrewCombined, dtype=np.int16) \n",
    "# dfCrewCombined = pd.DataFrame(ar, columns= ['Skill1', 'Skill2', 'Skill3', 'Skill4', 'Skill5', 'Skill6', 'Skill7', 'Skill8', \n",
    "#                                 'Skill9', 'Skill10', 'Skill11', 'Skill12', 'Skill13', 'Surplus', 'persoon1', 'persoon2', \n",
    "#                                 'persoon3', 'persoon4', 'persoon5', 'persoon6', 'Aantalpersonen'])\n",
    "\n",
    "# # creeren van de kolom 'sum' zodat we weten hoeveel skill de crew gecombineerd heeft\n",
    "# dfCrewCombined['sum'] = dfCrewCombined.iloc[:,0:13].sum(axis = 1) \n",
    "\n",
    "# # sorteren op de kolommen sum en surplus (overschot aan skills) zodat er zo min mogelijk overbodige skills worden gebruikt \n",
    "# dfCrewCombined = dfCrewCombined.sort_values(['sum', 'Surplus'], ascending= [True, True])\n",
    "# dfCrewCombined = dfCrewCombined.reset_index(drop=True)\n",
    "\n",
    "# dfCrewCombined.to_csv('CrewCombined.csv', encoding='utf-8', index=False) # schrijven naar csv"
   ]
  },
  {
   "cell_type": "code",
   "execution_count": 13,
   "metadata": {},
   "outputs": [],
   "source": [
    "dfCrewCombined = pd.read_csv('CrewCombined.csv') # lezen van csv zodra die in wdir staat."
   ]
  },
  {
   "cell_type": "code",
   "execution_count": 14,
   "metadata": {
    "code_folding": []
   },
   "outputs": [],
   "source": [
    "class ProjectUren:\n",
    "    def __init__(self, project, uren):\n",
    "        self.project = project\n",
    "        self.uren = uren\n",
    "        \n",
    "class RoosterDag:\n",
    "    \n",
    "    def __init__(self, crew, datum, urenTeGaan=7, projectUren=['x', 'x']):\n",
    "        self.crew = crew\n",
    "        self.datum = datum\n",
    "        self.urenTeGaan = urenTeGaan\n",
    "        self.projectUren = ProjectUren(*projectUren)        "
   ]
  },
  {
   "cell_type": "code",
   "execution_count": 15,
   "metadata": {},
   "outputs": [],
   "source": [
    "class MogelijkeCombinaties:\n",
    "    def __init__(self, dfMogelijkheden, aantalMogelijkheden):\n",
    "        self.dfMogelijkheden = dfMogelijkheden\n",
    "        self.aantalMogelijkheden = aantalMogelijkheden"
   ]
  },
  {
   "cell_type": "code",
   "execution_count": 16,
   "metadata": {},
   "outputs": [],
   "source": [
    "class Rooster:\n",
    "    def __init__(self, dfRooster):\n",
    "        self.dfRooster = dfRooster"
   ]
  },
  {
   "cell_type": "code",
   "execution_count": 17,
   "metadata": {
    "code_folding": [
     0
    ]
   },
   "outputs": [],
   "source": [
    "def Lijstmogelijkheden(crew, duration): # lijst met mogelijke data wordt teruggegeven zodra de lijn van de crew en de duur van de task wordt ingevuld\n",
    "    lijstmogelijkheden = []\n",
    "    for dag in werkdagen:\n",
    "        if crew == dag.crew:\n",
    "            if dag.urenTeGaan >= duration :\n",
    "                lijstmogelijkheden.append(dag)\n",
    "    if len(lijstmogelijkheden) == 0:\n",
    "        lijstmogelijkheden.append(RoosterDag(\"geen medewerker\",datetime.date(2100,1,1)))\n",
    "                                  \n",
    "    return lijstmogelijkheden"
   ]
  },
  {
   "cell_type": "code",
   "execution_count": 18,
   "metadata": {},
   "outputs": [],
   "source": [
    "# deze zou overbodig zijn\n",
    "def add_project(*projectUren): # de huidige moet worden mee gegeven en degene die je wilt toevoegen.\n",
    "    # Hoeveel je er wilt toevoegen doet er niet toe.\n",
    "    lijst = []\n",
    "    for project in projectUren:\n",
    "        if type(project) == list:\n",
    "            lijst.append(ProjectUren(project[0], project[1]))\n",
    "        else:\n",
    "            if project.project != \"x\":\n",
    "                lijst.append(project)\n",
    "    return lijst"
   ]
  },
  {
   "cell_type": "code",
   "execution_count": 19,
   "metadata": {},
   "outputs": [],
   "source": [
    "# deze zou overbodig zijn.\n",
    "# vind een Roosterdag met crewlid en datum (dit zou uniek moeten zijn)\n",
    "def VindRoosterdag(crew, datum):\n",
    "    for dag in werkdagen:\n",
    "        if crew == dag.crew:\n",
    "            if dag.datum == datum: \n",
    "                return dag"
   ]
  },
  {
   "cell_type": "markdown",
   "metadata": {},
   "source": [
    "Voorbeeld voor de functie add_project <br>\n",
    "t = test2([\"S\",2]) <br>\n",
    "t.projectUren = add_project(t.projectUren, [\"D\", 2]) <br>\n",
    "<br><br>\n",
    "for project in t.projectUren: <br>\n",
    "    print (project.project) <br>\n",
    "    \n",
    "Uitkomst: <br>\n",
    "S<br>\n",
    "D<br>"
   ]
  },
  {
   "cell_type": "code",
   "execution_count": 20,
   "metadata": {},
   "outputs": [],
   "source": [
    "# # de eerste dag aanmaken voor iedereen\n",
    "# werkdagen = []\n",
    "# for i in range(0, len(dfCrew)):\n",
    "#     werkdagen.append(RoosterDag(i, datetime.date(2020,1, 1)))"
   ]
  },
  {
   "cell_type": "code",
   "execution_count": 21,
   "metadata": {
    "code_folding": [
     0
    ]
   },
   "outputs": [],
   "source": [
    "# # code voor het invullen van crew bij een tascrewLijn waarbij nog niet wordt gelet op of mensen al bezet zijn.\n",
    "\n",
    "# for j in range(0, len(dfSprint1)):\n",
    "#     inplannen = False\n",
    "#     i = 0\n",
    "#     gevondenDatum = False\n",
    "#     print(\"j: \",j)\n",
    "#     eersteDatum = datetime.date(2020,1, 1)\n",
    "    \n",
    "#     while inplannen == False:\n",
    "#         if OpdrachtUitvoerenPersoonBool(dfSprint1.iloc[j,rangeSkills], dfCrewCombined.iloc[i,0:13]): # !TODO min en max mensen\n",
    "#             print(\"task met crew gevonden\")\n",
    "#             dfSprint1.at[j,'Crew'] = np.array(dfCrewCombined.iloc[i,14:20])\n",
    "#             print(dfSprint1.Crew[j])\n",
    "#             for crewLijn in dfCrewCombined.iloc[i,14:20].tolist():\n",
    "#                 if crewLijn ==20:\n",
    "#                     break\n",
    "                \n",
    "#                 #if min(Lijstmogelijkheden(crewLijn, dfSprint1.Duration[j]), key=attrgetter('datum')).datum <= eersteDatum:\n",
    "#                 if VindRoosterdag(crewLijn, eersteDatum).urenTeGaan >= dfSprint1.Duration[j]:\n",
    "#                     gevondenDatum = True\n",
    "#                 else:\n",
    "#                     gevondenDatum = False\n",
    "#                     break\n",
    "                \n",
    "#                 print(\"datum gevonden \", gevondenDatum)\n",
    "#             if gevondenDatum:\n",
    "#                 for crewLijn in dfCrewCombined.iloc[i,14:20].tolist():\n",
    "#                     if crewLijn ==20:\n",
    "#                         break\n",
    "#                     dag = VindRoosterdag(crewLijn, eersteDatum)\n",
    "#                     print(\"dag gevonden \", eersteDatum)\n",
    "#                     print(\"uren die nog moeten worden gemaakt: \", dag.urenTeGaan)\n",
    "#                     dag.urenTeGaan = dag.urenTeGaan - dfSprint1.Duration[j]\n",
    "#                     print(dag)\n",
    "                    \n",
    "#                     print(dfSprint1.Task[j], dfSprint1.Duration[j])\n",
    "#                     if type(dag.projectUren) == list:\n",
    "#                         dag.projectUren.append(ProjectUren(dfSprint1.Task[j], dfSprint1.Duration[j]))\n",
    "#                     else:\n",
    "#                         dag.projectUren = add_project(dag.projectUren, [dfSprint1.Task[j], dfSprint1.Duration[j]])\n",
    "# #                     werkdagen.append(RoosterDag(k, eersteDatum, 7- dfSprint1.Duration[j] , [dfSprint1.Task[j], dfSprint1.Duration[j]]))\n",
    "#                 i=0\n",
    "#                 inplannen = True\n",
    "#             else:\n",
    "#                 print(\"volgende datum vinden\")\n",
    "#                 eersteDatum = eersteDatum + datetime.timedelta(days=1) # misschien wordt dit te vaak gedaan.\n",
    "#                 for crewLijn in range(0, len(dfCrew)):\n",
    "#                     werkdagen.append(RoosterDag(crewLijn, eersteDatum))\n",
    "#         else:\n",
    "#             i = i + 1\n"
   ]
  },
  {
   "cell_type": "markdown",
   "metadata": {},
   "source": [
    "Misschien moeten we aan het begin geen eens moeite doen met hoe we de pauzes indelen. gewoon iemand zeven uur per dag laten werken. en dan de volgende dag iets laten beginnen dat pas kan beginnen als de andere taak af is. dan kunnen we later dat nog optimaliseren."
   ]
  },
  {
   "cell_type": "markdown",
   "metadata": {},
   "source": [
    "https://www.daniweb.com/programming/software-development/code/216631/a-list-of-class-objects-python\n",
    "Goede site om een beetje te kijken hoe je met de lijst van objecten moet werken."
   ]
  },
  {
   "cell_type": "code",
   "execution_count": 22,
   "metadata": {},
   "outputs": [],
   "source": [
    "# werkdagen = []\n",
    "# werkdagen.append(RoosterDag(\"Robbert\", \"3-10-1996\", 5, [\"S1\", 2]))\n",
    "# werkdagen.append(RoosterDag(\"Robber\", \"3-10-1996\", 4, [\"S1\", 2]))\n",
    "# werkdagen.append(RoosterDag(\"Robert\", \"3-10-1996\", 3, [\"S1\", 2]))\n",
    "\n",
    "# werkdagen.append(RoosterDag(\"Robbert\", \"2-10-1996\", 3, [\"S1\",3]))\n",
    "\n",
    "# werkdagen.append(RoosterDag(\"Robbert\", \"3-9-1996\"))"
   ]
  },
  {
   "cell_type": "code",
   "execution_count": 23,
   "metadata": {},
   "outputs": [],
   "source": [
    "# werkdagen.sort(key=operator.attrgetter('datum'))"
   ]
  },
  {
   "cell_type": "code",
   "execution_count": 24,
   "metadata": {},
   "outputs": [],
   "source": [
    "dfSprint1.loc[:,'Mogelijkheden']= [20]*len(dfSprint1)\n",
    "dfSprint1.loc[:,'AantalMogelijkheden']= [20]*len(dfSprint1)\n",
    "dfSprint1['Mogelijkheden'] = dfSprint1['Mogelijkheden'].astype(object)\n",
    "dfSprint1['AantalMogelijkheden'] = dfSprint1['AantalMogelijkheden'].astype(int)\n",
    "dfSprint1['MaxReqCrew'].replace(0, 6, inplace=True)\n"
   ]
  },
  {
   "cell_type": "raw",
   "metadata": {},
   "source": [
    "voorbeeld: ZoekKamers(dfSprint1.iloc[0,14:20])\n",
    "['workspace A',\n",
    " 'workspace B',\n",
    " 'workspace C',\n",
    " 'workshop A',\n",
    " 'workshop B',\n",
    " 'workshop C',\n",
    " 'assembly A',\n",
    " 'assembly B']"
   ]
  },
  {
   "cell_type": "code",
   "execution_count": 25,
   "metadata": {
    "code_folding": [
     0
    ]
   },
   "outputs": [],
   "source": [
    "def ZoekKamers(eisenKamers):\n",
    "    lijstkamers = []\n",
    "    for i in range(0, len(eisenKamers)):\n",
    "        if list(eisenKamers)[i] == 1:\n",
    "            if (\"****\" in list(dfSprint1)[14+i]):\n",
    "                lijstkamers.append(\"assembly A\")\n",
    "                lijstkamers.append(\"assembly B\")\n",
    "            if (\"***\" in list(dfSprint1)[14+i] and not \"****\" in list(dfSprint1)[14+i]):\n",
    "                lijstkamers.append(\"workshop A\")\n",
    "                lijstkamers.append(\"workshop B\")\n",
    "                lijstkamers.append(\"workshop C\")\n",
    "            if (\"**\" in list(dfSprint1)[14+i] and not \"***\" in list(dfSprint1)[14+i]):\n",
    "                lijstkamers.append(\"workspace A\")\n",
    "                lijstkamers.append(\"workspace B\")\n",
    "                lijstkamers.append(\"workspace C\")\n",
    "                \n",
    "            elif (\"4\" in list(dfSprint1)[14+i] or \"5\" in list(dfSprint1)[14+i]):\n",
    "                lijstkamers.append(\"office A1\")\n",
    "                lijstkamers.append(\"office A2\")\n",
    "                lijstkamers.append(\"office A3\")\n",
    "                lijstkamers.append(\"office A4\")\n",
    "                lijstkamers.append(\"office A5\")\n",
    "                lijstkamers.append(\"office B1\")\n",
    "                lijstkamers.append(\"office B2\")\n",
    "                lijstkamers.append(\"office B3\")\n",
    "                lijstkamers.append(\"office B4\")\n",
    "                lijstkamers.append(\"office C1\")\n",
    "                lijstkamers.append(\"office C2\")\n",
    "                lijstkamers.append(\"office C3\")\n",
    "                lijstkamers.append(\"office C4\")\n",
    "                \n",
    "            elif (\"technical\" in list(dfSprint1)[14+i]):\n",
    "                lijstkamers.append(\"technical A\")\n",
    "                lijstkamers.append(\"technical B\")\n",
    "                \n",
    "    return lijstkamers"
   ]
  },
  {
   "cell_type": "raw",
   "metadata": {},
   "source": [
    "voorbeeld: \n",
    "ZoekOpdrachten(dfSprint1.iloc[0,rangeSkills])\n",
    "[[9, 0, 20, 20, 20, 20],\n",
    " [10, 9, 20, 20, 20, 20],\n",
    " [10, 9, 0, 20, 20, 20],\n",
    " [11, 10, 20, 20, 20, 20],\n",
    " [11, 4, 20, 20, 20, 20], ...."
   ]
  },
  {
   "cell_type": "code",
   "execution_count": 26,
   "metadata": {
    "code_folding": []
   },
   "outputs": [],
   "source": [
    "def ZoekOpdrachten(project, MinMaxPersonen):\n",
    "    crew = []\n",
    "    for i in range(0, len(dfCrewCombined)):\n",
    "        if (dfCrewCombined.Aantalpersonen[i] >= MinMaxPersonen[0] and dfCrewCombined.Aantalpersonen[i] <= MinMaxPersonen[1]):\n",
    "            if (OpdrachtUitvoerenPersoonBool(project, dfCrewCombined.iloc[i,0:13])):\n",
    "                crew.append(list(dfCrewCombined.iloc[i,14:20]))\n",
    "    return crew\n",
    "                        "
   ]
  },
  {
   "cell_type": "code",
   "execution_count": 27,
   "metadata": {},
   "outputs": [],
   "source": [
    "for i in range(0,len(dfSprint1)):\n",
    "    a = ZoekKamers(dfSprint1.iloc[i,14:20])\n",
    "    b = ZoekOpdrachten(dfSprint1.iloc[i,rangeSkills], dfSprint1.iloc[i,20:22])\n",
    "    dfSprint1.iloc[i,26] = MogelijkeCombinaties(pd.DataFrame(product(a, b)), len(a) * len(b))\n",
    "    dfSprint1.iloc[i,27] = len(a) * len(b) # >> is een optie, hoeft op zich niet, misschien wel makkelijker"
   ]
  },
  {
   "cell_type": "code",
   "execution_count": 28,
   "metadata": {},
   "outputs": [],
   "source": [
    "# import json\n",
    "# with open('data.json', 'w', encoding='utf-8') as f:\n",
    "#     json.dump(dfSprint1, f, ensure_ascii=False, indent=4)"
   ]
  },
  {
   "cell_type": "code",
   "execution_count": 29,
   "metadata": {},
   "outputs": [],
   "source": [
    "# dfSprint1.to_csv('dfSprint1.csv', encoding='utf-8', index=False)"
   ]
  },
  {
   "cell_type": "code",
   "execution_count": 30,
   "metadata": {},
   "outputs": [],
   "source": [
    "# dfSprint1 = pd.read_csv('dfSprint1.csv')"
   ]
  },
  {
   "cell_type": "code",
   "execution_count": 31,
   "metadata": {},
   "outputs": [],
   "source": [
    "dfSprint1 = dfSprint1.sort_values(['AantalMogelijkheden'], ascending= [True])\n",
    "dfSprint1 = dfSprint1.reset_index(drop=True)\n"
   ]
  },
  {
   "cell_type": "code",
   "execution_count": 32,
   "metadata": {},
   "outputs": [],
   "source": [
    "# het maken van een dataframe als kalender << deze moet worden aangepast naar de info van hierboven\n",
    "tijd = pd.date_range(\"09:00\", \"17:30\", freq=\"30min\").time\n",
    "\n",
    "columns = np.array(dfCrew['Crew members'])\n",
    "\n",
    "dfRooster = pd.DataFrame(columns=columns)\n",
    "dfRooster['Tijd'] = tijd\n",
    "dfRooster = dfRooster.fillna(0)\n",
    "dfRooster.replace(\"0\", False, inplace=True)\n",
    "\n",
    "# volgorde veranderen\n",
    "cols = dfRooster.columns.tolist()\n",
    "cols = cols[-1:] + cols[:-1]\n",
    "dfRooster = dfRooster[cols]"
   ]
  },
  {
   "cell_type": "code",
   "execution_count": 33,
   "metadata": {},
   "outputs": [],
   "source": [
    "a = [7]*(len(dfRooster.iloc[1, :])-1)\n",
    "a.insert(0,'urenTeGaan')\n",
    "\n",
    "b = dfRooster.columns.tolist()\n",
    "new_row = pd.DataFrame(a).T\n",
    "new_row.columns = b\n",
    "\n",
    "dfRooster = pd.concat([new_row, dfRooster]).reset_index(drop = True)\n",
    "StandaardRooster = dfRooster"
   ]
  },
  {
   "cell_type": "code",
   "execution_count": 34,
   "metadata": {},
   "outputs": [
    {
     "name": "stderr",
     "output_type": "stream",
     "text": [
      "C:\\Users\\Robbert\\Anaconda3\\lib\\site-packages\\ipykernel_launcher.py:6: SettingWithCopyWarning: \n",
      "A value is trying to be set on a copy of a slice from a DataFrame\n",
      "\n",
      "See the caveats in the documentation: http://pandas.pydata.org/pandas-docs/stable/indexing.html#indexing-view-versus-copy\n",
      "  \n"
     ]
    }
   ],
   "source": [
    "import copy\n",
    "\n",
    "for i in range(0,5):\n",
    "    rooster = copy.deepcopy(StandaardRooster)\n",
    "    rooster.iloc[0,1:] = (np.array(rooster.iloc[0,1:])* np.array(dfCrew.iloc[:,14+i])).tolist()\n",
    "    dfKalender.DagRooster[i] = Rooster(rooster)"
   ]
  },
  {
   "cell_type": "code",
   "execution_count": 35,
   "metadata": {},
   "outputs": [],
   "source": [
    "dfSprint1['Voltooid'] = False\n",
    "dfSprint1['Eis'] = \"\"\n",
    "dfSprint1['Eis']=dfSprint1['Task'].apply(lambda Task: Task[:-1]+'A' if Task.endswith('B') else 'no')\n",
    "dfSprint1['Moment Voltooid']= \"\""
   ]
  },
  {
   "cell_type": "code",
   "execution_count": 36,
   "metadata": {},
   "outputs": [],
   "source": [
    "def contains(sub, pri):\n",
    "    M, N = len(pri), len(sub)\n",
    "    i, LAST = 0, M-N+1\n",
    "    while True:\n",
    "        try:\n",
    "            found = pri.index(sub[0], i, LAST) # find first elem in sub\n",
    "        except ValueError:\n",
    "            return False\n",
    "        if pri[found:found+N] == sub:\n",
    "            return [found, found+N-1]\n",
    "        else:\n",
    "            i = found+1"
   ]
  },
  {
   "cell_type": "code",
   "execution_count": 37,
   "metadata": {},
   "outputs": [],
   "source": [
    "# task = dfSprint1[dfSprint1['Task'] == 'S1C2T3A']\n",
    "# dag = (pd.Timestamp(2020,1,10) - pd.Timestamp(2020,1,6)).days"
   ]
  },
  {
   "cell_type": "code",
   "execution_count": 38,
   "metadata": {},
   "outputs": [],
   "source": [
    "crewlijst = dfSprint1.iloc[0,:].Mogelijkheden.dfMogelijkheden.iloc[0,1]"
   ]
  },
  {
   "cell_type": "code",
   "execution_count": 39,
   "metadata": {},
   "outputs": [
    {
     "data": {
      "text/plain": [
       "[5, 20, 20, 20, 20, 20]"
      ]
     },
     "execution_count": 39,
     "metadata": {},
     "output_type": "execute_result"
    }
   ],
   "source": [
    "crewlijst"
   ]
  },
  {
   "cell_type": "markdown",
   "metadata": {},
   "source": [
    "!TODO kamers zijn nog buitenbeschouwing gelaten"
   ]
  },
  {
   "cell_type": "code",
   "execution_count": 47,
   "metadata": {},
   "outputs": [],
   "source": [
    "def InplannenOpdracht(taskdf, dagIndex): # twijfel of er rekening wordt gehouden met aantal werkuren op een dag\n",
    "    \n",
    "    # task moet een rij van het dataframe dfSprint1 zijn en een dag (als index) van een rij in dfKalender (verschil ten opzichten van 2020-1-6)\n",
    "    for crewlijst in task.Mogelijkheden.dfMogelijkheden.iloc[:,1].tolist():\n",
    "        lijstVrijeUren = []\n",
    "        for i in crewlijst:\n",
    "            if i == 20:\n",
    "                break\n",
    "#             print(str(i) + \" \" + str(type(dfKalender.iloc[dagIndex,:].DagRooster)))\n",
    "            print(dfKalender.iloc[dagIndex,:].Datum)\n",
    "            print(dfKalender.iloc[dagIndex,:].DagRooster.dfRooster.iloc[0,i+1])\n",
    "            lijstVrijeUren += dfKalender.iloc[dagIndex,:].DagRooster.dfRooster.iloc[1:,i+1].tolist() # voor iedere op hetzelfde moment\n",
    "            duration = [0]*int(round(taskdf.Duration*2))\n",
    "            if contains(duration, lijstVrijeUren) != False:\n",
    "                rijbegin , rijeind = contains(duration, lijstVrijeUren)\n",
    "                rijbegin += 1\n",
    "                rijeind += 1\n",
    "                dfKalender.iloc[dagIndex,:].DagRooster.dfRooster.iloc[rijbegin:rijeind+1,i+1] = taskdf.Task + \" \" + copy.deepcopy(taskdf.Mogelijkheden.dfMogelijkheden.iloc[crewlijst,0])\n",
    "                dfKalender.iloc[dagIndex,:].DagRooster.dfRooster.iloc[0,i+1] = dfKalender.iloc[dagIndex,:].DagRooster.dfRooster.iloc[0,i+1] - float(taskdf.Duration)\n",
    "                dfSprint1.loc[dfSprint1['Task'] == taskdf.Task, 'Voltooid'] = True\n",
    "                print(\"ingepland\" + taskdf.Task)\n",
    "                return\n"
   ]
  },
  {
   "cell_type": "markdown",
   "metadata": {},
   "source": [
    "!TODO Frequentie"
   ]
  },
  {
   "cell_type": "code",
   "execution_count": 41,
   "metadata": {},
   "outputs": [],
   "source": [
    "dfk = copy.deepcopy(dfKalender)\n",
    "dfs = copy.deepcopy(dfSprint1)"
   ]
  },
  {
   "cell_type": "code",
   "execution_count": 48,
   "metadata": {},
   "outputs": [
    {
     "name": "stdout",
     "output_type": "stream",
     "text": [
      "S1C3T5B met: False\n",
      "False\n",
      "inplannen van S1C3T5B\n",
      "2020-01-06 00:00:00\n",
      "7\n"
     ]
    },
    {
     "ename": "ValueError",
     "evalue": "cannot reindex from a duplicate axis",
     "output_type": "error",
     "traceback": [
      "\u001b[1;31m---------------------------------------------------------------------------\u001b[0m",
      "\u001b[1;31mValueError\u001b[0m                                Traceback (most recent call last)",
      "\u001b[1;32m<ipython-input-48-015fe57ef3cd>\u001b[0m in \u001b[0;36m<module>\u001b[1;34m\u001b[0m\n\u001b[0;32m      6\u001b[0m         \u001b[0mprint\u001b[0m\u001b[1;33m(\u001b[0m\u001b[0mtask\u001b[0m\u001b[1;33m.\u001b[0m\u001b[0mVoltooid\u001b[0m\u001b[1;33m)\u001b[0m\u001b[1;33m\u001b[0m\u001b[1;33m\u001b[0m\u001b[0m\n\u001b[0;32m      7\u001b[0m         \u001b[0mprint\u001b[0m\u001b[1;33m(\u001b[0m\u001b[1;34m\"inplannen van \"\u001b[0m \u001b[1;33m+\u001b[0m \u001b[0mtask\u001b[0m\u001b[1;33m.\u001b[0m\u001b[0mTask\u001b[0m\u001b[1;33m)\u001b[0m\u001b[1;33m\u001b[0m\u001b[1;33m\u001b[0m\u001b[0m\n\u001b[1;32m----> 8\u001b[1;33m         \u001b[0mInplannenOpdracht\u001b[0m\u001b[1;33m(\u001b[0m\u001b[0mtask\u001b[0m\u001b[1;33m,\u001b[0m\u001b[0mdagIndex\u001b[0m\u001b[1;33m)\u001b[0m\u001b[1;33m\u001b[0m\u001b[1;33m\u001b[0m\u001b[0m\n\u001b[0m\u001b[0;32m      9\u001b[0m         \u001b[0mtask\u001b[0m \u001b[1;33m=\u001b[0m \u001b[0mdfSprint1\u001b[0m\u001b[1;33m.\u001b[0m\u001b[0miloc\u001b[0m\u001b[1;33m[\u001b[0m\u001b[0mi\u001b[0m\u001b[1;33m,\u001b[0m\u001b[1;33m:\u001b[0m\u001b[1;33m]\u001b[0m\u001b[1;33m\u001b[0m\u001b[1;33m\u001b[0m\u001b[0m\n\u001b[0;32m     10\u001b[0m         \u001b[0mdagIndex\u001b[0m \u001b[1;33m=\u001b[0m \u001b[0mdagIndex\u001b[0m \u001b[1;33m+\u001b[0m \u001b[1;36m1\u001b[0m\u001b[1;33m\u001b[0m\u001b[1;33m\u001b[0m\u001b[0m\n",
      "\u001b[1;32m<ipython-input-47-ed42dcc082db>\u001b[0m in \u001b[0;36mInplannenOpdracht\u001b[1;34m(taskdf, dagIndex)\u001b[0m\n\u001b[0;32m     16\u001b[0m                 \u001b[0mrijbegin\u001b[0m \u001b[1;33m+=\u001b[0m \u001b[1;36m1\u001b[0m\u001b[1;33m\u001b[0m\u001b[1;33m\u001b[0m\u001b[0m\n\u001b[0;32m     17\u001b[0m                 \u001b[0mrijeind\u001b[0m \u001b[1;33m+=\u001b[0m \u001b[1;36m1\u001b[0m\u001b[1;33m\u001b[0m\u001b[1;33m\u001b[0m\u001b[0m\n\u001b[1;32m---> 18\u001b[1;33m                 \u001b[0mdfKalender\u001b[0m\u001b[1;33m.\u001b[0m\u001b[0miloc\u001b[0m\u001b[1;33m[\u001b[0m\u001b[0mdagIndex\u001b[0m\u001b[1;33m,\u001b[0m\u001b[1;33m:\u001b[0m\u001b[1;33m]\u001b[0m\u001b[1;33m.\u001b[0m\u001b[0mDagRooster\u001b[0m\u001b[1;33m.\u001b[0m\u001b[0mdfRooster\u001b[0m\u001b[1;33m.\u001b[0m\u001b[0miloc\u001b[0m\u001b[1;33m[\u001b[0m\u001b[0mrijbegin\u001b[0m\u001b[1;33m:\u001b[0m\u001b[0mrijeind\u001b[0m\u001b[1;33m+\u001b[0m\u001b[1;36m1\u001b[0m\u001b[1;33m,\u001b[0m\u001b[0mi\u001b[0m\u001b[1;33m+\u001b[0m\u001b[1;36m1\u001b[0m\u001b[1;33m]\u001b[0m \u001b[1;33m=\u001b[0m \u001b[0mtaskdf\u001b[0m\u001b[1;33m.\u001b[0m\u001b[0mTask\u001b[0m \u001b[1;33m+\u001b[0m \u001b[1;34m\" \"\u001b[0m \u001b[1;33m+\u001b[0m \u001b[0mcopy\u001b[0m\u001b[1;33m.\u001b[0m\u001b[0mdeepcopy\u001b[0m\u001b[1;33m(\u001b[0m\u001b[0mtaskdf\u001b[0m\u001b[1;33m.\u001b[0m\u001b[0mMogelijkheden\u001b[0m\u001b[1;33m.\u001b[0m\u001b[0mdfMogelijkheden\u001b[0m\u001b[1;33m.\u001b[0m\u001b[0miloc\u001b[0m\u001b[1;33m[\u001b[0m\u001b[0mcrewlijst\u001b[0m\u001b[1;33m,\u001b[0m\u001b[1;36m0\u001b[0m\u001b[1;33m]\u001b[0m\u001b[1;33m)\u001b[0m\u001b[1;33m\u001b[0m\u001b[1;33m\u001b[0m\u001b[0m\n\u001b[0m\u001b[0;32m     19\u001b[0m                 \u001b[0mdfKalender\u001b[0m\u001b[1;33m.\u001b[0m\u001b[0miloc\u001b[0m\u001b[1;33m[\u001b[0m\u001b[0mdagIndex\u001b[0m\u001b[1;33m,\u001b[0m\u001b[1;33m:\u001b[0m\u001b[1;33m]\u001b[0m\u001b[1;33m.\u001b[0m\u001b[0mDagRooster\u001b[0m\u001b[1;33m.\u001b[0m\u001b[0mdfRooster\u001b[0m\u001b[1;33m.\u001b[0m\u001b[0miloc\u001b[0m\u001b[1;33m[\u001b[0m\u001b[1;36m0\u001b[0m\u001b[1;33m,\u001b[0m\u001b[0mi\u001b[0m\u001b[1;33m+\u001b[0m\u001b[1;36m1\u001b[0m\u001b[1;33m]\u001b[0m \u001b[1;33m=\u001b[0m \u001b[0mdfKalender\u001b[0m\u001b[1;33m.\u001b[0m\u001b[0miloc\u001b[0m\u001b[1;33m[\u001b[0m\u001b[0mdagIndex\u001b[0m\u001b[1;33m,\u001b[0m\u001b[1;33m:\u001b[0m\u001b[1;33m]\u001b[0m\u001b[1;33m.\u001b[0m\u001b[0mDagRooster\u001b[0m\u001b[1;33m.\u001b[0m\u001b[0mdfRooster\u001b[0m\u001b[1;33m.\u001b[0m\u001b[0miloc\u001b[0m\u001b[1;33m[\u001b[0m\u001b[1;36m0\u001b[0m\u001b[1;33m,\u001b[0m\u001b[0mi\u001b[0m\u001b[1;33m+\u001b[0m\u001b[1;36m1\u001b[0m\u001b[1;33m]\u001b[0m \u001b[1;33m-\u001b[0m \u001b[0mfloat\u001b[0m\u001b[1;33m(\u001b[0m\u001b[0mtaskdf\u001b[0m\u001b[1;33m.\u001b[0m\u001b[0mDuration\u001b[0m\u001b[1;33m)\u001b[0m\u001b[1;33m\u001b[0m\u001b[1;33m\u001b[0m\u001b[0m\n\u001b[0;32m     20\u001b[0m                 \u001b[0mdfSprint1\u001b[0m\u001b[1;33m.\u001b[0m\u001b[0mloc\u001b[0m\u001b[1;33m[\u001b[0m\u001b[0mdfSprint1\u001b[0m\u001b[1;33m[\u001b[0m\u001b[1;34m'Task'\u001b[0m\u001b[1;33m]\u001b[0m \u001b[1;33m==\u001b[0m \u001b[0mtaskdf\u001b[0m\u001b[1;33m.\u001b[0m\u001b[0mTask\u001b[0m\u001b[1;33m,\u001b[0m \u001b[1;34m'Voltooid'\u001b[0m\u001b[1;33m]\u001b[0m \u001b[1;33m=\u001b[0m \u001b[1;32mTrue\u001b[0m\u001b[1;33m\u001b[0m\u001b[1;33m\u001b[0m\u001b[0m\n",
      "\u001b[1;32m~\\Anaconda3\\lib\\site-packages\\pandas\\core\\indexing.py\u001b[0m in \u001b[0;36m__setitem__\u001b[1;34m(self, key, value)\u001b[0m\n\u001b[0;32m    188\u001b[0m             \u001b[0mkey\u001b[0m \u001b[1;33m=\u001b[0m \u001b[0mcom\u001b[0m\u001b[1;33m.\u001b[0m\u001b[0mapply_if_callable\u001b[0m\u001b[1;33m(\u001b[0m\u001b[0mkey\u001b[0m\u001b[1;33m,\u001b[0m \u001b[0mself\u001b[0m\u001b[1;33m.\u001b[0m\u001b[0mobj\u001b[0m\u001b[1;33m)\u001b[0m\u001b[1;33m\u001b[0m\u001b[1;33m\u001b[0m\u001b[0m\n\u001b[0;32m    189\u001b[0m         \u001b[0mindexer\u001b[0m \u001b[1;33m=\u001b[0m \u001b[0mself\u001b[0m\u001b[1;33m.\u001b[0m\u001b[0m_get_setitem_indexer\u001b[0m\u001b[1;33m(\u001b[0m\u001b[0mkey\u001b[0m\u001b[1;33m)\u001b[0m\u001b[1;33m\u001b[0m\u001b[1;33m\u001b[0m\u001b[0m\n\u001b[1;32m--> 190\u001b[1;33m         \u001b[0mself\u001b[0m\u001b[1;33m.\u001b[0m\u001b[0m_setitem_with_indexer\u001b[0m\u001b[1;33m(\u001b[0m\u001b[0mindexer\u001b[0m\u001b[1;33m,\u001b[0m \u001b[0mvalue\u001b[0m\u001b[1;33m)\u001b[0m\u001b[1;33m\u001b[0m\u001b[1;33m\u001b[0m\u001b[0m\n\u001b[0m\u001b[0;32m    191\u001b[0m \u001b[1;33m\u001b[0m\u001b[0m\n\u001b[0;32m    192\u001b[0m     \u001b[1;32mdef\u001b[0m \u001b[0m_validate_key\u001b[0m\u001b[1;33m(\u001b[0m\u001b[0mself\u001b[0m\u001b[1;33m,\u001b[0m \u001b[0mkey\u001b[0m\u001b[1;33m,\u001b[0m \u001b[0maxis\u001b[0m\u001b[1;33m)\u001b[0m\u001b[1;33m:\u001b[0m\u001b[1;33m\u001b[0m\u001b[1;33m\u001b[0m\u001b[0m\n",
      "\u001b[1;32m~\\Anaconda3\\lib\\site-packages\\pandas\\core\\indexing.py\u001b[0m in \u001b[0;36m_setitem_with_indexer\u001b[1;34m(self, indexer, value)\u001b[0m\n\u001b[0;32m    640\u001b[0m                 \u001b[1;31m# setting for extensionarrays that store dicts. Need to decide\u001b[0m\u001b[1;33m\u001b[0m\u001b[1;33m\u001b[0m\u001b[1;33m\u001b[0m\u001b[0m\n\u001b[0;32m    641\u001b[0m                 \u001b[1;31m# if it's worth supporting that.\u001b[0m\u001b[1;33m\u001b[0m\u001b[1;33m\u001b[0m\u001b[1;33m\u001b[0m\u001b[0m\n\u001b[1;32m--> 642\u001b[1;33m                 \u001b[0mvalue\u001b[0m \u001b[1;33m=\u001b[0m \u001b[0mself\u001b[0m\u001b[1;33m.\u001b[0m\u001b[0m_align_series\u001b[0m\u001b[1;33m(\u001b[0m\u001b[0mindexer\u001b[0m\u001b[1;33m,\u001b[0m \u001b[0mSeries\u001b[0m\u001b[1;33m(\u001b[0m\u001b[0mvalue\u001b[0m\u001b[1;33m)\u001b[0m\u001b[1;33m)\u001b[0m\u001b[1;33m\u001b[0m\u001b[1;33m\u001b[0m\u001b[0m\n\u001b[0m\u001b[0;32m    643\u001b[0m \u001b[1;33m\u001b[0m\u001b[0m\n\u001b[0;32m    644\u001b[0m             \u001b[1;32melif\u001b[0m \u001b[0misinstance\u001b[0m\u001b[1;33m(\u001b[0m\u001b[0mvalue\u001b[0m\u001b[1;33m,\u001b[0m \u001b[0mABCDataFrame\u001b[0m\u001b[1;33m)\u001b[0m\u001b[1;33m:\u001b[0m\u001b[1;33m\u001b[0m\u001b[1;33m\u001b[0m\u001b[0m\n",
      "\u001b[1;32m~\\Anaconda3\\lib\\site-packages\\pandas\\core\\indexing.py\u001b[0m in \u001b[0;36m_align_series\u001b[1;34m(self, indexer, ser, multiindex_indexer)\u001b[0m\n\u001b[0;32m    738\u001b[0m                         \u001b[1;32mreturn\u001b[0m \u001b[0mser\u001b[0m\u001b[1;33m.\u001b[0m\u001b[0m_values\u001b[0m\u001b[1;33m.\u001b[0m\u001b[0mcopy\u001b[0m\u001b[1;33m(\u001b[0m\u001b[1;33m)\u001b[0m\u001b[1;33m\u001b[0m\u001b[1;33m\u001b[0m\u001b[0m\n\u001b[0;32m    739\u001b[0m \u001b[1;33m\u001b[0m\u001b[0m\n\u001b[1;32m--> 740\u001b[1;33m                     \u001b[1;32mreturn\u001b[0m \u001b[0mser\u001b[0m\u001b[1;33m.\u001b[0m\u001b[0mreindex\u001b[0m\u001b[1;33m(\u001b[0m\u001b[0mnew_ix\u001b[0m\u001b[1;33m)\u001b[0m\u001b[1;33m.\u001b[0m\u001b[0m_values\u001b[0m\u001b[1;33m\u001b[0m\u001b[1;33m\u001b[0m\u001b[0m\n\u001b[0m\u001b[0;32m    741\u001b[0m \u001b[1;33m\u001b[0m\u001b[0m\n\u001b[0;32m    742\u001b[0m                 \u001b[1;31m# 2 dims\u001b[0m\u001b[1;33m\u001b[0m\u001b[1;33m\u001b[0m\u001b[1;33m\u001b[0m\u001b[0m\n",
      "\u001b[1;32m~\\Anaconda3\\lib\\site-packages\\pandas\\core\\series.py\u001b[0m in \u001b[0;36mreindex\u001b[1;34m(self, index, **kwargs)\u001b[0m\n\u001b[0;32m   3736\u001b[0m     \u001b[1;33m@\u001b[0m\u001b[0mAppender\u001b[0m\u001b[1;33m(\u001b[0m\u001b[0mgeneric\u001b[0m\u001b[1;33m.\u001b[0m\u001b[0mNDFrame\u001b[0m\u001b[1;33m.\u001b[0m\u001b[0mreindex\u001b[0m\u001b[1;33m.\u001b[0m\u001b[0m__doc__\u001b[0m\u001b[1;33m)\u001b[0m\u001b[1;33m\u001b[0m\u001b[1;33m\u001b[0m\u001b[0m\n\u001b[0;32m   3737\u001b[0m     \u001b[1;32mdef\u001b[0m \u001b[0mreindex\u001b[0m\u001b[1;33m(\u001b[0m\u001b[0mself\u001b[0m\u001b[1;33m,\u001b[0m \u001b[0mindex\u001b[0m\u001b[1;33m=\u001b[0m\u001b[1;32mNone\u001b[0m\u001b[1;33m,\u001b[0m \u001b[1;33m**\u001b[0m\u001b[0mkwargs\u001b[0m\u001b[1;33m)\u001b[0m\u001b[1;33m:\u001b[0m\u001b[1;33m\u001b[0m\u001b[1;33m\u001b[0m\u001b[0m\n\u001b[1;32m-> 3738\u001b[1;33m         \u001b[1;32mreturn\u001b[0m \u001b[0msuper\u001b[0m\u001b[1;33m(\u001b[0m\u001b[0mSeries\u001b[0m\u001b[1;33m,\u001b[0m \u001b[0mself\u001b[0m\u001b[1;33m)\u001b[0m\u001b[1;33m.\u001b[0m\u001b[0mreindex\u001b[0m\u001b[1;33m(\u001b[0m\u001b[0mindex\u001b[0m\u001b[1;33m=\u001b[0m\u001b[0mindex\u001b[0m\u001b[1;33m,\u001b[0m \u001b[1;33m**\u001b[0m\u001b[0mkwargs\u001b[0m\u001b[1;33m)\u001b[0m\u001b[1;33m\u001b[0m\u001b[1;33m\u001b[0m\u001b[0m\n\u001b[0m\u001b[0;32m   3739\u001b[0m \u001b[1;33m\u001b[0m\u001b[0m\n\u001b[0;32m   3740\u001b[0m     def drop(self, labels=None, axis=0, index=None, columns=None,\n",
      "\u001b[1;32m~\\Anaconda3\\lib\\site-packages\\pandas\\core\\generic.py\u001b[0m in \u001b[0;36mreindex\u001b[1;34m(self, *args, **kwargs)\u001b[0m\n\u001b[0;32m   4354\u001b[0m         \u001b[1;31m# perform the reindex on the axes\u001b[0m\u001b[1;33m\u001b[0m\u001b[1;33m\u001b[0m\u001b[1;33m\u001b[0m\u001b[0m\n\u001b[0;32m   4355\u001b[0m         return self._reindex_axes(axes, level, limit, tolerance, method,\n\u001b[1;32m-> 4356\u001b[1;33m                                   fill_value, copy).__finalize__(self)\n\u001b[0m\u001b[0;32m   4357\u001b[0m \u001b[1;33m\u001b[0m\u001b[0m\n\u001b[0;32m   4358\u001b[0m     def _reindex_axes(self, axes, level, limit, tolerance, method, fill_value,\n",
      "\u001b[1;32m~\\Anaconda3\\lib\\site-packages\\pandas\\core\\generic.py\u001b[0m in \u001b[0;36m_reindex_axes\u001b[1;34m(self, axes, level, limit, tolerance, method, fill_value, copy)\u001b[0m\n\u001b[0;32m   4372\u001b[0m             obj = obj._reindex_with_indexers({axis: [new_index, indexer]},\n\u001b[0;32m   4373\u001b[0m                                              \u001b[0mfill_value\u001b[0m\u001b[1;33m=\u001b[0m\u001b[0mfill_value\u001b[0m\u001b[1;33m,\u001b[0m\u001b[1;33m\u001b[0m\u001b[1;33m\u001b[0m\u001b[0m\n\u001b[1;32m-> 4374\u001b[1;33m                                              copy=copy, allow_dups=False)\n\u001b[0m\u001b[0;32m   4375\u001b[0m \u001b[1;33m\u001b[0m\u001b[0m\n\u001b[0;32m   4376\u001b[0m         \u001b[1;32mreturn\u001b[0m \u001b[0mobj\u001b[0m\u001b[1;33m\u001b[0m\u001b[1;33m\u001b[0m\u001b[0m\n",
      "\u001b[1;32m~\\Anaconda3\\lib\\site-packages\\pandas\\core\\generic.py\u001b[0m in \u001b[0;36m_reindex_with_indexers\u001b[1;34m(self, reindexers, fill_value, copy, allow_dups)\u001b[0m\n\u001b[0;32m   4488\u001b[0m                                                 \u001b[0mfill_value\u001b[0m\u001b[1;33m=\u001b[0m\u001b[0mfill_value\u001b[0m\u001b[1;33m,\u001b[0m\u001b[1;33m\u001b[0m\u001b[1;33m\u001b[0m\u001b[0m\n\u001b[0;32m   4489\u001b[0m                                                 \u001b[0mallow_dups\u001b[0m\u001b[1;33m=\u001b[0m\u001b[0mallow_dups\u001b[0m\u001b[1;33m,\u001b[0m\u001b[1;33m\u001b[0m\u001b[1;33m\u001b[0m\u001b[0m\n\u001b[1;32m-> 4490\u001b[1;33m                                                 copy=copy)\n\u001b[0m\u001b[0;32m   4491\u001b[0m \u001b[1;33m\u001b[0m\u001b[0m\n\u001b[0;32m   4492\u001b[0m         \u001b[1;32mif\u001b[0m \u001b[0mcopy\u001b[0m \u001b[1;32mand\u001b[0m \u001b[0mnew_data\u001b[0m \u001b[1;32mis\u001b[0m \u001b[0mself\u001b[0m\u001b[1;33m.\u001b[0m\u001b[0m_data\u001b[0m\u001b[1;33m:\u001b[0m\u001b[1;33m\u001b[0m\u001b[1;33m\u001b[0m\u001b[0m\n",
      "\u001b[1;32m~\\Anaconda3\\lib\\site-packages\\pandas\\core\\internals\\managers.py\u001b[0m in \u001b[0;36mreindex_indexer\u001b[1;34m(self, new_axis, indexer, axis, fill_value, allow_dups, copy)\u001b[0m\n\u001b[0;32m   1222\u001b[0m         \u001b[1;31m# some axes don't allow reindexing with dups\u001b[0m\u001b[1;33m\u001b[0m\u001b[1;33m\u001b[0m\u001b[1;33m\u001b[0m\u001b[0m\n\u001b[0;32m   1223\u001b[0m         \u001b[1;32mif\u001b[0m \u001b[1;32mnot\u001b[0m \u001b[0mallow_dups\u001b[0m\u001b[1;33m:\u001b[0m\u001b[1;33m\u001b[0m\u001b[1;33m\u001b[0m\u001b[0m\n\u001b[1;32m-> 1224\u001b[1;33m             \u001b[0mself\u001b[0m\u001b[1;33m.\u001b[0m\u001b[0maxes\u001b[0m\u001b[1;33m[\u001b[0m\u001b[0maxis\u001b[0m\u001b[1;33m]\u001b[0m\u001b[1;33m.\u001b[0m\u001b[0m_can_reindex\u001b[0m\u001b[1;33m(\u001b[0m\u001b[0mindexer\u001b[0m\u001b[1;33m)\u001b[0m\u001b[1;33m\u001b[0m\u001b[1;33m\u001b[0m\u001b[0m\n\u001b[0m\u001b[0;32m   1225\u001b[0m \u001b[1;33m\u001b[0m\u001b[0m\n\u001b[0;32m   1226\u001b[0m         \u001b[1;32mif\u001b[0m \u001b[0maxis\u001b[0m \u001b[1;33m>=\u001b[0m \u001b[0mself\u001b[0m\u001b[1;33m.\u001b[0m\u001b[0mndim\u001b[0m\u001b[1;33m:\u001b[0m\u001b[1;33m\u001b[0m\u001b[1;33m\u001b[0m\u001b[0m\n",
      "\u001b[1;32m~\\Anaconda3\\lib\\site-packages\\pandas\\core\\indexes\\base.py\u001b[0m in \u001b[0;36m_can_reindex\u001b[1;34m(self, indexer)\u001b[0m\n\u001b[0;32m   3085\u001b[0m         \u001b[1;31m# trying to reindex on an axis with duplicates\u001b[0m\u001b[1;33m\u001b[0m\u001b[1;33m\u001b[0m\u001b[1;33m\u001b[0m\u001b[0m\n\u001b[0;32m   3086\u001b[0m         \u001b[1;32mif\u001b[0m \u001b[1;32mnot\u001b[0m \u001b[0mself\u001b[0m\u001b[1;33m.\u001b[0m\u001b[0mis_unique\u001b[0m \u001b[1;32mand\u001b[0m \u001b[0mlen\u001b[0m\u001b[1;33m(\u001b[0m\u001b[0mindexer\u001b[0m\u001b[1;33m)\u001b[0m\u001b[1;33m:\u001b[0m\u001b[1;33m\u001b[0m\u001b[1;33m\u001b[0m\u001b[0m\n\u001b[1;32m-> 3087\u001b[1;33m             \u001b[1;32mraise\u001b[0m \u001b[0mValueError\u001b[0m\u001b[1;33m(\u001b[0m\u001b[1;34m\"cannot reindex from a duplicate axis\"\u001b[0m\u001b[1;33m)\u001b[0m\u001b[1;33m\u001b[0m\u001b[1;33m\u001b[0m\u001b[0m\n\u001b[0m\u001b[0;32m   3088\u001b[0m \u001b[1;33m\u001b[0m\u001b[0m\n\u001b[0;32m   3089\u001b[0m     def reindex(self, target, method=None, level=None, limit=None,\n",
      "\u001b[1;31mValueError\u001b[0m: cannot reindex from a duplicate axis"
     ]
    }
   ],
   "source": [
    "for i in range(0,len(dfSprint1)):\n",
    "    task = copy.deepcopy(dfSprint1.iloc[i,:])\n",
    "    dagIndex = 0\n",
    "    print(task.Task + \" met: \" + str(task.Voltooid))\n",
    "    while (task.Voltooid==False) & (dagIndex < 5):\n",
    "        print(task.Voltooid)\n",
    "        print(\"inplannen van \" + task.Task)\n",
    "        InplannenOpdracht(task,dagIndex)\n",
    "        task = dfSprint1.iloc[i,:]\n",
    "        dagIndex = dagIndex + 1"
   ]
  },
  {
   "cell_type": "code",
   "execution_count": 44,
   "metadata": {},
   "outputs": [],
   "source": [
    "dfKalender = dfk\n",
    "dfSprint1 = dfs"
   ]
  },
  {
   "cell_type": "code",
   "execution_count": null,
   "metadata": {},
   "outputs": [],
   "source": [
    "tasktest = dfSprint1[dfSprint1['Task'] == 'S1C2T3A']"
   ]
  },
  {
   "cell_type": "code",
   "execution_count": null,
   "metadata": {},
   "outputs": [],
   "source": [
    "tasktest.Mogelijkheden[1].dfMogelijkheden.iloc[5,0]"
   ]
  },
  {
   "cell_type": "markdown",
   "metadata": {},
   "source": [
    "!TODO mogelijkheden sorteren op mogelijkheden, niet op kamers. > techA, TechB in plaats van TechA,TechB"
   ]
  },
  {
   "cell_type": "code",
   "execution_count": null,
   "metadata": {},
   "outputs": [],
   "source": [
    "dfSprint1.Mogelijkheden[1].dfMogelijkheden"
   ]
  },
  {
   "cell_type": "code",
   "execution_count": null,
   "metadata": {},
   "outputs": [],
   "source": [
    "dfKalender.iloc[0,:].DagRooster.dfRooster"
   ]
  }
 ],
 "metadata": {
  "kernelspec": {
   "display_name": "Python 3",
   "language": "python",
   "name": "python3"
  },
  "language_info": {
   "codemirror_mode": {
    "name": "ipython",
    "version": 3
   },
   "file_extension": ".py",
   "mimetype": "text/x-python",
   "name": "python",
   "nbconvert_exporter": "python",
   "pygments_lexer": "ipython3",
   "version": "3.7.3"
  }
 },
 "nbformat": 4,
 "nbformat_minor": 2
}
