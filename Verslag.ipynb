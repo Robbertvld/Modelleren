{
 "cells": [
  {
   "cell_type": "markdown",
   "metadata": {},
   "source": [
    "# Verslag modelleren"
   ]
  },
  {
   "cell_type": "markdown",
   "metadata": {},
   "source": [
    "*gemaakt door Kees Brouwer en Robbert van Nieuwkerk*"
   ]
  },
  {
   "cell_type": "markdown",
   "metadata": {},
   "source": [
    "Eerst het importeren van de benodigde libraries"
   ]
  },
  {
   "cell_type": "markdown",
   "metadata": {},
   "source": [
    "misschien handige code om te gebruiken:"
   ]
  },
  {
   "cell_type": "markdown",
   "metadata": {},
   "source": [
    "%pwd (de data moet in je workdirectery staan)\n"
   ]
  },
  {
   "cell_type": "code",
   "execution_count": 1,
   "metadata": {},
   "outputs": [],
   "source": [
    "import numpy as np\n",
    "import pandas as pd\n",
    "import datetime"
   ]
  },
  {
   "cell_type": "markdown",
   "metadata": {},
   "source": [
    "er moet ook nog een keer worden uitgelegd wat er in welk df staat en wat er met ieder df is gedaan voordat het geimporteerd is. !TODO"
   ]
  },
  {
   "cell_type": "code",
   "execution_count": 2,
   "metadata": {},
   "outputs": [],
   "source": [
    "dfProjectTasks = pd.read_excel('MODPRdataset.xlsx', sheet_name ='Project tasks')\n",
    "dfAdditionalTasks = pd.read_excel('MODPRdataset.xlsx', sheet_name ='Additional tasks')\n",
    "dfCrew = pd.read_excel('MODPRdataset.xlsx', sheet_name ='Crew')\n",
    "dfRooms = pd.read_excel('MODPRdataset.xlsx', sheet_name ='Rooms')\n",
    "dfHiring = pd.read_excel('MODPRdataset.xlsx', sheet_name ='Hiring')"
   ]
  },
  {
   "cell_type": "markdown",
   "metadata": {},
   "source": [
    "Het schoonmaken van de cel, hierdoor kunnen we waardes makkelijker worden teruggevonden dan NaN"
   ]
  },
  {
   "cell_type": "code",
   "execution_count": 3,
   "metadata": {},
   "outputs": [],
   "source": [
    "dfProjectTasks = dfProjectTasks.fillna(0)\n",
    "dfAdditionalTasks = dfAdditionalTasks.fillna(0)\n",
    "dfCrew = dfCrew.fillna(0)\n",
    "dfRooms = dfRooms.fillna(1)"
   ]
  },
  {
   "cell_type": "code",
   "execution_count": 4,
   "metadata": {},
   "outputs": [],
   "source": [
    "dfProjectTasks.replace(\"x\", 1, inplace=True)\n",
    "dfAdditionalTasks.replace(\"x\", 1, inplace=True)\n",
    "dfCrew.replace(\"x\", 1, inplace=True)\n"
   ]
  },
  {
   "cell_type": "markdown",
   "metadata": {},
   "source": [
    "**Belangrijke info voor het plannen**\n",
    "- De ingehuurde mensen hebben skill 1 en 8 \n",
    "- kort inhuren is maximaal 60 uur\n",
    "- het bedrijf is van 9-18 open\n",
    "- een crewlid kan niet meer dan 3 uur achter elkaar werken (hoe lang is de pauze die moet worden genomen? !TODO)\n",
    "- een crewlid werkt nooit meer dan 7 uur op een dag\n",
    "- kan een 'acquire skill' maar 1 keer per sprint worden gedaan of kunnen meerdere personen er een volgen? !TODO\n",
    "- crewleden moet te samen aan de skills komen voor de opdracht.\n",
    "- moeten de mensen die skill 1 nog niet hebben deze ook leren? !TODO\n",
    "- kan een crewlid eerst een uur aan het ene project werken, dit niet afronden en dan nog aan een ander project? !TODO\n",
    "- moet iedereen tegelijk aan het project werken"
   ]
  },
  {
   "cell_type": "markdown",
   "metadata": {},
   "source": [
    "Stel we maken een soort kalender, startend op 1 januari 2020. \n",
    "Hiervan maken we een dataframe met de volgende kolommen:\n",
    "- datum\n",
    "- de taak\n",
    "- persoon die het uitvoerd\n",
    "- begintijd \n",
    "- eindtijd\n",
    "- Tijdsduur?\n",
    "- Of het crewlid is ingehuurd (T/F)\n",
    "- Kosten zodra het crewlid is ingehuurd\n",
    "- Of het een werkdag is (T/F)"
   ]
  },
  {
   "cell_type": "code",
   "execution_count": 5,
   "metadata": {},
   "outputs": [],
   "source": [
    "data = pd.date_range(\"2020-01-01\", periods=4*10*7, freq='D')\n",
    "\n",
    "columns = ['Datum', 'Task','Crewlid', 'begintijd', 'eindtijd', 'tijdsduur', 'ingehuurd', 'kosten', 'werkdag']\n",
    "\n",
    "dfKalender = pd.DataFrame(columns=columns)\n",
    "dfKalender['Datum'] = data\n",
    "dfKalender = dfKalender.fillna(0)\n",
    "dfKalender.replace(\"0\", False, inplace=True)\n"
   ]
  },
  {
   "cell_type": "markdown",
   "metadata": {},
   "source": [
    "Het toevoegen of een dag een werkdag is. Er wordt in het weekend niet gewerkt dus deze dagen zullen afvallen."
   ]
  },
  {
   "cell_type": "code",
   "execution_count": 6,
   "metadata": {},
   "outputs": [],
   "source": [
    "dfKalender['werkdag'] = dfKalender['Datum'].apply(lambda Datum: Datum.isoweekday() in range (1,6))"
   ]
  },
  {
   "cell_type": "markdown",
   "metadata": {},
   "source": [
    "Er moet een functie zijn die kan worden aangeroepen om te kijken of een taak door een bepaald persoon kan worden uitgevoerd.\n",
    "\n",
    "Hier moeten de eisen van de opdracht worden meegegeven en een persoon. Vervolgens krijg je een boolean terug of het kan."
   ]
  },
  {
   "cell_type": "code",
   "execution_count": 10,
   "metadata": {},
   "outputs": [],
   "source": [
    "# een paar standaard variabele om de code leesbaar te maken.\n",
    "rangeSkills = range(1,14)\n",
    "rangeWorkdays = range(14,19)\n",
    "rangeRooms = range(14,20)"
   ]
  },
  {
   "cell_type": "markdown",
   "metadata": {},
   "source": [
    "functie waarbij de lijst van ReqSkill moet worden ingevuld van de Task en de skills van een persoon. De functie geeft een boolean terug of deze taak door deze persoon kan worden gedaan.\n",
    "\n",
    "voorbeeld: <br>\n",
    "OpdrachtUitvoeren(dfProjectTasks.iloc[0,rangeSkills],dfCrew.iloc[0,rangeSkills]) \n",
    "<br>uitkomst: False"
   ]
  },
  {
   "cell_type": "code",
   "execution_count": 12,
   "metadata": {},
   "outputs": [],
   "source": [
    "def OpdrachtUitvoerenPersoonBool(eisen, persoon):\n",
    "    for i in rangeSkills:\n",
    "        result = (int(eisen[i-1]) <= \n",
    "                  int(persoon[i-1]))\n",
    "        if result == False:\n",
    "            break\n",
    "    return result"
   ]
  },
  {
   "cell_type": "markdown",
   "metadata": {},
   "source": [
    "de functie hieronder voegt de skills van personen samen en geeft de gezamelijke skills terug.\n",
    "\n",
    "voorbeeld: PersonenSamenvoegen(dfCrew.iloc[0,rangeSkills],dfCrew.iloc[2,rangeSkills])\n",
    "<br>\n",
    "uitkomst: [1, 1, 1, 1, 1, 1, 0, 1, 1, 1, 1, 1, 1]"
   ]
  },
  {
   "cell_type": "code",
   "execution_count": 17,
   "metadata": {},
   "outputs": [],
   "source": [
    "def PersonenSamenvoegen(persoon1, persoon2, persoon3 = None, persoon4 = None, persoon5 = None, persoon6 = None):\n",
    "    combinedSkill = []\n",
    "    for i in rangeSkills:\n",
    "        combinedSkill.append(1 if persoon1[i-1]+persoon2[i-1] > 0 else 0) \n",
    "                             \n",
    "    print (combinedSkill)"
   ]
  },
  {
   "cell_type": "code",
   "execution_count": null,
   "metadata": {},
   "outputs": [],
   "source": []
  }
 ],
 "metadata": {
  "kernelspec": {
   "display_name": "Python 3",
   "language": "python",
   "name": "python3"
  },
  "language_info": {
   "codemirror_mode": {
    "name": "ipython",
    "version": 3
   },
   "file_extension": ".py",
   "mimetype": "text/x-python",
   "name": "python",
   "nbconvert_exporter": "python",
   "pygments_lexer": "ipython3",
   "version": "3.7.3"
  }
 },
 "nbformat": 4,
 "nbformat_minor": 2
}
